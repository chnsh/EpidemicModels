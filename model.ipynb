{
 "cells": [
  {
   "cell_type": "code",
   "execution_count": 1,
   "metadata": {},
   "outputs": [
    {
     "name": "stderr",
     "output_type": "stream",
     "text": [
      "INFO:root:Test\n"
     ]
    }
   ],
   "source": [
    "%matplotlib inline\n",
    "import pandas as pd\n",
    "import numpy as np\n",
    "import matplotlib.pyplot as plt\n",
    "import logging\n",
    "import h5py\n",
    "import gzip\n",
    "import json\n",
    "import os\n",
    "import tqdm\n",
    "\n",
    "import warnings\n",
    "warnings.filterwarnings('ignore')\n",
    "\n",
    "import ipywidgets as widgets\n",
    "from ipywidgets import interact, interact_manual\n",
    "\n",
    "logging.basicConfig()\n",
    "logger = logging.getLogger()\n",
    "logger.setLevel(logging.INFO)\n",
    "logger.info(\"Test\")"
   ]
  },
  {
   "cell_type": "markdown",
   "metadata": {},
   "source": [
    "# Define Dataset"
   ]
  },
  {
   "cell_type": "code",
   "execution_count": 2,
   "metadata": {},
   "outputs": [],
   "source": [
    "import torch\n",
    "from torch.utils.data import Dataset, DataLoader\n",
    "\n",
    "\n",
    "class HDF5Dataset(Dataset):\n",
    "    def __init__(self, name, first_n=10):\n",
    "        \"\"\"\n",
    "        :name: test/train\n",
    "        :first_n: (temporary) first_n places of origin\n",
    "        \"\"\"\n",
    "        super(HDF5Dataset, self).__init__()\n",
    "        self.first_n = first_n\n",
    "        self.hf = h5py.File(\"data/EpiGCN/train_test.hdf5\", \"r\")\n",
    "        self.data = self.hf.get(\"x_train\") if name == \"train\" else self.hf.get(\"x_test\")\n",
    "        self.target = (\n",
    "            self.hf.get(\"y_train\") if name == \"train\" else self.hf.get(\"y_test\")\n",
    "        )\n",
    "\n",
    "    def __getitem__(self, index):\n",
    "        return (\n",
    "            torch.from_numpy(self.data[index, :self.first_n, :, :, [1, 2]].astype(\"float\")).float(),\n",
    "            torch.from_numpy(\n",
    "                self.target[index, :self.first_n, :, :, [1, 2]].astype(\"float\")\n",
    "            ).float(),\n",
    "        )\n",
    "\n",
    "    def __len__(self):\n",
    "        return self.data.shape[0]\n",
    "\n",
    "    def __del__(self):\n",
    "        self.hf.close()"
   ]
  },
  {
   "cell_type": "markdown",
   "metadata": {},
   "source": [
    "# Define Dataloader"
   ]
  },
  {
   "cell_type": "code",
   "execution_count": 2,
   "metadata": {},
   "outputs": [
    {
     "ename": "NameError",
     "evalue": "name 'HDF5Dataset' is not defined",
     "output_type": "error",
     "traceback": [
      "\u001b[0;31m---------------------------------------------------------------------------\u001b[0m",
      "\u001b[0;31mNameError\u001b[0m                                 Traceback (most recent call last)",
      "\u001b[0;32m<ipython-input-2-b7e56a24cb86>\u001b[0m in \u001b[0;36m<module>\u001b[0;34m\u001b[0m\n\u001b[1;32m      2\u001b[0m \u001b[0mfirst_n\u001b[0m \u001b[0;34m=\u001b[0m \u001b[0;36m100\u001b[0m\u001b[0;34m\u001b[0m\u001b[0;34m\u001b[0m\u001b[0m\n\u001b[1;32m      3\u001b[0m \u001b[0;34m\u001b[0m\u001b[0m\n\u001b[0;32m----> 4\u001b[0;31m \u001b[0mtrain_dataset\u001b[0m \u001b[0;34m=\u001b[0m \u001b[0mHDF5Dataset\u001b[0m\u001b[0;34m(\u001b[0m\u001b[0;34m\"train\"\u001b[0m\u001b[0;34m,\u001b[0m \u001b[0mfirst_n\u001b[0m\u001b[0;34m=\u001b[0m\u001b[0mfirst_n\u001b[0m\u001b[0;34m)\u001b[0m\u001b[0;34m\u001b[0m\u001b[0;34m\u001b[0m\u001b[0m\n\u001b[0m\u001b[1;32m      5\u001b[0m \u001b[0mtrain_dataloader\u001b[0m \u001b[0;34m=\u001b[0m \u001b[0mDataLoader\u001b[0m\u001b[0;34m(\u001b[0m\u001b[0mtrain_dataset\u001b[0m\u001b[0;34m,\u001b[0m \u001b[0;34m**\u001b[0m\u001b[0mparams\u001b[0m\u001b[0;34m)\u001b[0m\u001b[0;34m\u001b[0m\u001b[0;34m\u001b[0m\u001b[0m\n\u001b[1;32m      6\u001b[0m \u001b[0;34m\u001b[0m\u001b[0m\n",
      "\u001b[0;31mNameError\u001b[0m: name 'HDF5Dataset' is not defined"
     ]
    }
   ],
   "source": [
    "params = {\"batch_size\": 24, \"shuffle\": True}\n",
    "first_n = 100\n",
    "\n",
    "train_dataset = HDF5Dataset(\"train\", first_n=first_n)\n",
    "train_dataloader = DataLoader(train_dataset, **params)\n",
    "\n",
    "test_dataset = HDF5Dataset(\"test\", first_n=first_n)\n",
    "test_dataloader = DataLoader(test_dataset, **params)"
   ]
  },
  {
   "cell_type": "code",
   "execution_count": 4,
   "metadata": {},
   "outputs": [
    {
     "name": "stdout",
     "output_type": "stream",
     "text": [
      "cuda:0\n"
     ]
    }
   ],
   "source": [
    "use_cuda = torch.cuda.is_available()\n",
    "device = torch.device(\"cuda:0\" if use_cuda else \"cpu\")\n",
    "print(device)"
   ]
  },
  {
   "cell_type": "markdown",
   "metadata": {},
   "source": [
    "# Define the Model!"
   ]
  },
  {
   "cell_type": "code",
   "execution_count": 33,
   "metadata": {},
   "outputs": [],
   "source": [
    "import torch.nn as nn\n",
    "import torch.nn.functional as F\n",
    "\n",
    "\n",
    "class BaselineLSTM(nn.Module):\n",
    "    def __init__(self, input_size, hidden_size):\n",
    "        super(BaselineLSTM, self).__init__()\n",
    "        self.lstm = nn.LSTM(\n",
    "            input_size=input_size, hidden_size=hidden_size, batch_first=True\n",
    "        )\n",
    "        self.linear = nn.Linear(hidden_size, input_size)\n",
    "\n",
    "    def forward(self, lstm_input):\n",
    "        \"\"\"\n",
    "        :lstm_input: (b, first_n, 232, 10, 2)\n",
    "        \"\"\"\n",
    "        b, first_n, n_countries, seq_len, sym = lstm_input.size()\n",
    "        lstm_input = lstm_input.permute(0, 3, 1, 2, 4)\n",
    "        _, (hn, __) = self.lstm(lstm_input.contiguous().view(b, seq_len, -1))\n",
    "        return self.linear(hn).view(b, first_n, n_countries, 1, sym)"
   ]
  },
  {
   "cell_type": "markdown",
   "metadata": {},
   "source": [
    "# Ignite!"
   ]
  },
  {
   "cell_type": "code",
   "execution_count": null,
   "metadata": {},
   "outputs": [],
   "source": [
    "from torch.utils.tensorboard import SummaryWriter\n",
    "from ignite.engine import Events, create_supervised_trainer, create_supervised_evaluator\n",
    "from ignite.metrics import Loss\n",
    "from ignite.contrib.handlers.tensorboard_logger import *\n",
    "\n",
    "model = BaselineLSTM(input_size=232 * first_n * 2, hidden_size=1024)\n",
    "optimizer = torch.optim.Adam(model.parameters(), lr=0.001)\n",
    "lr_scheduler = torch.optim.lr_scheduler.ReduceLROnPlateau(optimizer, patience=5)\n",
    "\n",
    "mse = torch.nn.MSELoss()\n",
    "mae = torch.nn.L1Loss()\n",
    "\n",
    "tb_logger = TensorboardLogger(log_dir=\"experiments/tb_logs/runs/lr_scheduler\")\n",
    "\n",
    "trainer = create_supervised_trainer(model, optimizer, mae, device=device)\n",
    "\n",
    "metrics = {\"mae\": Loss(mae), \"mse\": Loss(mse)}\n",
    "\n",
    "train_evaluator = create_supervised_evaluator(model, metrics=metrics, device=device)\n",
    "validation_evaluator = create_supervised_evaluator(\n",
    "    model, metrics=metrics, device=device\n",
    ")\n",
    "\n",
    "tb_logger.attach(\n",
    "    trainer,\n",
    "    log_handler=OutputHandler(\n",
    "        tag=\"training\", output_transform=lambda loss: {\"loss\": loss}\n",
    "    ),\n",
    "    event_name=Events.ITERATION_COMPLETED,\n",
    ")\n",
    "\n",
    "tb_logger.attach(\n",
    "    train_evaluator,\n",
    "    log_handler=OutputHandler(\n",
    "        tag=\"training\",\n",
    "        metric_names=[\"mae\", \"mse\"],\n",
    "        global_step_transform=global_step_from_engine(trainer),\n",
    "    ),\n",
    "    event_name=Events.EPOCH_COMPLETED,\n",
    ")\n",
    "\n",
    "tb_logger.attach(\n",
    "    validation_evaluator,\n",
    "    log_handler=OutputHandler(\n",
    "        tag=\"validation\",\n",
    "        metric_names=[\"mae\", \"mse\"],\n",
    "        global_step_transform=global_step_from_engine(trainer),\n",
    "    ),\n",
    "    event_name=Events.EPOCH_COMPLETED,\n",
    ")\n",
    "\n",
    "# Attach the logger to the trainer to log optimizer's parameters, e.g. learning rate at each iteration\n",
    "tb_logger.attach(\n",
    "    trainer,\n",
    "    log_handler=OptimizerParamsHandler(optimizer),\n",
    "    event_name=Events.ITERATION_STARTED,\n",
    ")\n",
    "\n",
    "# Attach the logger to the trainer to log model's weights norm after each iteration\n",
    "tb_logger.attach(\n",
    "    trainer,\n",
    "    log_handler=WeightsScalarHandler(model),\n",
    "    event_name=Events.ITERATION_COMPLETED,\n",
    ")\n",
    "\n",
    "# Attach the logger to the trainer to log model's weights as a histogram after each epoch\n",
    "tb_logger.attach(\n",
    "    trainer, log_handler=WeightsHistHandler(model), event_name=Events.EPOCH_COMPLETED\n",
    ")\n",
    "\n",
    "# Attach the logger to the trainer to log model's gradients norm after each iteration\n",
    "tb_logger.attach(\n",
    "    trainer,\n",
    "    log_handler=GradsScalarHandler(model),\n",
    "    event_name=Events.ITERATION_COMPLETED,\n",
    ")\n",
    "\n",
    "# Attach the logger to the trainer to log model's gradients as a histogram after each epoch\n",
    "tb_logger.attach(\n",
    "    trainer, log_handler=GradsHistHandler(model), event_name=Events.EPOCH_COMPLETED\n",
    ")\n",
    "\n",
    "\n",
    "@trainer.on(Events.ITERATION_COMPLETED)\n",
    "def log_training_loss(trainer):\n",
    "    logger.info(\n",
    "        \"Epoch[{}] Loss: {:.7f}\".format(trainer.state.epoch, trainer.state.output)\n",
    "    )\n",
    "\n",
    "\n",
    "@trainer.on(Events.EPOCH_COMPLETED)\n",
    "def log_training_results(trainer):\n",
    "    train_evaluator.run(train_dataloader)\n",
    "    metrics = train_evaluator.state.metrics\n",
    "    logger.info(\n",
    "        \"Training Results - Epoch: {} MSE: {:.7f} MAE: {:.7f}\".format(\n",
    "            trainer.state.epoch, metrics[\"mse\"], metrics[\"mae\"]\n",
    "        )\n",
    "    )\n",
    "\n",
    "\n",
    "@trainer.on(Events.EPOCH_COMPLETED)\n",
    "def log_validation_results(trainer):\n",
    "    validation_evaluator.run(test_dataloader)\n",
    "    metrics = validation_evaluator.state.metrics\n",
    "    logger.info(\n",
    "        \"Validation Results - Epoch: {} MSE: {:.7f} MAE: {:.7f}\".format(\n",
    "            trainer.state.epoch, metrics[\"mse\"], metrics[\"mae\"]\n",
    "        )\n",
    "    )\n",
    "    lr_scheduler.step(metrics[\"mae\"])\n",
    "\n",
    "\n",
    "trainer.run(train_dataloader, max_epochs=100)\n",
    "# We need to close the logger with we are done\n",
    "tb_logger.close()"
   ]
  },
  {
   "cell_type": "markdown",
   "metadata": {},
   "source": [
    "# Visualize results"
   ]
  },
  {
   "cell_type": "code",
   "execution_count": 35,
   "metadata": {},
   "outputs": [],
   "source": [
    "model.load_state_dict(torch.load('models/model_1.torch'))\n",
    "model = model.to(device)"
   ]
  },
  {
   "cell_type": "markdown",
   "metadata": {},
   "source": [
    "## Load Pickled Scaler"
   ]
  },
  {
   "cell_type": "code",
   "execution_count": 36,
   "metadata": {},
   "outputs": [],
   "source": [
    "import joblib\n",
    "scaler = joblib.load('data/EpiGCN/standard_scaler.pkl')"
   ]
  },
  {
   "cell_type": "code",
   "execution_count": 37,
   "metadata": {},
   "outputs": [],
   "source": [
    "def get_scaled_output(y):\n",
    "    y = y.view(-1, 2).numpy()\n",
    "    mean = scaler.mean_\n",
    "    scale = scaler.scale_[\n",
    "    return (scale * y + mean).reshape(-1, first_n, 232, 1, 2)"
   ]
  },
  {
   "cell_type": "code",
   "execution_count": 38,
   "metadata": {},
   "outputs": [
    {
     "ename": "RuntimeError",
     "evalue": "input.size(-1) must be equal to input_size. Expected 46400, got 107648",
     "output_type": "error",
     "traceback": [
      "\u001b[0;31m---------------------------------------------------------------------------\u001b[0m",
      "\u001b[0;31mRuntimeError\u001b[0m                              Traceback (most recent call last)",
      "\u001b[0;32m<ipython-input-38-064814a07403>\u001b[0m in \u001b[0;36m<module>\u001b[0;34m\u001b[0m\n\u001b[1;32m      2\u001b[0m \u001b[0;32mwith\u001b[0m \u001b[0mtorch\u001b[0m\u001b[0;34m.\u001b[0m\u001b[0mno_grad\u001b[0m\u001b[0;34m(\u001b[0m\u001b[0;34m)\u001b[0m\u001b[0;34m:\u001b[0m\u001b[0;34m\u001b[0m\u001b[0;34m\u001b[0m\u001b[0m\n\u001b[1;32m      3\u001b[0m     \u001b[0;32mfor\u001b[0m \u001b[0mbatch_x\u001b[0m\u001b[0;34m,\u001b[0m \u001b[0mbatch_y\u001b[0m \u001b[0;32min\u001b[0m \u001b[0mtest_dataloader\u001b[0m\u001b[0;34m:\u001b[0m\u001b[0;34m\u001b[0m\u001b[0;34m\u001b[0m\u001b[0m\n\u001b[0;32m----> 4\u001b[0;31m         \u001b[0mlogits\u001b[0m \u001b[0;34m=\u001b[0m \u001b[0mmodel\u001b[0m\u001b[0;34m(\u001b[0m\u001b[0mbatch_x\u001b[0m\u001b[0;34m.\u001b[0m\u001b[0mto\u001b[0m\u001b[0;34m(\u001b[0m\u001b[0mdevice\u001b[0m\u001b[0;34m)\u001b[0m\u001b[0;34m)\u001b[0m\u001b[0;34m\u001b[0m\u001b[0;34m\u001b[0m\u001b[0m\n\u001b[0m\u001b[1;32m      5\u001b[0m         \u001b[0mpredictions\u001b[0m\u001b[0;34m.\u001b[0m\u001b[0mappend\u001b[0m\u001b[0;34m(\u001b[0m\u001b[0mget_scaled_output\u001b[0m\u001b[0;34m(\u001b[0m\u001b[0mlogits\u001b[0m\u001b[0;34m.\u001b[0m\u001b[0mcpu\u001b[0m\u001b[0;34m(\u001b[0m\u001b[0;34m)\u001b[0m\u001b[0;34m)\u001b[0m\u001b[0;34m)\u001b[0m\u001b[0;34m\u001b[0m\u001b[0;34m\u001b[0m\u001b[0m\n\u001b[1;32m      6\u001b[0m         \u001b[0mtruth\u001b[0m\u001b[0;34m.\u001b[0m\u001b[0mappend\u001b[0m\u001b[0;34m(\u001b[0m\u001b[0mget_scaled_output\u001b[0m\u001b[0;34m(\u001b[0m\u001b[0mbatch_y\u001b[0m\u001b[0;34m.\u001b[0m\u001b[0mcpu\u001b[0m\u001b[0;34m(\u001b[0m\u001b[0;34m)\u001b[0m\u001b[0;34m)\u001b[0m\u001b[0;34m)\u001b[0m\u001b[0;34m\u001b[0m\u001b[0;34m\u001b[0m\u001b[0m\n",
      "\u001b[0;32m~/miniconda3/envs/epigcn/lib/python3.7/site-packages/torch/nn/modules/module.py\u001b[0m in \u001b[0;36m__call__\u001b[0;34m(self, *input, **kwargs)\u001b[0m\n\u001b[1;32m    539\u001b[0m             \u001b[0mresult\u001b[0m \u001b[0;34m=\u001b[0m \u001b[0mself\u001b[0m\u001b[0;34m.\u001b[0m\u001b[0m_slow_forward\u001b[0m\u001b[0;34m(\u001b[0m\u001b[0;34m*\u001b[0m\u001b[0minput\u001b[0m\u001b[0;34m,\u001b[0m \u001b[0;34m**\u001b[0m\u001b[0mkwargs\u001b[0m\u001b[0;34m)\u001b[0m\u001b[0;34m\u001b[0m\u001b[0;34m\u001b[0m\u001b[0m\n\u001b[1;32m    540\u001b[0m         \u001b[0;32melse\u001b[0m\u001b[0;34m:\u001b[0m\u001b[0;34m\u001b[0m\u001b[0;34m\u001b[0m\u001b[0m\n\u001b[0;32m--> 541\u001b[0;31m             \u001b[0mresult\u001b[0m \u001b[0;34m=\u001b[0m \u001b[0mself\u001b[0m\u001b[0;34m.\u001b[0m\u001b[0mforward\u001b[0m\u001b[0;34m(\u001b[0m\u001b[0;34m*\u001b[0m\u001b[0minput\u001b[0m\u001b[0;34m,\u001b[0m \u001b[0;34m**\u001b[0m\u001b[0mkwargs\u001b[0m\u001b[0;34m)\u001b[0m\u001b[0;34m\u001b[0m\u001b[0;34m\u001b[0m\u001b[0m\n\u001b[0m\u001b[1;32m    542\u001b[0m         \u001b[0;32mfor\u001b[0m \u001b[0mhook\u001b[0m \u001b[0;32min\u001b[0m \u001b[0mself\u001b[0m\u001b[0;34m.\u001b[0m\u001b[0m_forward_hooks\u001b[0m\u001b[0;34m.\u001b[0m\u001b[0mvalues\u001b[0m\u001b[0;34m(\u001b[0m\u001b[0;34m)\u001b[0m\u001b[0;34m:\u001b[0m\u001b[0;34m\u001b[0m\u001b[0;34m\u001b[0m\u001b[0m\n\u001b[1;32m    543\u001b[0m             \u001b[0mhook_result\u001b[0m \u001b[0;34m=\u001b[0m \u001b[0mhook\u001b[0m\u001b[0;34m(\u001b[0m\u001b[0mself\u001b[0m\u001b[0;34m,\u001b[0m \u001b[0minput\u001b[0m\u001b[0;34m,\u001b[0m \u001b[0mresult\u001b[0m\u001b[0;34m)\u001b[0m\u001b[0;34m\u001b[0m\u001b[0;34m\u001b[0m\u001b[0m\n",
      "\u001b[0;32m<ipython-input-33-9adb74fb1eee>\u001b[0m in \u001b[0;36mforward\u001b[0;34m(self, lstm_input)\u001b[0m\n\u001b[1;32m     17\u001b[0m         \u001b[0mb\u001b[0m\u001b[0;34m,\u001b[0m \u001b[0mfirst_n\u001b[0m\u001b[0;34m,\u001b[0m \u001b[0mn_countries\u001b[0m\u001b[0;34m,\u001b[0m \u001b[0mseq_len\u001b[0m\u001b[0;34m,\u001b[0m \u001b[0msym\u001b[0m \u001b[0;34m=\u001b[0m \u001b[0mlstm_input\u001b[0m\u001b[0;34m.\u001b[0m\u001b[0msize\u001b[0m\u001b[0;34m(\u001b[0m\u001b[0;34m)\u001b[0m\u001b[0;34m\u001b[0m\u001b[0;34m\u001b[0m\u001b[0m\n\u001b[1;32m     18\u001b[0m         \u001b[0mlstm_input\u001b[0m \u001b[0;34m=\u001b[0m \u001b[0mlstm_input\u001b[0m\u001b[0;34m.\u001b[0m\u001b[0mpermute\u001b[0m\u001b[0;34m(\u001b[0m\u001b[0;36m0\u001b[0m\u001b[0;34m,\u001b[0m \u001b[0;36m3\u001b[0m\u001b[0;34m,\u001b[0m \u001b[0;36m1\u001b[0m\u001b[0;34m,\u001b[0m \u001b[0;36m2\u001b[0m\u001b[0;34m,\u001b[0m \u001b[0;36m4\u001b[0m\u001b[0;34m)\u001b[0m\u001b[0;34m\u001b[0m\u001b[0;34m\u001b[0m\u001b[0m\n\u001b[0;32m---> 19\u001b[0;31m         \u001b[0m_\u001b[0m\u001b[0;34m,\u001b[0m \u001b[0;34m(\u001b[0m\u001b[0mhn\u001b[0m\u001b[0;34m,\u001b[0m \u001b[0m__\u001b[0m\u001b[0;34m)\u001b[0m \u001b[0;34m=\u001b[0m \u001b[0mself\u001b[0m\u001b[0;34m.\u001b[0m\u001b[0mlstm\u001b[0m\u001b[0;34m(\u001b[0m\u001b[0mlstm_input\u001b[0m\u001b[0;34m.\u001b[0m\u001b[0mcontiguous\u001b[0m\u001b[0;34m(\u001b[0m\u001b[0;34m)\u001b[0m\u001b[0;34m.\u001b[0m\u001b[0mview\u001b[0m\u001b[0;34m(\u001b[0m\u001b[0mb\u001b[0m\u001b[0;34m,\u001b[0m \u001b[0mseq_len\u001b[0m\u001b[0;34m,\u001b[0m \u001b[0;34m-\u001b[0m\u001b[0;36m1\u001b[0m\u001b[0;34m)\u001b[0m\u001b[0;34m)\u001b[0m\u001b[0;34m\u001b[0m\u001b[0;34m\u001b[0m\u001b[0m\n\u001b[0m\u001b[1;32m     20\u001b[0m         \u001b[0;32mreturn\u001b[0m \u001b[0mself\u001b[0m\u001b[0;34m.\u001b[0m\u001b[0mlinear\u001b[0m\u001b[0;34m(\u001b[0m\u001b[0mhn\u001b[0m\u001b[0;34m)\u001b[0m\u001b[0;34m.\u001b[0m\u001b[0mview\u001b[0m\u001b[0;34m(\u001b[0m\u001b[0mb\u001b[0m\u001b[0;34m,\u001b[0m \u001b[0mfirst_n\u001b[0m\u001b[0;34m,\u001b[0m \u001b[0mn_countries\u001b[0m\u001b[0;34m,\u001b[0m \u001b[0;36m1\u001b[0m\u001b[0;34m,\u001b[0m \u001b[0msym\u001b[0m\u001b[0;34m)\u001b[0m\u001b[0;34m\u001b[0m\u001b[0;34m\u001b[0m\u001b[0m\n",
      "\u001b[0;32m~/miniconda3/envs/epigcn/lib/python3.7/site-packages/torch/nn/modules/module.py\u001b[0m in \u001b[0;36m__call__\u001b[0;34m(self, *input, **kwargs)\u001b[0m\n\u001b[1;32m    539\u001b[0m             \u001b[0mresult\u001b[0m \u001b[0;34m=\u001b[0m \u001b[0mself\u001b[0m\u001b[0;34m.\u001b[0m\u001b[0m_slow_forward\u001b[0m\u001b[0;34m(\u001b[0m\u001b[0;34m*\u001b[0m\u001b[0minput\u001b[0m\u001b[0;34m,\u001b[0m \u001b[0;34m**\u001b[0m\u001b[0mkwargs\u001b[0m\u001b[0;34m)\u001b[0m\u001b[0;34m\u001b[0m\u001b[0;34m\u001b[0m\u001b[0m\n\u001b[1;32m    540\u001b[0m         \u001b[0;32melse\u001b[0m\u001b[0;34m:\u001b[0m\u001b[0;34m\u001b[0m\u001b[0;34m\u001b[0m\u001b[0m\n\u001b[0;32m--> 541\u001b[0;31m             \u001b[0mresult\u001b[0m \u001b[0;34m=\u001b[0m \u001b[0mself\u001b[0m\u001b[0;34m.\u001b[0m\u001b[0mforward\u001b[0m\u001b[0;34m(\u001b[0m\u001b[0;34m*\u001b[0m\u001b[0minput\u001b[0m\u001b[0;34m,\u001b[0m \u001b[0;34m**\u001b[0m\u001b[0mkwargs\u001b[0m\u001b[0;34m)\u001b[0m\u001b[0;34m\u001b[0m\u001b[0;34m\u001b[0m\u001b[0m\n\u001b[0m\u001b[1;32m    542\u001b[0m         \u001b[0;32mfor\u001b[0m \u001b[0mhook\u001b[0m \u001b[0;32min\u001b[0m \u001b[0mself\u001b[0m\u001b[0;34m.\u001b[0m\u001b[0m_forward_hooks\u001b[0m\u001b[0;34m.\u001b[0m\u001b[0mvalues\u001b[0m\u001b[0;34m(\u001b[0m\u001b[0;34m)\u001b[0m\u001b[0;34m:\u001b[0m\u001b[0;34m\u001b[0m\u001b[0;34m\u001b[0m\u001b[0m\n\u001b[1;32m    543\u001b[0m             \u001b[0mhook_result\u001b[0m \u001b[0;34m=\u001b[0m \u001b[0mhook\u001b[0m\u001b[0;34m(\u001b[0m\u001b[0mself\u001b[0m\u001b[0;34m,\u001b[0m \u001b[0minput\u001b[0m\u001b[0;34m,\u001b[0m \u001b[0mresult\u001b[0m\u001b[0;34m)\u001b[0m\u001b[0;34m\u001b[0m\u001b[0;34m\u001b[0m\u001b[0m\n",
      "\u001b[0;32m~/miniconda3/envs/epigcn/lib/python3.7/site-packages/torch/nn/modules/rnn.py\u001b[0m in \u001b[0;36mforward\u001b[0;34m(self, input, hx)\u001b[0m\n\u001b[1;32m    562\u001b[0m             \u001b[0;32mreturn\u001b[0m \u001b[0mself\u001b[0m\u001b[0;34m.\u001b[0m\u001b[0mforward_packed\u001b[0m\u001b[0;34m(\u001b[0m\u001b[0minput\u001b[0m\u001b[0;34m,\u001b[0m \u001b[0mhx\u001b[0m\u001b[0;34m)\u001b[0m\u001b[0;34m\u001b[0m\u001b[0;34m\u001b[0m\u001b[0m\n\u001b[1;32m    563\u001b[0m         \u001b[0;32melse\u001b[0m\u001b[0;34m:\u001b[0m\u001b[0;34m\u001b[0m\u001b[0;34m\u001b[0m\u001b[0m\n\u001b[0;32m--> 564\u001b[0;31m             \u001b[0;32mreturn\u001b[0m \u001b[0mself\u001b[0m\u001b[0;34m.\u001b[0m\u001b[0mforward_tensor\u001b[0m\u001b[0;34m(\u001b[0m\u001b[0minput\u001b[0m\u001b[0;34m,\u001b[0m \u001b[0mhx\u001b[0m\u001b[0;34m)\u001b[0m\u001b[0;34m\u001b[0m\u001b[0;34m\u001b[0m\u001b[0m\n\u001b[0m\u001b[1;32m    565\u001b[0m \u001b[0;34m\u001b[0m\u001b[0m\n\u001b[1;32m    566\u001b[0m \u001b[0;34m\u001b[0m\u001b[0m\n",
      "\u001b[0;32m~/miniconda3/envs/epigcn/lib/python3.7/site-packages/torch/nn/modules/rnn.py\u001b[0m in \u001b[0;36mforward_tensor\u001b[0;34m(self, input, hx)\u001b[0m\n\u001b[1;32m    541\u001b[0m         \u001b[0munsorted_indices\u001b[0m \u001b[0;34m=\u001b[0m \u001b[0;32mNone\u001b[0m\u001b[0;34m\u001b[0m\u001b[0;34m\u001b[0m\u001b[0m\n\u001b[1;32m    542\u001b[0m \u001b[0;34m\u001b[0m\u001b[0m\n\u001b[0;32m--> 543\u001b[0;31m         \u001b[0moutput\u001b[0m\u001b[0;34m,\u001b[0m \u001b[0mhidden\u001b[0m \u001b[0;34m=\u001b[0m \u001b[0mself\u001b[0m\u001b[0;34m.\u001b[0m\u001b[0mforward_impl\u001b[0m\u001b[0;34m(\u001b[0m\u001b[0minput\u001b[0m\u001b[0;34m,\u001b[0m \u001b[0mhx\u001b[0m\u001b[0;34m,\u001b[0m \u001b[0mbatch_sizes\u001b[0m\u001b[0;34m,\u001b[0m \u001b[0mmax_batch_size\u001b[0m\u001b[0;34m,\u001b[0m \u001b[0msorted_indices\u001b[0m\u001b[0;34m)\u001b[0m\u001b[0;34m\u001b[0m\u001b[0;34m\u001b[0m\u001b[0m\n\u001b[0m\u001b[1;32m    544\u001b[0m \u001b[0;34m\u001b[0m\u001b[0m\n\u001b[1;32m    545\u001b[0m         \u001b[0;32mreturn\u001b[0m \u001b[0moutput\u001b[0m\u001b[0;34m,\u001b[0m \u001b[0mself\u001b[0m\u001b[0;34m.\u001b[0m\u001b[0mpermute_hidden\u001b[0m\u001b[0;34m(\u001b[0m\u001b[0mhidden\u001b[0m\u001b[0;34m,\u001b[0m \u001b[0munsorted_indices\u001b[0m\u001b[0;34m)\u001b[0m\u001b[0;34m\u001b[0m\u001b[0;34m\u001b[0m\u001b[0m\n",
      "\u001b[0;32m~/miniconda3/envs/epigcn/lib/python3.7/site-packages/torch/nn/modules/rnn.py\u001b[0m in \u001b[0;36mforward_impl\u001b[0;34m(self, input, hx, batch_sizes, max_batch_size, sorted_indices)\u001b[0m\n\u001b[1;32m    521\u001b[0m             \u001b[0mhx\u001b[0m \u001b[0;34m=\u001b[0m \u001b[0mself\u001b[0m\u001b[0;34m.\u001b[0m\u001b[0mpermute_hidden\u001b[0m\u001b[0;34m(\u001b[0m\u001b[0mhx\u001b[0m\u001b[0;34m,\u001b[0m \u001b[0msorted_indices\u001b[0m\u001b[0;34m)\u001b[0m\u001b[0;34m\u001b[0m\u001b[0;34m\u001b[0m\u001b[0m\n\u001b[1;32m    522\u001b[0m \u001b[0;34m\u001b[0m\u001b[0m\n\u001b[0;32m--> 523\u001b[0;31m         \u001b[0mself\u001b[0m\u001b[0;34m.\u001b[0m\u001b[0mcheck_forward_args\u001b[0m\u001b[0;34m(\u001b[0m\u001b[0minput\u001b[0m\u001b[0;34m,\u001b[0m \u001b[0mhx\u001b[0m\u001b[0;34m,\u001b[0m \u001b[0mbatch_sizes\u001b[0m\u001b[0;34m)\u001b[0m\u001b[0;34m\u001b[0m\u001b[0;34m\u001b[0m\u001b[0m\n\u001b[0m\u001b[1;32m    524\u001b[0m         \u001b[0;32mif\u001b[0m \u001b[0mbatch_sizes\u001b[0m \u001b[0;32mis\u001b[0m \u001b[0;32mNone\u001b[0m\u001b[0;34m:\u001b[0m\u001b[0;34m\u001b[0m\u001b[0;34m\u001b[0m\u001b[0m\n\u001b[1;32m    525\u001b[0m             result = _VF.lstm(input, hx, self._get_flat_weights(), self.bias, self.num_layers,\n",
      "\u001b[0;32m~/miniconda3/envs/epigcn/lib/python3.7/site-packages/torch/nn/modules/rnn.py\u001b[0m in \u001b[0;36mcheck_forward_args\u001b[0;34m(self, input, hidden, batch_sizes)\u001b[0m\n\u001b[1;32m    494\u001b[0m     \u001b[0;32mdef\u001b[0m \u001b[0mcheck_forward_args\u001b[0m\u001b[0;34m(\u001b[0m\u001b[0mself\u001b[0m\u001b[0;34m,\u001b[0m \u001b[0minput\u001b[0m\u001b[0;34m,\u001b[0m \u001b[0mhidden\u001b[0m\u001b[0;34m,\u001b[0m \u001b[0mbatch_sizes\u001b[0m\u001b[0;34m)\u001b[0m\u001b[0;34m:\u001b[0m\u001b[0;34m\u001b[0m\u001b[0;34m\u001b[0m\u001b[0m\n\u001b[1;32m    495\u001b[0m         \u001b[0;31m# type: (Tensor, Tuple[Tensor, Tensor], Optional[Tensor]) -> None\u001b[0m\u001b[0;34m\u001b[0m\u001b[0;34m\u001b[0m\u001b[0;34m\u001b[0m\u001b[0m\n\u001b[0;32m--> 496\u001b[0;31m         \u001b[0mself\u001b[0m\u001b[0;34m.\u001b[0m\u001b[0mcheck_input\u001b[0m\u001b[0;34m(\u001b[0m\u001b[0minput\u001b[0m\u001b[0;34m,\u001b[0m \u001b[0mbatch_sizes\u001b[0m\u001b[0;34m)\u001b[0m\u001b[0;34m\u001b[0m\u001b[0;34m\u001b[0m\u001b[0m\n\u001b[0m\u001b[1;32m    497\u001b[0m         \u001b[0mexpected_hidden_size\u001b[0m \u001b[0;34m=\u001b[0m \u001b[0mself\u001b[0m\u001b[0;34m.\u001b[0m\u001b[0mget_expected_hidden_size\u001b[0m\u001b[0;34m(\u001b[0m\u001b[0minput\u001b[0m\u001b[0;34m,\u001b[0m \u001b[0mbatch_sizes\u001b[0m\u001b[0;34m)\u001b[0m\u001b[0;34m\u001b[0m\u001b[0;34m\u001b[0m\u001b[0m\n\u001b[1;32m    498\u001b[0m \u001b[0;34m\u001b[0m\u001b[0m\n",
      "\u001b[0;32m~/miniconda3/envs/epigcn/lib/python3.7/site-packages/torch/nn/modules/rnn.py\u001b[0m in \u001b[0;36mcheck_input\u001b[0;34m(self, input, batch_sizes)\u001b[0m\n\u001b[1;32m    147\u001b[0m             raise RuntimeError(\n\u001b[1;32m    148\u001b[0m                 'input.size(-1) must be equal to input_size. Expected {}, got {}'.format(\n\u001b[0;32m--> 149\u001b[0;31m                     self.input_size, input.size(-1)))\n\u001b[0m\u001b[1;32m    150\u001b[0m \u001b[0;34m\u001b[0m\u001b[0m\n\u001b[1;32m    151\u001b[0m     \u001b[0;32mdef\u001b[0m \u001b[0mget_expected_hidden_size\u001b[0m\u001b[0;34m(\u001b[0m\u001b[0mself\u001b[0m\u001b[0;34m,\u001b[0m \u001b[0minput\u001b[0m\u001b[0;34m,\u001b[0m \u001b[0mbatch_sizes\u001b[0m\u001b[0;34m)\u001b[0m\u001b[0;34m:\u001b[0m\u001b[0;34m\u001b[0m\u001b[0;34m\u001b[0m\u001b[0m\n",
      "\u001b[0;31mRuntimeError\u001b[0m: input.size(-1) must be equal to input_size. Expected 46400, got 107648"
     ]
    }
   ],
   "source": [
    "predictions, truth = [], []\n",
    "with torch.no_grad():\n",
    "    for batch_x, batch_y in test_dataloader:\n",
    "        logits = model(batch_x.to(device))\n",
    "        predictions.append(get_scaled_output(logits.cpu()))\n",
    "        truth.append(get_scaled_output(batch_y.cpu()))\n",
    "predictions = np.concatenate(predictions)\n",
    "truth = np.concatenate(truth)"
   ]
  },
  {
   "cell_type": "code",
   "execution_count": 61,
   "metadata": {},
   "outputs": [
    {
     "data": {
      "text/plain": [
       "(34, 100, 232, 1, 2)"
      ]
     },
     "execution_count": 61,
     "metadata": {},
     "output_type": "execute_result"
    }
   ],
   "source": [
    "truth.shape"
   ]
  },
  {
   "cell_type": "code",
   "execution_count": 81,
   "metadata": {},
   "outputs": [
    {
     "data": {
      "text/plain": [
       "<matplotlib.legend.Legend at 0x7fde2d235a90>"
      ]
     },
     "execution_count": 81,
     "metadata": {},
     "output_type": "execute_result"
    },
    {
     "data": {
      "image/png": "[encoded data removed]",
      "text/plain": [
       "<Figure size 1440x432 with 1 Axes>"
      ]
     },
     "metadata": {
      "needs_background": "light"
     },
     "output_type": "display_data"
    }
   ],
   "source": [
    "fig, ax = plt.subplots(figsize=(20, 6))\n",
    "ax.set_title(\"Incidence\", fontsize=20)\n",
    "ax.set_ylabel(\"Latent\", fontsize=20)\n",
    "ax.set_xlabel(\"Days\", fontsize=20)\n",
    "ax.plot(\n",
    "    predictions.mean(axis=(1, 2))[:, 0, 0], label=\"Prediction\",\n",
    ")\n",
    "ax.plot(truth.mean(axis=(1, 2))[:, 0, 0], label=\"Truth\")\n",
    "ax.legend()"
   ]
  },
  {
   "cell_type": "markdown",
   "metadata": {},
   "source": [
    "## Since ^ was miserable, let's model at the country level instead of the location"
   ]
  },
  {
   "cell_type": "markdown",
   "metadata": {},
   "source": [
    "# Attempt 2 - setup dataset"
   ]
  },
  {
   "cell_type": "code",
   "execution_count": 2,
   "metadata": {},
   "outputs": [],
   "source": [
    "with h5py.File(\"data/EpiGCN/train_test.hdf5\", \"r\") as f:\n",
    "    x_train = f[\"x_train\"].value[..., 0]\n",
    "    x_test = f[\"x_test\"].value[..., 0]\n",
    "    y_train = f[\"y_train\"].value[..., 0]\n",
    "    y_test = f[\"y_test\"].value[..., 0]"
   ]
  },
  {
   "cell_type": "code",
   "execution_count": 3,
   "metadata": {},
   "outputs": [],
   "source": [
    "# x_train = x_train[:, 0, :, :, :]\n",
    "# # x_test = x_test[:, 0, :, :, :]\n",
    "# y_train = y_train[:, 0, :, :, :]\n",
    "# y_test = y_test[:, 0, :, :, :]"
   ]
  },
  {
   "cell_type": "code",
   "execution_count": 4,
   "metadata": {},
   "outputs": [
    {
     "name": "stdout",
     "output_type": "stream",
     "text": [
      "X train shape:  (312, 232, 232, 10)\n",
      "X test shape:  (34, 232, 232, 10)\n",
      "Y train shape:  (312, 232, 232, 1)\n",
      "Y test shape:  (34, 232, 232, 1)\n"
     ]
    }
   ],
   "source": [
    "print(\"X train shape: \", x_train.shape)\n",
    "print(\"X test shape: \", x_test.shape)\n",
    "print(\"Y train shape: \", y_train.shape)\n",
    "print(\"Y test shape: \", y_test.shape)"
   ]
  },
  {
   "cell_type": "code",
   "execution_count": 5,
   "metadata": {},
   "outputs": [
    {
     "name": "stdout",
     "output_type": "stream",
     "text": [
      "cpu\n"
     ]
    }
   ],
   "source": [
    "import torch\n",
    "use_cuda = torch.cuda.is_available()\n",
    "# device = torch.device(\"cuda:0\" if use_cuda else \"cpu\")\n",
    "device = torch.device(\"cpu\")\n",
    "print(device)"
   ]
  },
  {
   "cell_type": "markdown",
   "metadata": {},
   "source": [
    "# Define Dataset"
   ]
  },
  {
   "cell_type": "code",
   "execution_count": 6,
   "metadata": {},
   "outputs": [],
   "source": [
    "import torch\n",
    "from torch.utils.data import Dataset, DataLoader, TensorDataset\n",
    "\n",
    "train_dataset = TensorDataset(torch.FloatTensor(x_train), torch.FloatTensor(y_train))\n",
    "test_dataset = TensorDataset(torch.FloatTensor(x_test), torch.FloatTensor(y_test))"
   ]
  },
  {
   "cell_type": "markdown",
   "metadata": {},
   "source": [
    "# Define Dataloader"
   ]
  },
  {
   "cell_type": "code",
   "execution_count": 7,
   "metadata": {},
   "outputs": [],
   "source": [
    "# params = {\"batch_size\": 12, \"shuffle\": True, \"num_workers\": 4}\n",
    "\n",
    "train_dataloader = DataLoader(train_dataset, batch_size=12, shuffle=True, num_workers=0)\n",
    "test_dataloader = DataLoader(test_dataset, batch_size=12, shuffle=False, num_workers=0)"
   ]
  },
  {
   "cell_type": "markdown",
   "metadata": {},
   "source": [
    "# Define the Model!"
   ]
  },
  {
   "cell_type": "code",
   "execution_count": 8,
   "metadata": {
    "jupyter": {
     "source_hidden": true
    }
   },
   "outputs": [],
   "source": [
    "# import torch.nn as nn\n",
    "# import torch.nn.functional as F\n",
    "\n",
    "\n",
    "# class BaselineLSTM(nn.Module):\n",
    "#     def __init__(self, input_size, hidden_size, num_layers):\n",
    "#         super(BaselineLSTM, self).__init__()\n",
    "#         self.num_layers = num_layers\n",
    "#         self.lstm = nn.LSTM(\n",
    "#             input_size=input_size,\n",
    "#             hidden_size=hidden_size,\n",
    "#             batch_first=True,\n",
    "#             num_layers=num_layers,\n",
    "#         )\n",
    "#         self.linear_layers = nn.Sequential(\n",
    "#             nn.Linear(hidden_size * num_layers, (hidden_size * num_layers * 2)),\n",
    "#             nn.LeakyReLU(),\n",
    "#             nn.Linear((hidden_size * num_layers * 2), input_size)\n",
    "#         )\n",
    "\n",
    "#     def forward(self, lstm_input):\n",
    "#         \"\"\"\n",
    "#         :lstm_input: (b, 232, 232, 10)\n",
    "#         \"\"\"\n",
    "#         #         print(lstm_input.size())\n",
    "#         b, n_countries, n_countries, seq_len = lstm_input.size()\n",
    "#         lstm_input = lstm_input.permute(0, 3, 1, 2)\n",
    "#         _, (hn, __) = self.lstm(lstm_input.contiguous().view(b, seq_len, -1))\n",
    "#         hn = hn.permute(1, 0, 2)\n",
    "#         return self.linear_layers(hn.reshape(b, -1)).view(b, n_countries, n_countries, 1)"
   ]
  },
  {
   "cell_type": "code",
   "execution_count": 9,
   "metadata": {},
   "outputs": [],
   "source": [
    "import torch.nn as nn\n",
    "import torch.nn.functional as F\n",
    "\n",
    "\n",
    "class BaselineLSTM(nn.Module):\n",
    "    def __init__(self, input_size, hidden_size, num_layers):\n",
    "        super(BaselineLSTM, self).__init__()\n",
    "        self.num_layers = num_layers\n",
    "        self.lstm = nn.LSTM(\n",
    "            input_size=input_size,\n",
    "            hidden_size=hidden_size,\n",
    "            batch_first=True,\n",
    "            num_layers=num_layers,\n",
    "        )\n",
    "        self.linear = nn.Linear(hidden_size * num_layers, input_size)\n",
    "\n",
    "    def forward(self, lstm_input):\n",
    "        \"\"\"\n",
    "        :lstm_input: (b, 232, 232, 10)\n",
    "        \"\"\"\n",
    "        #         print(lstm_input.size())\n",
    "        b, n_countries, n_countries, seq_len = lstm_input.size()\n",
    "        lstm_input = lstm_input.permute(0, 3, 1, 2)\n",
    "        _, (hn, __) = self.lstm(lstm_input.contiguous().view(b, seq_len, -1))\n",
    "        hn = hn.permute(1, 0, 2)\n",
    "        return self.linear(hn.reshape(b, -1)).view(b, n_countries, n_countries, 1)"
   ]
  },
  {
   "cell_type": "code",
   "execution_count": null,
   "metadata": {
    "jupyter": {
     "source_hidden": true
    }
   },
   "outputs": [],
   "source": [
    "# params = {\n",
    "#     \"lr\": 0.001,\n",
    "#     \"input_size\": 232 * 232,\n",
    "#     \"hidden_size\": 1024,\n",
    "#     \"num_rnn_layers\": 30,\n",
    "# }\n",
    "\n",
    "# params_str = \",\".join([\"{}={}\".format(k, v) for k, v in params.items()])\n",
    "\n",
    "# model = BaselineLSTM(\n",
    "#     input_size=params[\"input_size\"],\n",
    "#     hidden_size=params[\"hidden_size\"],\n",
    "#     num_layers=params[\"num_layers\"],\n",
    "# )\n",
    "# optimizer = torch.optim.Adam(model.parameters(), lr=params[\"lr\"])\n",
    "# lr_scheduler = torch.optim.lr_scheduler.ReduceLROnPlateau(\n",
    "#     optimizer, patience=3, factor=0.5\n",
    "# )\n",
    "\n",
    "# mse = torch.nn.MSELoss()\n",
    "# mae = torch.nn.L1Loss()\n",
    "\n",
    "\n",
    "# class ModelSupervisor:\n",
    "#     def __init__(\n",
    "#         self,\n",
    "#         input_size,\n",
    "#         hidden_size,\n",
    "#         num_rnn_layers,\n",
    "#         lr_scheduler_patience=3,\n",
    "#         lr_scheduler_decay_factor=0.5,\n",
    "#     ):\n",
    "#         self.model = BaselineLSTM(\n",
    "#             input_size=params[\"input_size\"],\n",
    "#             hidden_size=params[\"hidden_size\"],\n",
    "#             num_layers=params[\"num_rnn_layers\"],\n",
    "#         )\n",
    "\n",
    "#         self.optimizer = torch.optim.Adam(self.model.parameters(), lr=params[\"lr\"])\n",
    "#         self.mae = torch.nn.L1Loss()\n",
    "#         self.mse = torch.nn.MSELoss()\n",
    "#         self.lr_scheduler = torch.optim.lr_scheduler.ReduceLROnPlateau(\n",
    "#             self.optimizer, patience=3, factor=0.5\n",
    "#         )\n",
    "\n",
    "#     def train(self, dataloader):\n",
    "#         for train_x, train_y in train_dataloader:\n",
    "#             self.model = self.model.train()\n",
    "#             optimizer.zero_grad()\n",
    "#             logits = model(train_x)\n",
    "#             loss = mae(logits, train_y)\n",
    "#             loss.backward()\n",
    "#             optimizer.step()\n",
    "#             del loss\n",
    "#             del logits"
   ]
  },
  {
   "cell_type": "markdown",
   "metadata": {},
   "source": [
    "# Ignite!"
   ]
  },
  {
   "cell_type": "code",
   "execution_count": 11,
   "metadata": {
    "jupyter": {
     "source_hidden": true
    }
   },
   "outputs": [],
   "source": [
    "# params = {\"lr\": 0.001, \"input_size\": 232 * 232, \"hidden_size\": 1024, \"num_layers\": 10}\n",
    "\n",
    "# params_str = \",\".join([\"{}={}\".format(k, v) for k, v in params.items()])\n",
    "\n",
    "# model = BaselineLSTM(\n",
    "#     input_size=params[\"input_size\"],\n",
    "#     hidden_size=params[\"hidden_size\"],\n",
    "#     num_layers=params[\"num_layers\"],\n",
    "# )"
   ]
  },
  {
   "cell_type": "code",
   "execution_count": 10,
   "metadata": {},
   "outputs": [],
   "source": [
    "params = {\"lr\": 0.001, \"input_size\": 232 * 232, \"hidden_size\": 1024, \"num_layers\": 10}\n",
    "\n",
    "params_str = \",\".join([\"{}={}\".format(k, v) for k, v in params.items()])\n",
    "\n",
    "model = BaselineLSTM(\n",
    "    input_size=params[\"input_size\"],\n",
    "    hidden_size=params[\"hidden_size\"],\n",
    "    num_layers=params[\"num_layers\"],\n",
    ")"
   ]
  },
  {
   "cell_type": "code",
   "execution_count": null,
   "metadata": {},
   "outputs": [
    {
     "name": "stderr",
     "output_type": "stream",
     "text": [
      "INFO:ignite.engine.engine.Engine:Engine run starting with max_epochs=100.\n",
      "INFO:root:Epoch[1] Loss: 0.8649817\n",
      "INFO:root:Epoch[1] Loss: 0.7605588\n",
      "INFO:root:Epoch[1] Loss: 0.6401653\n",
      "INFO:root:Epoch[1] Loss: 0.5291147\n",
      "INFO:root:Epoch[1] Loss: 0.5181628\n",
      "INFO:root:Epoch[1] Loss: 0.4116478\n",
      "INFO:root:Epoch[1] Loss: 0.3466672\n",
      "INFO:root:Epoch[1] Loss: 0.4124547\n",
      "INFO:root:Epoch[1] Loss: 0.5892969\n",
      "INFO:root:Epoch[1] Loss: 0.3029502\n",
      "INFO:root:Epoch[1] Loss: 0.2072539\n",
      "INFO:root:Epoch[1] Loss: 0.1844072\n",
      "INFO:root:Epoch[1] Loss: 0.1950048\n",
      "INFO:root:Epoch[1] Loss: 0.2091487\n",
      "INFO:root:Epoch[1] Loss: 0.1609907\n",
      "INFO:root:Epoch[1] Loss: 0.1442779\n",
      "INFO:root:Epoch[1] Loss: 0.1365814\n",
      "INFO:root:Epoch[1] Loss: 0.1364740\n",
      "INFO:root:Epoch[1] Loss: 0.1305194\n",
      "INFO:root:Epoch[1] Loss: 0.1190863\n",
      "INFO:root:Epoch[1] Loss: 0.1042394\n",
      "INFO:root:Epoch[1] Loss: 0.1116539\n",
      "INFO:root:Epoch[1] Loss: 0.1215967\n",
      "INFO:root:Epoch[1] Loss: 0.1031032\n",
      "INFO:root:Epoch[1] Loss: 0.0939712\n",
      "INFO:root:Epoch[1] Loss: 0.0983917\n",
      "INFO:ignite.engine.engine.Engine:Epoch[1] Complete. Time taken: 00:03:33\n",
      "INFO:ignite.engine.engine.Engine:Engine run starting with max_epochs=1.\n",
      "INFO:ignite.engine.engine.Engine:Epoch[1] Complete. Time taken: 00:00:01\n",
      "INFO:ignite.engine.engine.Engine:Engine run complete. Time taken 00:00:01\n",
      "INFO:ignite.engine.engine.Engine:Engine run starting with max_epochs=1.\n",
      "INFO:ignite.engine.engine.Engine:Epoch[1] Complete. Time taken: 00:00:10\n",
      "INFO:ignite.engine.engine.Engine:Engine run complete. Time taken 00:00:10\n",
      "INFO:root:Training Results - Epoch: 1 MSE: 0.0169229 MAE: 0.0977588\n",
      "INFO:ignite.engine.engine.Engine:Engine run starting with max_epochs=1.\n",
      "INFO:ignite.engine.engine.Engine:Epoch[1] Complete. Time taken: 00:00:01\n",
      "INFO:ignite.engine.engine.Engine:Engine run complete. Time taken 00:00:01\n",
      "INFO:root:Validation Results - Epoch: 1 MSE: 0.0648806 MAE: 0.1551273\n",
      "INFO:root:Epoch[2] Loss: 0.1040937\n",
      "INFO:root:Epoch[2] Loss: 0.0956358\n",
      "INFO:root:Epoch[2] Loss: 0.1025225\n",
      "INFO:root:Epoch[2] Loss: 0.0975758\n",
      "INFO:root:Epoch[2] Loss: 0.0915988\n",
      "INFO:root:Epoch[2] Loss: 0.0985465\n",
      "INFO:root:Epoch[2] Loss: 0.0824712\n",
      "INFO:root:Epoch[2] Loss: 0.0752475\n",
      "INFO:root:Epoch[2] Loss: 0.0793312\n",
      "INFO:root:Epoch[2] Loss: 0.0800824\n",
      "INFO:root:Epoch[2] Loss: 0.0718007\n",
      "INFO:root:Epoch[2] Loss: 0.0721581\n",
      "INFO:root:Epoch[2] Loss: 0.0764910\n",
      "INFO:root:Epoch[2] Loss: 0.0799276\n",
      "INFO:root:Epoch[2] Loss: 0.0767607\n",
      "INFO:root:Epoch[2] Loss: 0.0760713\n",
      "INFO:root:Epoch[2] Loss: 0.0757714\n",
      "INFO:root:Epoch[2] Loss: 0.0795131\n",
      "INFO:root:Epoch[2] Loss: 0.0667231\n",
      "INFO:root:Epoch[2] Loss: 0.0714913\n",
      "INFO:root:Epoch[2] Loss: 0.0706754\n",
      "INFO:root:Epoch[2] Loss: 0.0712883\n",
      "INFO:root:Epoch[2] Loss: 0.0634357\n",
      "INFO:root:Epoch[2] Loss: 0.0676200\n",
      "INFO:root:Epoch[2] Loss: 0.0622903\n",
      "INFO:root:Epoch[2] Loss: 0.0662047\n",
      "INFO:ignite.engine.engine.Engine:Epoch[2] Complete. Time taken: 00:03:11\n",
      "INFO:ignite.engine.engine.Engine:Engine run starting with max_epochs=1.\n",
      "INFO:ignite.engine.engine.Engine:Epoch[1] Complete. Time taken: 00:00:01\n",
      "INFO:ignite.engine.engine.Engine:Engine run complete. Time taken 00:00:01\n",
      "INFO:ignite.engine.engine.Engine:Engine run starting with max_epochs=1.\n",
      "INFO:ignite.engine.engine.Engine:Epoch[1] Complete. Time taken: 00:00:10\n",
      "INFO:ignite.engine.engine.Engine:Engine run complete. Time taken 00:00:10\n",
      "INFO:root:Training Results - Epoch: 2 MSE: 0.0070479 MAE: 0.0649840\n",
      "INFO:ignite.engine.engine.Engine:Engine run starting with max_epochs=1.\n",
      "INFO:ignite.engine.engine.Engine:Epoch[1] Complete. Time taken: 00:00:01\n",
      "INFO:ignite.engine.engine.Engine:Engine run complete. Time taken 00:00:01\n",
      "INFO:root:Validation Results - Epoch: 2 MSE: 0.0299319 MAE: 0.0972499\n",
      "INFO:root:Epoch[3] Loss: 0.0695978\n",
      "INFO:root:Epoch[3] Loss: 0.0669680\n",
      "INFO:root:Epoch[3] Loss: 0.0675946\n",
      "INFO:root:Epoch[3] Loss: 0.0615173\n",
      "INFO:root:Epoch[3] Loss: 0.0673641\n",
      "INFO:root:Epoch[3] Loss: 0.0637769\n",
      "INFO:root:Epoch[3] Loss: 0.0642225\n",
      "INFO:root:Epoch[3] Loss: 0.0670204\n",
      "INFO:root:Epoch[3] Loss: 0.0758014\n",
      "INFO:root:Epoch[3] Loss: 0.0705186\n",
      "INFO:root:Epoch[3] Loss: 0.0705321\n",
      "INFO:root:Epoch[3] Loss: 0.0674868\n",
      "INFO:root:Epoch[3] Loss: 0.0684808\n",
      "INFO:root:Epoch[3] Loss: 0.0631442\n",
      "INFO:root:Epoch[3] Loss: 0.0663409\n",
      "INFO:root:Epoch[3] Loss: 0.0676322\n",
      "INFO:root:Epoch[3] Loss: 0.0589820\n",
      "INFO:root:Epoch[3] Loss: 0.0649198\n",
      "INFO:root:Epoch[3] Loss: 0.0644453\n",
      "INFO:root:Epoch[3] Loss: 0.0647919\n",
      "INFO:root:Epoch[3] Loss: 0.0633636\n",
      "INFO:root:Epoch[3] Loss: 0.0703958\n",
      "INFO:root:Epoch[3] Loss: 0.0636554\n",
      "INFO:root:Epoch[3] Loss: 0.0606194\n",
      "INFO:root:Epoch[3] Loss: 0.0626434\n",
      "INFO:root:Epoch[3] Loss: 0.0653395\n",
      "INFO:ignite.engine.engine.Engine:Epoch[3] Complete. Time taken: 00:03:09\n",
      "INFO:ignite.engine.engine.Engine:Engine run starting with max_epochs=1.\n",
      "INFO:ignite.engine.engine.Engine:Epoch[1] Complete. Time taken: 00:00:01\n",
      "INFO:ignite.engine.engine.Engine:Engine run complete. Time taken 00:00:01\n",
      "INFO:ignite.engine.engine.Engine:Engine run starting with max_epochs=1.\n",
      "INFO:ignite.engine.engine.Engine:Epoch[1] Complete. Time taken: 00:00:10\n",
      "INFO:ignite.engine.engine.Engine:Engine run complete. Time taken 00:00:10\n",
      "INFO:root:Training Results - Epoch: 3 MSE: 0.0089511 MAE: 0.0711236\n",
      "INFO:ignite.engine.engine.Engine:Engine run starting with max_epochs=1.\n",
      "INFO:ignite.engine.engine.Engine:Epoch[1] Complete. Time taken: 00:00:01\n",
      "INFO:ignite.engine.engine.Engine:Engine run complete. Time taken 00:00:01\n",
      "INFO:root:Validation Results - Epoch: 3 MSE: 0.0395519 MAE: 0.1220002\n",
      "INFO:root:Epoch[4] Loss: 0.0742850\n",
      "INFO:root:Epoch[4] Loss: 0.0774831\n",
      "INFO:root:Epoch[4] Loss: 0.0626440\n",
      "INFO:root:Epoch[4] Loss: 0.0714176\n",
      "INFO:root:Epoch[4] Loss: 0.0658340\n",
      "INFO:root:Epoch[4] Loss: 0.0623225\n",
      "INFO:root:Epoch[4] Loss: 0.0710205\n",
      "INFO:root:Epoch[4] Loss: 0.0643785\n",
      "INFO:root:Epoch[4] Loss: 0.0767884\n",
      "INFO:root:Epoch[4] Loss: 0.0683502\n",
      "INFO:root:Epoch[4] Loss: 0.0761920\n",
      "INFO:root:Epoch[4] Loss: 0.0682947\n",
      "INFO:root:Epoch[4] Loss: 0.0820863\n",
      "INFO:root:Epoch[4] Loss: 0.0703510\n",
      "INFO:root:Epoch[4] Loss: 0.0777642\n",
      "INFO:root:Epoch[4] Loss: 0.0740724\n",
      "INFO:root:Epoch[4] Loss: 0.0778869\n",
      "INFO:root:Epoch[4] Loss: 0.0711167\n",
      "INFO:root:Epoch[4] Loss: 0.0755929\n",
      "INFO:root:Epoch[4] Loss: 0.0747113\n",
      "INFO:root:Epoch[4] Loss: 0.0714914\n",
      "INFO:root:Epoch[4] Loss: 0.0732599\n",
      "INFO:root:Epoch[4] Loss: 0.0788148\n",
      "INFO:root:Epoch[4] Loss: 0.0651828\n",
      "INFO:root:Epoch[4] Loss: 0.0762855\n",
      "INFO:root:Epoch[4] Loss: 0.0696747\n",
      "INFO:ignite.engine.engine.Engine:Epoch[4] Complete. Time taken: 00:03:15\n",
      "INFO:ignite.engine.engine.Engine:Engine run starting with max_epochs=1.\n",
      "INFO:ignite.engine.engine.Engine:Epoch[1] Complete. Time taken: 00:00:01\n",
      "INFO:ignite.engine.engine.Engine:Engine run complete. Time taken 00:00:01\n",
      "INFO:ignite.engine.engine.Engine:Engine run starting with max_epochs=1.\n",
      "INFO:ignite.engine.engine.Engine:Epoch[1] Complete. Time taken: 00:00:10\n",
      "INFO:ignite.engine.engine.Engine:Engine run complete. Time taken 00:00:10\n",
      "INFO:root:Training Results - Epoch: 4 MSE: 0.0068854 MAE: 0.0643220\n",
      "INFO:ignite.engine.engine.Engine:Engine run starting with max_epochs=1.\n",
      "INFO:ignite.engine.engine.Engine:Epoch[1] Complete. Time taken: 00:00:01\n",
      "INFO:ignite.engine.engine.Engine:Engine run complete. Time taken 00:00:01\n",
      "INFO:root:Validation Results - Epoch: 4 MSE: 0.0292213 MAE: 0.0907776\n",
      "INFO:root:Epoch[5] Loss: 0.0622199\n",
      "INFO:root:Epoch[5] Loss: 0.0658475\n",
      "INFO:root:Epoch[5] Loss: 0.0657327\n",
      "INFO:root:Epoch[5] Loss: 0.0680340\n",
      "INFO:root:Epoch[5] Loss: 0.0666037\n",
      "INFO:root:Epoch[5] Loss: 0.0636623\n",
      "INFO:root:Epoch[5] Loss: 0.0614221\n",
      "INFO:root:Epoch[5] Loss: 0.0573530\n",
      "INFO:root:Epoch[5] Loss: 0.0651359\n",
      "INFO:root:Epoch[5] Loss: 0.0624313\n",
      "INFO:root:Epoch[5] Loss: 0.0629045\n",
      "INFO:root:Epoch[5] Loss: 0.0648381\n",
      "INFO:root:Epoch[5] Loss: 0.0693965\n",
      "INFO:root:Epoch[5] Loss: 0.0706502\n",
      "INFO:root:Epoch[5] Loss: 0.0589132\n",
      "INFO:root:Epoch[5] Loss: 0.0582138\n",
      "INFO:root:Epoch[5] Loss: 0.0603625\n",
      "INFO:root:Epoch[5] Loss: 0.0582120\n",
      "INFO:root:Epoch[5] Loss: 0.0542576\n",
      "INFO:root:Epoch[5] Loss: 0.0612087\n",
      "INFO:root:Epoch[5] Loss: 0.0537756\n",
      "INFO:root:Epoch[5] Loss: 0.0588672\n",
      "INFO:root:Epoch[5] Loss: 0.0549826\n",
      "INFO:root:Epoch[5] Loss: 0.0580769\n",
      "INFO:root:Epoch[5] Loss: 0.0557959\n",
      "INFO:root:Epoch[5] Loss: 0.0659872\n",
      "INFO:ignite.engine.engine.Engine:Epoch[5] Complete. Time taken: 00:03:08\n",
      "INFO:ignite.engine.engine.Engine:Engine run starting with max_epochs=1.\n",
      "INFO:ignite.engine.engine.Engine:Epoch[1] Complete. Time taken: 00:00:01\n",
      "INFO:ignite.engine.engine.Engine:Engine run complete. Time taken 00:00:01\n",
      "INFO:ignite.engine.engine.Engine:Engine run starting with max_epochs=1.\n",
      "INFO:ignite.engine.engine.Engine:Epoch[1] Complete. Time taken: 00:00:11\n",
      "INFO:ignite.engine.engine.Engine:Engine run complete. Time taken 00:00:11\n",
      "INFO:root:Training Results - Epoch: 5 MSE: 0.0062893 MAE: 0.0607100\n",
      "INFO:ignite.engine.engine.Engine:Engine run starting with max_epochs=1.\n",
      "INFO:ignite.engine.engine.Engine:Epoch[1] Complete. Time taken: 00:00:01\n",
      "INFO:ignite.engine.engine.Engine:Engine run complete. Time taken 00:00:01\n",
      "INFO:root:Validation Results - Epoch: 5 MSE: 0.0331064 MAE: 0.1077754\n",
      "INFO:root:Epoch[6] Loss: 0.0522837\n",
      "INFO:root:Epoch[6] Loss: 0.0579772\n",
      "INFO:root:Epoch[6] Loss: 0.0635348\n",
      "INFO:root:Epoch[6] Loss: 0.0572548\n",
      "INFO:root:Epoch[6] Loss: 0.0583060\n",
      "INFO:root:Epoch[6] Loss: 0.0764287\n",
      "INFO:root:Epoch[6] Loss: 0.0728001\n",
      "INFO:root:Epoch[6] Loss: 0.0650445\n",
      "INFO:root:Epoch[6] Loss: 0.0616737\n",
      "INFO:root:Epoch[6] Loss: 0.0532744\n",
      "INFO:root:Epoch[6] Loss: 0.0639117\n",
      "INFO:root:Epoch[6] Loss: 0.0589823\n",
      "INFO:root:Epoch[6] Loss: 0.0598663\n",
      "INFO:root:Epoch[6] Loss: 0.0615500\n",
      "INFO:root:Epoch[6] Loss: 0.0590738\n",
      "INFO:root:Epoch[6] Loss: 0.0629547\n",
      "INFO:root:Epoch[6] Loss: 0.0621760\n",
      "INFO:root:Epoch[6] Loss: 0.0584560\n",
      "INFO:root:Epoch[6] Loss: 0.0630380\n",
      "INFO:root:Epoch[6] Loss: 0.0623879\n",
      "INFO:root:Epoch[6] Loss: 0.0643097\n",
      "INFO:root:Epoch[6] Loss: 0.0581287\n",
      "INFO:root:Epoch[6] Loss: 0.0599883\n",
      "INFO:root:Epoch[6] Loss: 0.0582937\n",
      "INFO:root:Epoch[6] Loss: 0.0661101\n",
      "INFO:root:Epoch[6] Loss: 0.0563400\n",
      "INFO:ignite.engine.engine.Engine:Epoch[6] Complete. Time taken: 00:03:07\n",
      "INFO:ignite.engine.engine.Engine:Engine run starting with max_epochs=1.\n",
      "INFO:ignite.engine.engine.Engine:Epoch[1] Complete. Time taken: 00:00:01\n",
      "INFO:ignite.engine.engine.Engine:Engine run complete. Time taken 00:00:01\n",
      "INFO:ignite.engine.engine.Engine:Engine run starting with max_epochs=1.\n",
      "INFO:ignite.engine.engine.Engine:Epoch[1] Complete. Time taken: 00:00:11\n",
      "INFO:ignite.engine.engine.Engine:Engine run complete. Time taken 00:00:11\n",
      "INFO:root:Training Results - Epoch: 6 MSE: 0.0072908 MAE: 0.0659133\n",
      "INFO:ignite.engine.engine.Engine:Engine run starting with max_epochs=1.\n",
      "INFO:ignite.engine.engine.Engine:Epoch[1] Complete. Time taken: 00:00:01\n",
      "INFO:ignite.engine.engine.Engine:Engine run complete. Time taken 00:00:01\n",
      "INFO:root:Validation Results - Epoch: 6 MSE: 0.0292807 MAE: 0.1050697\n",
      "INFO:root:Epoch[7] Loss: 0.0636086\n",
      "INFO:root:Epoch[7] Loss: 0.0619633\n",
      "INFO:root:Epoch[7] Loss: 0.0613168\n",
      "INFO:root:Epoch[7] Loss: 0.0676790\n",
      "INFO:root:Epoch[7] Loss: 0.0569558\n",
      "INFO:root:Epoch[7] Loss: 0.0640892\n",
      "INFO:root:Epoch[7] Loss: 0.0649552\n",
      "INFO:root:Epoch[7] Loss: 0.0632095\n",
      "INFO:root:Epoch[7] Loss: 0.0717040\n",
      "INFO:root:Epoch[7] Loss: 0.0601874\n",
      "INFO:root:Epoch[7] Loss: 0.0671935\n",
      "INFO:root:Epoch[7] Loss: 0.0585575\n",
      "INFO:root:Epoch[7] Loss: 0.0558723\n",
      "INFO:root:Epoch[7] Loss: 0.0521110\n",
      "INFO:root:Epoch[7] Loss: 0.0554943\n",
      "INFO:root:Epoch[7] Loss: 0.0526898\n",
      "INFO:root:Epoch[7] Loss: 0.0504664\n",
      "INFO:root:Epoch[7] Loss: 0.0553678\n",
      "INFO:root:Epoch[7] Loss: 0.0537719\n",
      "INFO:root:Epoch[7] Loss: 0.0513938\n",
      "INFO:root:Epoch[7] Loss: 0.0579824\n",
      "INFO:root:Epoch[7] Loss: 0.0555108\n",
      "INFO:root:Epoch[7] Loss: 0.0546193\n",
      "INFO:root:Epoch[7] Loss: 0.0524209\n",
      "INFO:root:Epoch[7] Loss: 0.0544732\n",
      "INFO:root:Epoch[7] Loss: 0.0510452\n",
      "INFO:ignite.engine.engine.Engine:Epoch[7] Complete. Time taken: 00:03:07\n",
      "INFO:ignite.engine.engine.Engine:Engine run starting with max_epochs=1.\n",
      "INFO:ignite.engine.engine.Engine:Epoch[1] Complete. Time taken: 00:00:01\n",
      "INFO:ignite.engine.engine.Engine:Engine run complete. Time taken 00:00:01\n",
      "INFO:ignite.engine.engine.Engine:Engine run starting with max_epochs=1.\n",
      "INFO:ignite.engine.engine.Engine:Epoch[1] Complete. Time taken: 00:00:11\n",
      "INFO:ignite.engine.engine.Engine:Engine run complete. Time taken 00:00:11\n",
      "INFO:root:Training Results - Epoch: 7 MSE: 0.0045529 MAE: 0.0513252\n",
      "INFO:ignite.engine.engine.Engine:Engine run starting with max_epochs=1.\n",
      "INFO:ignite.engine.engine.Engine:Epoch[1] Complete. Time taken: 00:00:01\n",
      "INFO:ignite.engine.engine.Engine:Engine run complete. Time taken 00:00:01\n",
      "INFO:root:Validation Results - Epoch: 7 MSE: 0.0325061 MAE: 0.0996864\n",
      "INFO:root:Epoch[8] Loss: 0.0487014\n",
      "INFO:root:Epoch[8] Loss: 0.0523086\n",
      "INFO:root:Epoch[8] Loss: 0.0525811\n",
      "INFO:root:Epoch[8] Loss: 0.0515584\n",
      "INFO:root:Epoch[8] Loss: 0.0531591\n",
      "INFO:root:Epoch[8] Loss: 0.0504307\n",
      "INFO:root:Epoch[8] Loss: 0.0576379\n",
      "INFO:root:Epoch[8] Loss: 0.0566625\n",
      "INFO:root:Epoch[8] Loss: 0.0460470\n",
      "INFO:root:Epoch[8] Loss: 0.0552082\n",
      "INFO:root:Epoch[8] Loss: 0.0516722\n",
      "INFO:root:Epoch[8] Loss: 0.0541554\n",
      "INFO:root:Epoch[8] Loss: 0.0523634\n",
      "INFO:root:Epoch[8] Loss: 0.0531018\n",
      "INFO:root:Epoch[8] Loss: 0.0586699\n",
      "INFO:root:Epoch[8] Loss: 0.0507028\n",
      "INFO:root:Epoch[8] Loss: 0.0525913\n",
      "INFO:root:Epoch[8] Loss: 0.0485207\n",
      "INFO:root:Epoch[8] Loss: 0.0540384\n",
      "INFO:root:Epoch[8] Loss: 0.0503726\n",
      "INFO:root:Epoch[8] Loss: 0.0450690\n",
      "INFO:root:Epoch[8] Loss: 0.0478222\n",
      "INFO:root:Epoch[8] Loss: 0.0469905\n",
      "INFO:root:Epoch[8] Loss: 0.0529099\n",
      "INFO:root:Epoch[8] Loss: 0.0548527\n",
      "INFO:root:Epoch[8] Loss: 0.0541419\n",
      "INFO:ignite.engine.engine.Engine:Epoch[8] Complete. Time taken: 00:03:07\n",
      "INFO:ignite.engine.engine.Engine:Engine run starting with max_epochs=1.\n",
      "INFO:ignite.engine.engine.Engine:Epoch[1] Complete. Time taken: 00:00:01\n",
      "INFO:ignite.engine.engine.Engine:Engine run complete. Time taken 00:00:01\n",
      "INFO:ignite.engine.engine.Engine:Engine run starting with max_epochs=1.\n",
      "INFO:ignite.engine.engine.Engine:Epoch[1] Complete. Time taken: 00:00:10\n",
      "INFO:ignite.engine.engine.Engine:Engine run complete. Time taken 00:00:10\n",
      "INFO:root:Training Results - Epoch: 8 MSE: 0.0048475 MAE: 0.0534816\n",
      "INFO:ignite.engine.engine.Engine:Engine run starting with max_epochs=1.\n",
      "INFO:ignite.engine.engine.Engine:Epoch[1] Complete. Time taken: 00:00:01\n",
      "INFO:ignite.engine.engine.Engine:Engine run complete. Time taken 00:00:01\n",
      "INFO:root:Validation Results - Epoch: 8 MSE: 0.0260734 MAE: 0.0833711\n",
      "INFO:root:Epoch[9] Loss: 0.0555832\n",
      "INFO:root:Epoch[9] Loss: 0.0554046\n",
      "INFO:root:Epoch[9] Loss: 0.0508208\n",
      "INFO:root:Epoch[9] Loss: 0.0513107\n",
      "INFO:root:Epoch[9] Loss: 0.0512060\n",
      "INFO:root:Epoch[9] Loss: 0.0499004\n",
      "INFO:root:Epoch[9] Loss: 0.0521749\n",
      "INFO:root:Epoch[9] Loss: 0.0540821\n",
      "INFO:root:Epoch[9] Loss: 0.0495526\n",
      "INFO:root:Epoch[9] Loss: 0.0533232\n",
      "INFO:root:Epoch[9] Loss: 0.0542418\n",
      "INFO:root:Epoch[9] Loss: 0.0487164\n",
      "INFO:root:Epoch[9] Loss: 0.0550675\n",
      "INFO:root:Epoch[9] Loss: 0.0510196\n",
      "INFO:root:Epoch[9] Loss: 0.0544913\n",
      "INFO:root:Epoch[9] Loss: 0.0511545\n",
      "INFO:root:Epoch[9] Loss: 0.0546421\n",
      "INFO:root:Epoch[9] Loss: 0.0482175\n",
      "INFO:root:Epoch[9] Loss: 0.0534488\n",
      "INFO:root:Epoch[9] Loss: 0.0477831\n",
      "INFO:root:Epoch[9] Loss: 0.0467693\n",
      "INFO:root:Epoch[9] Loss: 0.0464628\n",
      "INFO:root:Epoch[9] Loss: 0.0495312\n",
      "INFO:root:Epoch[9] Loss: 0.0479698\n",
      "INFO:root:Epoch[9] Loss: 0.0494564\n",
      "INFO:root:Epoch[9] Loss: 0.0562514\n",
      "INFO:ignite.engine.engine.Engine:Epoch[9] Complete. Time taken: 00:03:06\n",
      "INFO:ignite.engine.engine.Engine:Engine run starting with max_epochs=1.\n",
      "INFO:ignite.engine.engine.Engine:Epoch[1] Complete. Time taken: 00:00:01\n",
      "INFO:ignite.engine.engine.Engine:Engine run complete. Time taken 00:00:01\n",
      "INFO:ignite.engine.engine.Engine:Engine run starting with max_epochs=1.\n",
      "INFO:ignite.engine.engine.Engine:Epoch[1] Complete. Time taken: 00:00:10\n",
      "INFO:ignite.engine.engine.Engine:Engine run complete. Time taken 00:00:10\n",
      "INFO:root:Training Results - Epoch: 9 MSE: 0.0038755 MAE: 0.0480651\n",
      "INFO:ignite.engine.engine.Engine:Engine run starting with max_epochs=1.\n",
      "INFO:ignite.engine.engine.Engine:Epoch[1] Complete. Time taken: 00:00:01\n",
      "INFO:ignite.engine.engine.Engine:Engine run complete. Time taken 00:00:01\n",
      "INFO:root:Validation Results - Epoch: 9 MSE: 0.0179382 MAE: 0.0905458\n",
      "INFO:root:Epoch[10] Loss: 0.0472575\n",
      "INFO:root:Epoch[10] Loss: 0.0464401\n",
      "INFO:root:Epoch[10] Loss: 0.0464777\n",
      "INFO:root:Epoch[10] Loss: 0.0462794\n",
      "INFO:root:Epoch[10] Loss: 0.0478761\n",
      "INFO:root:Epoch[10] Loss: 0.0515383\n",
      "INFO:root:Epoch[10] Loss: 0.0551675\n",
      "INFO:root:Epoch[10] Loss: 0.0437776\n",
      "INFO:root:Epoch[10] Loss: 0.0443057\n",
      "INFO:root:Epoch[10] Loss: 0.0500301\n",
      "INFO:root:Epoch[10] Loss: 0.0523570\n",
      "INFO:root:Epoch[10] Loss: 0.0475588\n",
      "INFO:root:Epoch[10] Loss: 0.0485484\n",
      "INFO:root:Epoch[10] Loss: 0.0481498\n",
      "INFO:root:Epoch[10] Loss: 0.0544124\n",
      "INFO:root:Epoch[10] Loss: 0.0495280\n",
      "INFO:root:Epoch[10] Loss: 0.0462852\n",
      "INFO:root:Epoch[10] Loss: 0.0423597\n",
      "INFO:root:Epoch[10] Loss: 0.0483091\n",
      "INFO:root:Epoch[10] Loss: 0.0441149\n",
      "INFO:root:Epoch[10] Loss: 0.0464722\n",
      "INFO:root:Epoch[10] Loss: 0.0496102\n",
      "INFO:root:Epoch[10] Loss: 0.0473807\n",
      "INFO:root:Epoch[10] Loss: 0.0483532\n",
      "INFO:root:Epoch[10] Loss: 0.0478197\n",
      "INFO:root:Epoch[10] Loss: 0.0439138\n",
      "INFO:ignite.engine.engine.Engine:Epoch[10] Complete. Time taken: 00:03:06\n",
      "INFO:ignite.engine.engine.Engine:Engine run starting with max_epochs=1.\n",
      "INFO:ignite.engine.engine.Engine:Epoch[1] Complete. Time taken: 00:00:01\n",
      "INFO:ignite.engine.engine.Engine:Engine run complete. Time taken 00:00:01\n",
      "INFO:ignite.engine.engine.Engine:Engine run starting with max_epochs=1.\n",
      "INFO:ignite.engine.engine.Engine:Epoch[1] Complete. Time taken: 00:00:10\n",
      "INFO:ignite.engine.engine.Engine:Engine run complete. Time taken 00:00:10\n",
      "INFO:root:Training Results - Epoch: 10 MSE: 0.0034252 MAE: 0.0446443\n",
      "INFO:ignite.engine.engine.Engine:Engine run starting with max_epochs=1.\n",
      "INFO:ignite.engine.engine.Engine:Epoch[1] Complete. Time taken: 00:00:01\n",
      "INFO:ignite.engine.engine.Engine:Engine run complete. Time taken 00:00:01\n",
      "INFO:root:Validation Results - Epoch: 10 MSE: 0.0176086 MAE: 0.0733725\n",
      "INFO:root:Epoch[11] Loss: 0.0475066\n",
      "INFO:root:Epoch[11] Loss: 0.0460367\n",
      "INFO:root:Epoch[11] Loss: 0.0466144\n",
      "INFO:root:Epoch[11] Loss: 0.0442058\n",
      "INFO:root:Epoch[11] Loss: 0.0449606\n",
      "INFO:root:Epoch[11] Loss: 0.0489551\n",
      "INFO:root:Epoch[11] Loss: 0.0441075\n",
      "INFO:root:Epoch[11] Loss: 0.0458085\n",
      "INFO:root:Epoch[11] Loss: 0.0507241\n",
      "INFO:root:Epoch[11] Loss: 0.0462321\n",
      "INFO:root:Epoch[11] Loss: 0.0496201\n",
      "INFO:root:Epoch[11] Loss: 0.0498662\n",
      "INFO:root:Epoch[11] Loss: 0.0513337\n",
      "INFO:root:Epoch[11] Loss: 0.0505165\n",
      "INFO:root:Epoch[11] Loss: 0.0490529\n",
      "INFO:root:Epoch[11] Loss: 0.0467570\n",
      "INFO:root:Epoch[11] Loss: 0.0515826\n",
      "INFO:root:Epoch[11] Loss: 0.0598833\n",
      "INFO:root:Epoch[11] Loss: 0.0488785\n",
      "INFO:root:Epoch[11] Loss: 0.0587723\n",
      "INFO:root:Epoch[11] Loss: 0.0662664\n",
      "INFO:root:Epoch[11] Loss: 0.0549378\n",
      "INFO:root:Epoch[11] Loss: 0.0570420\n",
      "INFO:root:Epoch[11] Loss: 0.0527127\n",
      "INFO:root:Epoch[11] Loss: 0.0528816\n",
      "INFO:root:Epoch[11] Loss: 0.0577349\n",
      "INFO:ignite.engine.engine.Engine:Epoch[11] Complete. Time taken: 00:03:07\n",
      "INFO:ignite.engine.engine.Engine:Engine run starting with max_epochs=1.\n",
      "INFO:ignite.engine.engine.Engine:Epoch[1] Complete. Time taken: 00:00:01\n",
      "INFO:ignite.engine.engine.Engine:Engine run complete. Time taken 00:00:01\n",
      "INFO:ignite.engine.engine.Engine:Engine run starting with max_epochs=1.\n",
      "INFO:ignite.engine.engine.Engine:Epoch[1] Complete. Time taken: 00:00:11\n",
      "INFO:ignite.engine.engine.Engine:Engine run complete. Time taken 00:00:11\n",
      "INFO:root:Training Results - Epoch: 11 MSE: 0.0057010 MAE: 0.0568775\n",
      "INFO:ignite.engine.engine.Engine:Engine run starting with max_epochs=1.\n",
      "INFO:ignite.engine.engine.Engine:Epoch[1] Complete. Time taken: 00:00:01\n",
      "INFO:ignite.engine.engine.Engine:Engine run complete. Time taken 00:00:01\n",
      "INFO:root:Validation Results - Epoch: 11 MSE: 0.0196597 MAE: 0.0997406\n",
      "INFO:root:Epoch[12] Loss: 0.0561390\n",
      "INFO:root:Epoch[12] Loss: 0.0581328\n",
      "INFO:root:Epoch[12] Loss: 0.0547157\n",
      "INFO:root:Epoch[12] Loss: 0.0600351\n",
      "INFO:root:Epoch[12] Loss: 0.0488175\n",
      "INFO:root:Epoch[12] Loss: 0.0615383\n",
      "INFO:root:Epoch[12] Loss: 0.0575898\n",
      "INFO:root:Epoch[12] Loss: 0.0581680\n",
      "INFO:root:Epoch[12] Loss: 0.0590526\n",
      "INFO:root:Epoch[12] Loss: 0.0563992\n",
      "INFO:root:Epoch[12] Loss: 0.0571576\n",
      "INFO:root:Epoch[12] Loss: 0.0535261\n",
      "INFO:root:Epoch[12] Loss: 0.0586554\n",
      "INFO:root:Epoch[12] Loss: 0.0568411\n",
      "INFO:root:Epoch[12] Loss: 0.0574232\n",
      "INFO:root:Epoch[12] Loss: 0.0519016\n",
      "INFO:root:Epoch[12] Loss: 0.0503643\n",
      "INFO:root:Epoch[12] Loss: 0.0497475\n",
      "INFO:root:Epoch[12] Loss: 0.0488239\n",
      "INFO:root:Epoch[12] Loss: 0.0503790\n",
      "INFO:root:Epoch[12] Loss: 0.0476411\n",
      "INFO:root:Epoch[12] Loss: 0.0484877\n",
      "INFO:root:Epoch[12] Loss: 0.0524974\n",
      "INFO:root:Epoch[12] Loss: 0.0498241\n",
      "INFO:root:Epoch[12] Loss: 0.0520753\n",
      "INFO:root:Epoch[12] Loss: 0.0513759\n",
      "INFO:ignite.engine.engine.Engine:Epoch[12] Complete. Time taken: 00:03:06\n",
      "INFO:ignite.engine.engine.Engine:Engine run starting with max_epochs=1.\n",
      "INFO:ignite.engine.engine.Engine:Epoch[1] Complete. Time taken: 00:00:01\n",
      "INFO:ignite.engine.engine.Engine:Engine run complete. Time taken 00:00:01\n",
      "INFO:ignite.engine.engine.Engine:Engine run starting with max_epochs=1.\n",
      "INFO:ignite.engine.engine.Engine:Epoch[1] Complete. Time taken: 00:00:10\n",
      "INFO:ignite.engine.engine.Engine:Engine run complete. Time taken 00:00:10\n",
      "INFO:root:Training Results - Epoch: 12 MSE: 0.0042178 MAE: 0.0498642\n",
      "INFO:ignite.engine.engine.Engine:Engine run starting with max_epochs=1.\n",
      "INFO:ignite.engine.engine.Engine:Epoch[1] Complete. Time taken: 00:00:01\n",
      "INFO:ignite.engine.engine.Engine:Engine run complete. Time taken 00:00:01\n",
      "INFO:root:Validation Results - Epoch: 12 MSE: 0.0215785 MAE: 0.0717925\n",
      "INFO:root:Epoch[13] Loss: 0.0480521\n",
      "INFO:root:Epoch[13] Loss: 0.0507440\n",
      "INFO:root:Epoch[13] Loss: 0.0446899\n",
      "INFO:root:Epoch[13] Loss: 0.0475627\n",
      "INFO:root:Epoch[13] Loss: 0.0538006\n",
      "INFO:root:Epoch[13] Loss: 0.0554990\n",
      "INFO:root:Epoch[13] Loss: 0.0511149\n",
      "INFO:root:Epoch[13] Loss: 0.0499028\n",
      "INFO:root:Epoch[13] Loss: 0.0526049\n",
      "INFO:root:Epoch[13] Loss: 0.0539866\n",
      "INFO:root:Epoch[13] Loss: 0.0540692\n",
      "INFO:root:Epoch[13] Loss: 0.0491390\n",
      "INFO:root:Epoch[13] Loss: 0.0498045\n",
      "INFO:root:Epoch[13] Loss: 0.0511430\n",
      "INFO:root:Epoch[13] Loss: 0.0514060\n",
      "INFO:root:Epoch[13] Loss: 0.0531215\n",
      "INFO:root:Epoch[13] Loss: 0.0489367\n",
      "INFO:root:Epoch[13] Loss: 0.0458032\n",
      "INFO:root:Epoch[13] Loss: 0.0486273\n",
      "INFO:root:Epoch[13] Loss: 0.0513029\n",
      "INFO:root:Epoch[13] Loss: 0.0664818\n",
      "INFO:root:Epoch[13] Loss: 0.0504115\n",
      "INFO:root:Epoch[13] Loss: 0.0489660\n",
      "INFO:root:Epoch[13] Loss: 0.0417439\n",
      "INFO:root:Epoch[13] Loss: 0.0492157\n",
      "INFO:root:Epoch[13] Loss: 0.0502828\n",
      "INFO:ignite.engine.engine.Engine:Epoch[13] Complete. Time taken: 00:03:08\n",
      "INFO:ignite.engine.engine.Engine:Engine run starting with max_epochs=1.\n",
      "INFO:ignite.engine.engine.Engine:Epoch[1] Complete. Time taken: 00:00:01\n",
      "INFO:ignite.engine.engine.Engine:Engine run complete. Time taken 00:00:01\n",
      "INFO:ignite.engine.engine.Engine:Engine run starting with max_epochs=1.\n",
      "INFO:ignite.engine.engine.Engine:Epoch[1] Complete. Time taken: 00:00:10\n",
      "INFO:ignite.engine.engine.Engine:Engine run complete. Time taken 00:00:10\n",
      "INFO:root:Training Results - Epoch: 13 MSE: 0.0047650 MAE: 0.0519158\n",
      "INFO:ignite.engine.engine.Engine:Engine run starting with max_epochs=1.\n",
      "INFO:ignite.engine.engine.Engine:Epoch[1] Complete. Time taken: 00:00:01\n",
      "INFO:ignite.engine.engine.Engine:Engine run complete. Time taken 00:00:01\n",
      "INFO:root:Validation Results - Epoch: 13 MSE: 0.0355204 MAE: 0.1105867\n",
      "INFO:root:Epoch[14] Loss: 0.0520539\n",
      "INFO:root:Epoch[14] Loss: 0.0500486\n",
      "INFO:root:Epoch[14] Loss: 0.0518831\n",
      "INFO:root:Epoch[14] Loss: 0.0536655\n",
      "INFO:root:Epoch[14] Loss: 0.0448754\n",
      "INFO:root:Epoch[14] Loss: 0.0546107\n",
      "INFO:root:Epoch[14] Loss: 0.0482974\n",
      "INFO:root:Epoch[14] Loss: 0.0516368\n",
      "INFO:root:Epoch[14] Loss: 0.0566687\n",
      "INFO:root:Epoch[14] Loss: 0.0521687\n",
      "INFO:root:Epoch[14] Loss: 0.0487674\n",
      "INFO:root:Epoch[14] Loss: 0.0451845\n",
      "INFO:root:Epoch[14] Loss: 0.0500696\n",
      "INFO:root:Epoch[14] Loss: 0.0510747\n",
      "INFO:root:Epoch[14] Loss: 0.0505091\n",
      "INFO:root:Epoch[14] Loss: 0.0511385\n",
      "INFO:root:Epoch[14] Loss: 0.0499815\n",
      "INFO:root:Epoch[14] Loss: 0.0494617\n",
      "INFO:root:Epoch[14] Loss: 0.0518090\n",
      "INFO:root:Epoch[14] Loss: 0.0559457\n",
      "INFO:root:Epoch[14] Loss: 0.0492505\n",
      "INFO:root:Epoch[14] Loss: 0.0470627\n",
      "INFO:root:Epoch[14] Loss: 0.0488815\n",
      "INFO:root:Epoch[14] Loss: 0.0477083\n",
      "INFO:root:Epoch[14] Loss: 0.0459928\n",
      "INFO:root:Epoch[14] Loss: 0.0477204\n",
      "INFO:ignite.engine.engine.Engine:Epoch[14] Complete. Time taken: 00:03:13\n",
      "INFO:ignite.engine.engine.Engine:Engine run starting with max_epochs=1.\n",
      "INFO:ignite.engine.engine.Engine:Epoch[1] Complete. Time taken: 00:00:01\n",
      "INFO:ignite.engine.engine.Engine:Engine run complete. Time taken 00:00:01\n",
      "INFO:ignite.engine.engine.Engine:Engine run starting with max_epochs=1.\n",
      "INFO:ignite.engine.engine.Engine:Epoch[1] Complete. Time taken: 00:00:10\n",
      "INFO:ignite.engine.engine.Engine:Engine run complete. Time taken 00:00:10\n",
      "INFO:root:Training Results - Epoch: 14 MSE: 0.0037480 MAE: 0.0467162\n",
      "INFO:ignite.engine.engine.Engine:Engine run starting with max_epochs=1.\n",
      "INFO:ignite.engine.engine.Engine:Epoch[1] Complete. Time taken: 00:00:01\n",
      "INFO:ignite.engine.engine.Engine:Engine run complete. Time taken 00:00:01\n",
      "INFO:root:Validation Results - Epoch: 14 MSE: 0.0288371 MAE: 0.0960998\n",
      "INFO:root:Epoch[15] Loss: 0.0394247\n",
      "INFO:root:Epoch[15] Loss: 0.0478335\n",
      "INFO:root:Epoch[15] Loss: 0.0529887\n",
      "INFO:root:Epoch[15] Loss: 0.0490011\n",
      "INFO:root:Epoch[15] Loss: 0.0509578\n",
      "INFO:root:Epoch[15] Loss: 0.0469274\n",
      "INFO:root:Epoch[15] Loss: 0.0473741\n",
      "INFO:root:Epoch[15] Loss: 0.0446230\n",
      "INFO:root:Epoch[15] Loss: 0.0467463\n",
      "INFO:root:Epoch[15] Loss: 0.0482611\n",
      "INFO:root:Epoch[15] Loss: 0.0523992\n",
      "INFO:root:Epoch[15] Loss: 0.0501154\n",
      "INFO:root:Epoch[15] Loss: 0.0452397\n",
      "INFO:root:Epoch[15] Loss: 0.0462560\n",
      "INFO:root:Epoch[15] Loss: 0.0550964\n",
      "INFO:root:Epoch[15] Loss: 0.0473419\n",
      "INFO:root:Epoch[15] Loss: 0.0491306\n",
      "INFO:root:Epoch[15] Loss: 0.0516974\n",
      "INFO:root:Epoch[15] Loss: 0.0483574\n",
      "INFO:root:Epoch[15] Loss: 0.0509657\n",
      "INFO:root:Epoch[15] Loss: 0.0488062\n",
      "INFO:root:Epoch[15] Loss: 0.0511877\n",
      "INFO:root:Epoch[15] Loss: 0.0478460\n",
      "INFO:root:Epoch[15] Loss: 0.0472230\n",
      "INFO:root:Epoch[15] Loss: 0.0522069\n",
      "INFO:root:Epoch[15] Loss: 0.0531108\n",
      "INFO:ignite.engine.engine.Engine:Epoch[15] Complete. Time taken: 00:03:06\n",
      "INFO:ignite.engine.engine.Engine:Engine run starting with max_epochs=1.\n",
      "INFO:ignite.engine.engine.Engine:Epoch[1] Complete. Time taken: 00:00:01\n",
      "INFO:ignite.engine.engine.Engine:Engine run complete. Time taken 00:00:01\n",
      "INFO:ignite.engine.engine.Engine:Engine run starting with max_epochs=1.\n",
      "INFO:ignite.engine.engine.Engine:Epoch[1] Complete. Time taken: 00:00:11\n",
      "INFO:ignite.engine.engine.Engine:Engine run complete. Time taken 00:00:11\n",
      "INFO:root:Training Results - Epoch: 15 MSE: 0.0037813 MAE: 0.0478591\n",
      "INFO:ignite.engine.engine.Engine:Engine run starting with max_epochs=1.\n",
      "INFO:ignite.engine.engine.Engine:Epoch[1] Complete. Time taken: 00:00:01\n",
      "INFO:ignite.engine.engine.Engine:Engine run complete. Time taken 00:00:01\n",
      "INFO:root:Validation Results - Epoch: 15 MSE: 0.0144030 MAE: 0.0695535\n",
      "INFO:root:Epoch[16] Loss: 0.0460531\n",
      "INFO:root:Epoch[16] Loss: 0.0456851\n",
      "INFO:root:Epoch[16] Loss: 0.0493731\n",
      "INFO:root:Epoch[16] Loss: 0.0449220\n",
      "INFO:root:Epoch[16] Loss: 0.0479828\n",
      "INFO:root:Epoch[16] Loss: 0.0459087\n",
      "INFO:root:Epoch[16] Loss: 0.0419846\n",
      "INFO:root:Epoch[16] Loss: 0.0492299\n",
      "INFO:root:Epoch[16] Loss: 0.0453430\n",
      "INFO:root:Epoch[16] Loss: 0.0504709\n",
      "INFO:root:Epoch[16] Loss: 0.0504528\n",
      "INFO:root:Epoch[16] Loss: 0.0466959\n",
      "INFO:root:Epoch[16] Loss: 0.0479513\n",
      "INFO:root:Epoch[16] Loss: 0.0461514\n",
      "INFO:root:Epoch[16] Loss: 0.0468184\n",
      "INFO:root:Epoch[16] Loss: 0.0541861\n",
      "INFO:root:Epoch[16] Loss: 0.0509629\n",
      "INFO:root:Epoch[16] Loss: 0.0451420\n",
      "INFO:root:Epoch[16] Loss: 0.0492842\n",
      "INFO:root:Epoch[16] Loss: 0.0441917\n",
      "INFO:root:Epoch[16] Loss: 0.0528264\n",
      "INFO:root:Epoch[16] Loss: 0.0427440\n",
      "INFO:root:Epoch[16] Loss: 0.0429050\n",
      "INFO:root:Epoch[16] Loss: 0.0497976\n",
      "INFO:root:Epoch[16] Loss: 0.0473276\n",
      "INFO:root:Epoch[16] Loss: 0.0526315\n",
      "INFO:ignite.engine.engine.Engine:Epoch[16] Complete. Time taken: 00:03:11\n",
      "INFO:ignite.engine.engine.Engine:Engine run starting with max_epochs=1.\n",
      "INFO:ignite.engine.engine.Engine:Epoch[1] Complete. Time taken: 00:00:01\n",
      "INFO:ignite.engine.engine.Engine:Engine run complete. Time taken 00:00:01\n",
      "INFO:ignite.engine.engine.Engine:Engine run starting with max_epochs=1.\n",
      "INFO:ignite.engine.engine.Engine:Epoch[1] Complete. Time taken: 00:00:10\n",
      "INFO:ignite.engine.engine.Engine:Engine run complete. Time taken 00:00:10\n",
      "INFO:root:Training Results - Epoch: 16 MSE: 0.0044653 MAE: 0.0503313\n",
      "INFO:ignite.engine.engine.Engine:Engine run starting with max_epochs=1.\n",
      "INFO:ignite.engine.engine.Engine:Epoch[1] Complete. Time taken: 00:00:01\n",
      "INFO:ignite.engine.engine.Engine:Engine run complete. Time taken 00:00:01\n",
      "INFO:root:Validation Results - Epoch: 16 MSE: 0.0195954 MAE: 0.0808195\n"
     ]
    }
   ],
   "source": [
    "from torch.utils.tensorboard import SummaryWriter\n",
    "from ignite.engine import Events, create_supervised_trainer, create_supervised_evaluator\n",
    "from ignite.handlers import ModelCheckpoint\n",
    "from ignite.metrics import Loss\n",
    "from ignite.contrib.handlers.tensorboard_logger import *\n",
    "\n",
    "params = {\"lr\": 0.001, \"input_size\": 232 * 232, \"hidden_size\": 1024, \"num_layers\": 10}\n",
    "\n",
    "params_str = \",\".join([\"{}={}\".format(k, v) for k, v in params.items()])\n",
    "\n",
    "model = BaselineLSTM(\n",
    "    input_size=params[\"input_size\"],\n",
    "    hidden_size=params[\"hidden_size\"],\n",
    "    num_layers=params[\"num_layers\"],\n",
    ")\n",
    "optimizer = torch.optim.Adam(model.parameters(), lr=params[\"lr\"])\n",
    "lr_scheduler = torch.optim.lr_scheduler.ReduceLROnPlateau(optimizer, patience=3, factor=0.5)\n",
    "\n",
    "mse = torch.nn.MSELoss()\n",
    "mae = torch.nn.L1Loss()\n",
    "\n",
    "tb_logger = TensorboardLogger(\n",
    "    log_dir=\"experiments/tb_logs/runs/country_level_{}\".format(params_str)\n",
    ")\n",
    "\n",
    "trainer = create_supervised_trainer(model, optimizer, mae, device=device)\n",
    "\n",
    "metrics = {\"mae\": Loss(mae), \"mse\": Loss(mse)}\n",
    "\n",
    "train_evaluator = create_supervised_evaluator(model, metrics=metrics, device=device)\n",
    "validation_evaluator = create_supervised_evaluator(\n",
    "    model, metrics=metrics, device=device\n",
    ")\n",
    "\n",
    "\n",
    "def score_function(trainer):\n",
    "    validation_evaluator.run(test_dataloader)\n",
    "    metrics = validation_evaluator.state.metrics\n",
    "    mae = metrics[\"mae\"]\n",
    "    return -mae\n",
    "\n",
    "\n",
    "checkpointer = ModelCheckpoint(\n",
    "    \"model_checkpoints\",\n",
    "    \"country_level-\" + params_str,\n",
    "    score_function=score_function,\n",
    "    score_name=\"mae\",\n",
    "    n_saved=1,\n",
    "    create_dir=True,\n",
    "    save_as_state_dict=True,\n",
    "    require_empty=False,\n",
    ")\n",
    "\n",
    "trainer.add_event_handler(Events.EPOCH_COMPLETED, checkpointer, {\"epi\": model})\n",
    "\n",
    "tb_logger.attach(\n",
    "    trainer,\n",
    "    log_handler=OutputHandler(\n",
    "        tag=\"training\", output_transform=lambda loss: {\"loss\": loss}\n",
    "    ),\n",
    "    event_name=Events.ITERATION_COMPLETED,\n",
    ")\n",
    "\n",
    "tb_logger.attach(\n",
    "    train_evaluator,\n",
    "    log_handler=OutputHandler(\n",
    "        tag=\"training\",\n",
    "        metric_names=[\"mae\", \"mse\"],\n",
    "        global_step_transform=global_step_from_engine(trainer),\n",
    "    ),\n",
    "    event_name=Events.EPOCH_COMPLETED,\n",
    ")\n",
    "\n",
    "tb_logger.attach(\n",
    "    validation_evaluator,\n",
    "    log_handler=OutputHandler(\n",
    "        tag=\"validation\",\n",
    "        metric_names=[\"mae\", \"mse\"],\n",
    "        global_step_transform=global_step_from_engine(trainer),\n",
    "    ),\n",
    "    event_name=Events.EPOCH_COMPLETED,\n",
    ")\n",
    "\n",
    "# Attach the logger to the trainer to log optimizer's parameters, e.g. learning rate at each iteration\n",
    "tb_logger.attach(\n",
    "    trainer,\n",
    "    log_handler=OptimizerParamsHandler(optimizer),\n",
    "    event_name=Events.ITERATION_STARTED,\n",
    ")\n",
    "\n",
    "# Attach the logger to the trainer to log model's weights norm after each iteration\n",
    "tb_logger.attach(\n",
    "    trainer,\n",
    "    log_handler=WeightsScalarHandler(model),\n",
    "    event_name=Events.ITERATION_COMPLETED,\n",
    ")\n",
    "\n",
    "# Attach the logger to the trainer to log model's weights as a histogram after each epoch\n",
    "tb_logger.attach(\n",
    "    trainer, log_handler=WeightsHistHandler(model), event_name=Events.EPOCH_COMPLETED\n",
    ")\n",
    "\n",
    "# Attach the logger to the trainer to log model's gradients norm after each iteration\n",
    "tb_logger.attach(\n",
    "    trainer,\n",
    "    log_handler=GradsScalarHandler(model),\n",
    "    event_name=Events.ITERATION_COMPLETED,\n",
    ")\n",
    "\n",
    "# Attach the logger to the trainer to log model's gradients as a histogram after each epoch\n",
    "tb_logger.attach(\n",
    "    trainer, log_handler=GradsHistHandler(model), event_name=Events.EPOCH_COMPLETED\n",
    ")\n",
    "\n",
    "\n",
    "@trainer.on(Events.ITERATION_COMPLETED)\n",
    "def log_training_loss(trainer):\n",
    "    logger.info(\n",
    "        \"Epoch[{}] Loss: {:.7f}\".format(trainer.state.epoch, trainer.state.output)\n",
    "    )\n",
    "\n",
    "\n",
    "@trainer.on(Events.EPOCH_COMPLETED)\n",
    "def log_training_results(trainer):\n",
    "    train_evaluator.run(train_dataloader)\n",
    "    metrics = train_evaluator.state.metrics\n",
    "    logger.info(\n",
    "        \"Training Results - Epoch: {} MSE: {:.7f} MAE: {:.7f}\".format(\n",
    "            trainer.state.epoch, metrics[\"mse\"], metrics[\"mae\"]\n",
    "        )\n",
    "    )\n",
    "\n",
    "\n",
    "@trainer.on(Events.EPOCH_COMPLETED)\n",
    "def log_validation_results(trainer):\n",
    "    validation_evaluator.run(test_dataloader)\n",
    "    metrics = validation_evaluator.state.metrics\n",
    "    logger.info(\n",
    "        \"Validation Results - Epoch: {} MSE: {:.7f} MAE: {:.7f}\".format(\n",
    "            trainer.state.epoch, metrics[\"mse\"], metrics[\"mae\"]\n",
    "        )\n",
    "    )\n",
    "    lr_scheduler.step(metrics[\"mae\"])\n",
    "\n",
    "\n",
    "trainer.run(train_dataloader, max_epochs=100)\n",
    "# We need to close the logger with we are done\n",
    "tb_logger.close()"
   ]
  },
  {
   "cell_type": "code",
   "execution_count": 65,
   "metadata": {},
   "outputs": [
    {
     "data": {
      "text/plain": [
       "BaselineLSTM(\n",
       "  (lstm): LSTM(53824, 1024, num_layers=10, batch_first=True)\n",
       "  (linear): Linear(in_features=10240, out_features=53824, bias=True)\n",
       ")"
      ]
     },
     "execution_count": 65,
     "metadata": {},
     "output_type": "execute_result"
    }
   ],
   "source": [
    "model"
   ]
  },
  {
   "cell_type": "code",
   "execution_count": 66,
   "metadata": {},
   "outputs": [
    {
     "data": {
      "text/plain": [
       "<All keys matched successfully>"
      ]
     },
     "execution_count": 66,
     "metadata": {},
     "output_type": "execute_result"
    }
   ],
   "source": [
    "import torch\n",
    "\n",
    "model.load_state_dict(\n",
    "    torch.load(\n",
    "        \"model_checkpoints/country_level-lr=0.001,input_size=53824,hidden_size=1024,num_layers=10_epi_64_mae=0.02303406.pth\"\n",
    "    )\n",
    ")\n",
    "# model = model.to(device)"
   ]
  },
  {
   "cell_type": "code",
   "execution_count": 67,
   "metadata": {},
   "outputs": [
    {
     "data": {
      "text/plain": [
       "StandardScaler(copy=True, with_mean=True, with_std=True)"
      ]
     },
     "execution_count": 67,
     "metadata": {},
     "output_type": "execute_result"
    }
   ],
   "source": [
    "import joblib\n",
    "\n",
    "scaler = joblib.load(\"data/EpiGCN/standard_scaler.pkl\")\n",
    "scaler"
   ]
  },
  {
   "cell_type": "code",
   "execution_count": 68,
   "metadata": {},
   "outputs": [],
   "source": [
    "def get_scaled_output(y):\n",
    "    shape = y.shape\n",
    "    y = y.reshape(-1)\n",
    "    mean = scaler.mean_[0]\n",
    "    scale = scaler.scale_[0]\n",
    "    return (scale * y + mean).reshape(*shape)"
   ]
  },
  {
   "cell_type": "code",
   "execution_count": 69,
   "metadata": {},
   "outputs": [],
   "source": [
    "predictions, truth = [], []\n",
    "with torch.no_grad():\n",
    "    for batch_x, batch_y in test_dataloader:\n",
    "        logits = model(batch_x.to(device))\n",
    "        predictions.append(get_scaled_output(logits.cpu().numpy()))\n",
    "        truth.append(get_scaled_output(batch_y.cpu().numpy()))\n",
    "predictions = np.concatenate(predictions)\n",
    "truth = np.concatenate(truth)"
   ]
  },
  {
   "cell_type": "code",
   "execution_count": 70,
   "metadata": {},
   "outputs": [
    {
     "data": {
      "text/plain": [
       "(34, 232, 232, 1)"
      ]
     },
     "execution_count": 70,
     "metadata": {},
     "output_type": "execute_result"
    }
   ],
   "source": [
    "truth.shape"
   ]
  },
  {
   "cell_type": "markdown",
   "metadata": {},
   "source": [
    "# Test Viz"
   ]
  },
  {
   "cell_type": "code",
   "execution_count": 71,
   "metadata": {},
   "outputs": [
    {
     "data": {
      "text/plain": [
       "<matplotlib.legend.Legend at 0x7fd91321aa90>"
      ]
     },
     "execution_count": 71,
     "metadata": {},
     "output_type": "execute_result"
    },
    {
     "data": {
      "image/png": "[encoded data removed]",
      "text/plain": [
       "<Figure size 1440x432 with 1 Axes>"
      ]
     },
     "metadata": {
      "needs_background": "light"
     },
     "output_type": "display_data"
    }
   ],
   "source": [
    "fig, ax = plt.subplots(figsize=(20, 6))\n",
    "ax.set_title(\"Incidence\", fontsize=20)\n",
    "# ax.set_ylabel(\"Latent\", fontsize=20)\n",
    "ax.set_xlabel(\"Days\", fontsize=20)\n",
    "ax.plot(\n",
    "    np.expm1(predictions).mean(axis=(1, 2))[:, 0], label=\"Prediction\",\n",
    ")\n",
    "ax.plot(np.expm1(truth).mean(axis=(1, 2))[:, 0], label=\"Truth\")\n",
    "ax.legend()"
   ]
  },
  {
   "cell_type": "markdown",
   "metadata": {},
   "source": [
    "The above plot is mean count across all countries (y-axis) vs time (x-axis)"
   ]
  },
  {
   "cell_type": "code",
   "execution_count": 48,
   "metadata": {},
   "outputs": [
    {
     "data": {
      "application/vnd.jupyter.widget-view+json": {
       "model_id": "412998a27b624e6fbebf24f761fe4ae0",
       "version_major": 2,
       "version_minor": 0
      },
      "text/plain": [
       "interactive(children=(Dropdown(description='country_id', options=(0, 1, 2, 3, 4, 5, 6, 7, 8, 9, 10, 11, 12, 13…"
      ]
     },
     "metadata": {},
     "output_type": "display_data"
    }
   ],
   "source": [
    "from ipywidgets import interact\n",
    "\n",
    "\n",
    "@interact\n",
    "def plot(country_id=list(range(232))):\n",
    "    fig, ax = plt.subplots(2, 1, figsize=(20, 12))\n",
    "    ax[0].set_title(\"Test Truth: Incidence\", fontsize=20)\n",
    "    ax[1].set_title(\"Test Predictions: Incidence\", fontsize=20)\n",
    "    ax[0].set_ylabel(\"Infectious_SympT\", fontsize=20)\n",
    "    ax[1].set_ylabel(\"Infectious_SympT\", fontsize=20)\n",
    "    # ax[0].set_xlabel(\"Days\", fontsize=20)\n",
    "    for i in range(truth.shape[1]):\n",
    "        ax[0].plot(np.expm1(truth[:, country_id, i, 0]))\n",
    "        ax[1].plot(np.expm1(predictions[:, country_id, i, 0]))"
   ]
  },
  {
   "cell_type": "code",
   "execution_count": 49,
   "metadata": {},
   "outputs": [
    {
     "data": {
      "text/plain": [
       "0.17590769"
      ]
     },
     "execution_count": 49,
     "metadata": {},
     "output_type": "execute_result"
    }
   ],
   "source": [
    "np.abs(truth - predictions).mean()"
   ]
  },
  {
   "cell_type": "code",
   "execution_count": 50,
   "metadata": {},
   "outputs": [
    {
     "data": {
      "text/plain": [
       "217649.56"
      ]
     },
     "execution_count": 50,
     "metadata": {},
     "output_type": "execute_result"
    }
   ],
   "source": [
    "np.square(np.expm1(truth) - np.expm1(predictions)).mean()"
   ]
  },
  {
   "cell_type": "code",
   "execution_count": 51,
   "metadata": {},
   "outputs": [
    {
     "data": {
      "text/plain": [
       "13.761456"
      ]
     },
     "execution_count": 51,
     "metadata": {},
     "output_type": "execute_result"
    }
   ],
   "source": [
    "np.abs(np.expm1(truth) - np.expm1(predictions)).mean()"
   ]
  },
  {
   "cell_type": "markdown",
   "metadata": {},
   "source": [
    "## Train viz"
   ]
  },
  {
   "cell_type": "code",
   "execution_count": 52,
   "metadata": {},
   "outputs": [],
   "source": [
    "x_train = get_scaled_output(x_train)\n",
    "y_train = get_scaled_output(y_train)"
   ]
  },
  {
   "cell_type": "code",
   "execution_count": 53,
   "metadata": {},
   "outputs": [
    {
     "data": {
      "text/plain": [
       "(312, 232, 232, 10)"
      ]
     },
     "execution_count": 53,
     "metadata": {},
     "output_type": "execute_result"
    }
   ],
   "source": [
    "x_train.shape"
   ]
  },
  {
   "cell_type": "code",
   "execution_count": 54,
   "metadata": {},
   "outputs": [
    {
     "data": {
      "application/vnd.jupyter.widget-view+json": {
       "model_id": "7fc7d69d726b45f4b1fb6086c1cb417a",
       "version_major": 2,
       "version_minor": 0
      },
      "text/plain": [
       "interactive(children=(Dropdown(description='country_id', options=(0, 1, 2, 3, 4, 5, 6, 7, 8, 9, 10, 11, 12, 13…"
      ]
     },
     "metadata": {},
     "output_type": "display_data"
    }
   ],
   "source": [
    "from ipywidgets import interact\n",
    "\n",
    "@interact\n",
    "def plot(country_id=list(range(232))):\n",
    "    fig, ax = plt.subplots(2, 1, figsize=(20, 12))\n",
    "    ax[0].set_title(\"Training Data X: Incidence\", fontsize=20)\n",
    "    ax[1].set_title(\"Training Data Y: Incidence\", fontsize=20)\n",
    "    ax[0].set_ylabel(\"Infectious_SympT\", fontsize=20)\n",
    "#     ax[0].set_xlabel(\"Days\", fontsize=20)\n",
    "    for i in range(truth.shape[1]):\n",
    "        ax[0].plot(np.expm1(x_train[country_id, :, i, 0]))\n",
    "        ax[1].plot(np.expm1(y_train[country_id, :, i, 0]))"
   ]
  },
  {
   "cell_type": "code",
   "execution_count": 55,
   "metadata": {},
   "outputs": [],
   "source": [
    "train_dataloader = DataLoader(train_dataset, batch_size=12, shuffle=False, num_workers=12)"
   ]
  },
  {
   "cell_type": "code",
   "execution_count": 56,
   "metadata": {},
   "outputs": [],
   "source": [
    "train_predictions, train_truth = [], []\n",
    "with torch.no_grad():\n",
    "    for batch_x, batch_y in train_dataloader:\n",
    "        logits = model(batch_x.to(device))\n",
    "        train_predictions.append(get_scaled_output(logits.cpu()))\n",
    "        train_truth.append(get_scaled_output(batch_y.cpu()))\n",
    "train_predictions = np.concatenate(train_predictions)\n",
    "train_truth = np.concatenate(train_truth)"
   ]
  },
  {
   "cell_type": "code",
   "execution_count": 57,
   "metadata": {},
   "outputs": [
    {
     "data": {
      "application/vnd.jupyter.widget-view+json": {
       "model_id": "541358cb7053410baad889d637743c81",
       "version_major": 2,
       "version_minor": 0
      },
      "text/plain": [
       "interactive(children=(Dropdown(description='country_id', options=(0, 1, 2, 3, 4, 5, 6, 7, 8, 9, 10, 11, 12, 13…"
      ]
     },
     "metadata": {},
     "output_type": "display_data"
    }
   ],
   "source": [
    "from ipywidgets import interact\n",
    "\n",
    "@interact\n",
    "def plot(country_id=list(range(232))):\n",
    "    fig, ax = plt.subplots(2, 1, figsize=(20, 12))\n",
    "    ax[0].set_title(\"Training Truth: Incidence\", fontsize=20)\n",
    "    ax[1].set_title(\"Training Predictions: Incidence\", fontsize=20)\n",
    "    ax[0].set_ylabel(\"Infectious_SympT\", fontsize=20)\n",
    "#     ax[0].set_xlabel(\"Days\", fontsize=20)\n",
    "    for i in range(truth.shape[1]):\n",
    "        ax[0].plot(np.expm1(train_truth[:, country_id, i, 0]))\n",
    "        ax[1].plot(np.expm1(train_predictions[:, country_id, i, 0]))"
   ]
  },
  {
   "cell_type": "code",
   "execution_count": null,
   "metadata": {},
   "outputs": [],
   "source": []
  }
 ],
 "metadata": {
  "kernelspec": {
   "display_name": "Python [conda env:epigcn] *",
   "language": "python",
   "name": "conda-env-epigcn-py"
  },
  "language_info": {
   "codemirror_mode": {
    "name": "ipython",
    "version": 3
   },
   "file_extension": ".py",
   "mimetype": "text/x-python",
   "name": "python",
   "nbconvert_exporter": "python",
   "pygments_lexer": "ipython3",
   "version": "3.7.5"
  }
 },
 "nbformat": 4,
 "nbformat_minor": 4
}
