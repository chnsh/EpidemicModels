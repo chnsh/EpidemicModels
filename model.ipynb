{
 "cells": [
  {
   "cell_type": "code",
   "execution_count": 1,
   "metadata": {},
   "outputs": [],
   "source": [
    "%matplotlib inline\n",
    "import pandas as pd\n",
    "import numpy as np\n",
    "import matplotlib.pyplot as plt\n",
    "import logging\n",
    "import h5py\n",
    "import gzip\n",
    "import json\n",
    "import os\n",
    "import tqdm\n",
    "\n",
    "import warnings\n",
    "warnings.filterwarnings('ignore')\n",
    "\n",
    "import ipywidgets as widgets\n",
    "from ipywidgets import interact, interact_manual\n",
    "\n",
    "logging.basicConfig()\n",
    "logger = logging.getLogger()\n",
    "logger.setLevel(logging.ERROR)"
   ]
  },
  {
   "cell_type": "markdown",
   "metadata": {},
   "source": [
    "# Setup dataset"
   ]
  },
  {
   "cell_type": "code",
   "execution_count": 2,
   "metadata": {},
   "outputs": [],
   "source": [
    "with h5py.File(\"data/EpiGCN/train_test.hdf5\", \"r\") as f:\n",
    "    x_train = f[\"x_train\"].value[..., 0]\n",
    "    x_test = f[\"x_test\"].value[..., 0]\n",
    "    y_train = f[\"y_train\"].value[..., 0]\n",
    "    y_test = f[\"y_test\"].value[..., 0]"
   ]
  },
  {
   "cell_type": "code",
   "execution_count": 3,
   "metadata": {},
   "outputs": [],
   "source": [
    "# x_train = x_train[:, 0, :, :, :]\n",
    "# # x_test = x_test[:, 0, :, :, :]\n",
    "# y_train = y_train[:, 0, :, :, :]\n",
    "# y_test = y_test[:, 0, :, :, :]"
   ]
  },
  {
   "cell_type": "code",
   "execution_count": 4,
   "metadata": {},
   "outputs": [
    {
     "name": "stdout",
     "output_type": "stream",
     "text": [
      "X train shape:  (312, 232, 232, 10)\n",
      "X test shape:  (34, 232, 232, 10)\n",
      "Y train shape:  (312, 232, 232, 1)\n",
      "Y test shape:  (34, 232, 232, 1)\n"
     ]
    }
   ],
   "source": [
    "print(\"X train shape: \", x_train.shape)\n",
    "print(\"X test shape: \", x_test.shape)\n",
    "print(\"Y train shape: \", y_train.shape)\n",
    "print(\"Y test shape: \", y_test.shape)"
   ]
  },
  {
   "cell_type": "code",
   "execution_count": 5,
   "metadata": {},
   "outputs": [
    {
     "name": "stdout",
     "output_type": "stream",
     "text": [
      "cpu\n"
     ]
    }
   ],
   "source": [
    "import torch\n",
    "use_cuda = torch.cuda.is_available()\n",
    "# device = torch.device(\"cuda:0\" if use_cuda else \"cpu\")\n",
    "device = torch.device(\"cpu\")\n",
    "print(device)"
   ]
  },
  {
   "cell_type": "markdown",
   "metadata": {},
   "source": [
    "# Define Dataset"
   ]
  },
  {
   "cell_type": "code",
   "execution_count": 6,
   "metadata": {},
   "outputs": [],
   "source": [
    "import torch\n",
    "from torch.utils.data import Dataset, DataLoader, TensorDataset\n",
    "\n",
    "train_dataset = TensorDataset(torch.FloatTensor(x_train), torch.FloatTensor(y_train))\n",
    "test_dataset = TensorDataset(torch.FloatTensor(x_test), torch.FloatTensor(y_test))"
   ]
  },
  {
   "cell_type": "markdown",
   "metadata": {},
   "source": [
    "# Define Dataloader"
   ]
  },
  {
   "cell_type": "code",
   "execution_count": 7,
   "metadata": {},
   "outputs": [],
   "source": [
    "# params = {\"batch_size\": 12, \"shuffle\": True, \"num_workers\": 4}\n",
    "\n",
    "train_dataloader = DataLoader(train_dataset, batch_size=12, shuffle=True, num_workers=0)\n",
    "test_dataloader = DataLoader(test_dataset, batch_size=12, shuffle=False, num_workers=0)"
   ]
  },
  {
   "cell_type": "markdown",
   "metadata": {},
   "source": [
    "# Define the Model!"
   ]
  },
  {
   "cell_type": "code",
   "execution_count": 8,
   "metadata": {
    "jupyter": {
     "source_hidden": true
    }
   },
   "outputs": [],
   "source": [
    "# import torch.nn as nn\n",
    "# import torch.nn.functional as F\n",
    "\n",
    "\n",
    "# class BaselineLSTM(nn.Module):\n",
    "#     def __init__(self, input_size, hidden_size, num_layers):\n",
    "#         super(BaselineLSTM, self).__init__()\n",
    "#         self.num_layers = num_layers\n",
    "#         self.lstm = nn.LSTM(\n",
    "#             input_size=input_size,\n",
    "#             hidden_size=hidden_size,\n",
    "#             batch_first=True,\n",
    "#             num_layers=num_layers,\n",
    "#         )\n",
    "#         self.linear_layers = nn.Sequential(\n",
    "#             nn.Linear(hidden_size * num_layers, (hidden_size * num_layers * 2)),\n",
    "#             nn.LeakyReLU(),\n",
    "#             nn.Linear((hidden_size * num_layers * 2), input_size)\n",
    "#         )\n",
    "\n",
    "#     def forward(self, lstm_input):\n",
    "#         \"\"\"\n",
    "#         :lstm_input: (b, 232, 232, 10)\n",
    "#         \"\"\"\n",
    "#         #         print(lstm_input.size())\n",
    "#         b, n_countries, n_countries, seq_len = lstm_input.size()\n",
    "#         lstm_input = lstm_input.permute(0, 3, 1, 2)\n",
    "#         _, (hn, __) = self.lstm(lstm_input.contiguous().view(b, seq_len, -1))\n",
    "#         hn = hn.permute(1, 0, 2)\n",
    "#         return self.linear_layers(hn.reshape(b, -1)).view(b, n_countries, n_countries, 1)"
   ]
  },
  {
   "cell_type": "code",
   "execution_count": 8,
   "metadata": {},
   "outputs": [],
   "source": [
    "import torch.nn as nn\n",
    "import torch.nn.functional as F\n",
    "\n",
    "\n",
    "class BaselineLSTM(nn.Module):\n",
    "    def __init__(self, input_size, hidden_size, num_layers):\n",
    "        super(BaselineLSTM, self).__init__()\n",
    "        self.num_layers = num_layers\n",
    "        self.lstm = nn.LSTM(\n",
    "            input_size=input_size,\n",
    "            hidden_size=hidden_size,\n",
    "            batch_first=True,\n",
    "            num_layers=num_layers,\n",
    "        )\n",
    "        self.linear = nn.Linear(hidden_size * num_layers, input_size)\n",
    "\n",
    "    def forward(self, lstm_input):\n",
    "        \"\"\"\n",
    "        :lstm_input: (b, 232, 232, 10)\n",
    "        \"\"\"\n",
    "        #         print(lstm_input.size())\n",
    "        b, n_countries, n_countries, seq_len = lstm_input.size()\n",
    "        lstm_input = lstm_input.permute(0, 3, 1, 2)\n",
    "        _, (hn, __) = self.lstm(lstm_input.contiguous().view(b, seq_len, -1))\n",
    "        hn = hn.permute(1, 0, 2)\n",
    "        return self.linear(hn.reshape(b, -1)).view(b, n_countries, n_countries, 1)"
   ]
  },
  {
   "cell_type": "code",
   "execution_count": null,
   "metadata": {
    "jupyter": {
     "source_hidden": true
    }
   },
   "outputs": [],
   "source": [
    "# params = {\n",
    "#     \"lr\": 0.001,\n",
    "#     \"input_size\": 232 * 232,\n",
    "#     \"hidden_size\": 1024,\n",
    "#     \"num_rnn_layers\": 30,\n",
    "# }\n",
    "\n",
    "# params_str = \",\".join([\"{}={}\".format(k, v) for k, v in params.items()])\n",
    "\n",
    "# model = BaselineLSTM(\n",
    "#     input_size=params[\"input_size\"],\n",
    "#     hidden_size=params[\"hidden_size\"],\n",
    "#     num_layers=params[\"num_layers\"],\n",
    "# )\n",
    "# optimizer = torch.optim.Adam(model.parameters(), lr=params[\"lr\"])\n",
    "# lr_scheduler = torch.optim.lr_scheduler.ReduceLROnPlateau(\n",
    "#     optimizer, patience=3, factor=0.5\n",
    "# )\n",
    "\n",
    "# mse = torch.nn.MSELoss()\n",
    "# mae = torch.nn.L1Loss()\n",
    "\n",
    "\n",
    "# class ModelSupervisor:\n",
    "#     def __init__(\n",
    "#         self,\n",
    "#         input_size,\n",
    "#         hidden_size,\n",
    "#         num_rnn_layers,\n",
    "#         lr_scheduler_patience=3,\n",
    "#         lr_scheduler_decay_factor=0.5,\n",
    "#     ):\n",
    "#         self.model = BaselineLSTM(\n",
    "#             input_size=params[\"input_size\"],\n",
    "#             hidden_size=params[\"hidden_size\"],\n",
    "#             num_layers=params[\"num_rnn_layers\"],\n",
    "#         )\n",
    "\n",
    "#         self.optimizer = torch.optim.Adam(self.model.parameters(), lr=params[\"lr\"])\n",
    "#         self.mae = torch.nn.L1Loss()\n",
    "#         self.mse = torch.nn.MSELoss()\n",
    "#         self.lr_scheduler = torch.optim.lr_scheduler.ReduceLROnPlateau(\n",
    "#             self.optimizer, patience=3, factor=0.5\n",
    "#         )\n",
    "\n",
    "#     def train(self, dataloader):\n",
    "#         for train_x, train_y in train_dataloader:\n",
    "#             self.model = self.model.train()\n",
    "#             optimizer.zero_grad()\n",
    "#             logits = model(train_x)\n",
    "#             loss = mae(logits, train_y)\n",
    "#             loss.backward()\n",
    "#             optimizer.step()\n",
    "#             del loss\n",
    "#             del logits"
   ]
  },
  {
   "cell_type": "markdown",
   "metadata": {},
   "source": [
    "# Ignite!"
   ]
  },
  {
   "cell_type": "code",
   "execution_count": null,
   "metadata": {
    "jupyter": {
     "source_hidden": true
    }
   },
   "outputs": [],
   "source": [
    "# params = {\"lr\": 0.001, \"input_size\": 232 * 232, \"hidden_size\": 1024, \"num_layers\": 10}\n",
    "\n",
    "# params_str = \",\".join([\"{}={}\".format(k, v) for k, v in params.items()])\n",
    "\n",
    "# model = BaselineLSTM(\n",
    "#     input_size=params[\"input_size\"],\n",
    "#     hidden_size=params[\"hidden_size\"],\n",
    "#     num_layers=params[\"num_layers\"],\n",
    "# )"
   ]
  },
  {
   "cell_type": "code",
   "execution_count": 9,
   "metadata": {},
   "outputs": [],
   "source": [
    "params = {\"lr\": 0.001, \"input_size\": 232 * 232, \"hidden_size\": 1024, \"num_layers\": 10}\n",
    "\n",
    "params_str = \",\".join([\"{}={}\".format(k, v) for k, v in params.items()])\n",
    "\n",
    "model = BaselineLSTM(\n",
    "    input_size=params[\"input_size\"],\n",
    "    hidden_size=params[\"hidden_size\"],\n",
    "    num_layers=params[\"num_layers\"],\n",
    ")"
   ]
  },
  {
   "cell_type": "code",
   "execution_count": null,
   "metadata": {},
   "outputs": [
    {
     "data": {
      "text/html": [
       "\n",
       "                Logging results to <a href=\"https://wandb.com\" target=\"_blank\">Weights & Biases</a> <a href=\"https://docs.wandb.com/integrations/jupyter.html\" target=\"_blank\">(Documentation)</a>.<br/>\n",
       "                Project page: <a href=\"https://app.wandb.ai/chnsh/epigcn\" target=\"_blank\">https://app.wandb.ai/chnsh/epigcn</a><br/>\n",
       "                Run page: <a href=\"https://app.wandb.ai/chnsh/epigcn/runs/ss3mbc5e\" target=\"_blank\">https://app.wandb.ai/chnsh/epigcn/runs/ss3mbc5e</a><br/>\n",
       "            "
      ],
      "text/plain": [
       "<IPython.core.display.HTML object>"
      ]
     },
     "metadata": {},
     "output_type": "display_data"
    },
    {
     "name": "stderr",
     "output_type": "stream",
     "text": [
      "ERROR:wandb.jupyter:Failed to query for notebook name, you can set it manually with the WANDB_NOTEBOOK_NAME environment variable\n",
      "wandb: WARNING Not logging key \"weights/lstm/weight_ih_l0\".  Histograms must have fewer than 512 bins\n",
      "wandb: WARNING Not logging key \"weights/lstm/weight_hh_l0\".  Histograms must have fewer than 512 bins\n",
      "wandb: WARNING Not logging key \"weights/lstm/bias_ih_l0\".  Histograms must have fewer than 512 bins\n",
      "wandb: WARNING Not logging key \"weights/lstm/bias_hh_l0\".  Histograms must have fewer than 512 bins\n",
      "wandb: WARNING Not logging key \"weights/lstm/weight_ih_l1\".  Histograms must have fewer than 512 bins\n",
      "wandb: WARNING Not logging key \"weights/lstm/weight_hh_l1\".  Histograms must have fewer than 512 bins\n",
      "wandb: WARNING Not logging key \"weights/lstm/bias_ih_l1\".  Histograms must have fewer than 512 bins\n",
      "wandb: WARNING Not logging key \"weights/lstm/bias_hh_l1\".  Histograms must have fewer than 512 bins\n",
      "wandb: WARNING Not logging key \"weights/lstm/weight_ih_l2\".  Histograms must have fewer than 512 bins\n",
      "wandb: WARNING Not logging key \"weights/lstm/weight_hh_l2\".  Histograms must have fewer than 512 bins\n",
      "wandb: WARNING Not logging key \"weights/lstm/bias_ih_l2\".  Histograms must have fewer than 512 bins\n",
      "wandb: WARNING Not logging key \"weights/lstm/bias_hh_l2\".  Histograms must have fewer than 512 bins\n",
      "wandb: WARNING Not logging key \"weights/lstm/weight_ih_l3\".  Histograms must have fewer than 512 bins\n",
      "wandb: WARNING Not logging key \"weights/lstm/weight_hh_l3\".  Histograms must have fewer than 512 bins\n",
      "wandb: WARNING Not logging key \"weights/lstm/bias_ih_l3\".  Histograms must have fewer than 512 bins\n",
      "wandb: WARNING Not logging key \"weights/lstm/bias_hh_l3\".  Histograms must have fewer than 512 bins\n",
      "wandb: WARNING Not logging key \"weights/lstm/weight_ih_l4\".  Histograms must have fewer than 512 bins\n",
      "wandb: WARNING Not logging key \"weights/lstm/weight_hh_l4\".  Histograms must have fewer than 512 bins\n",
      "wandb: WARNING Not logging key \"weights/lstm/bias_ih_l4\".  Histograms must have fewer than 512 bins\n",
      "wandb: WARNING Not logging key \"weights/lstm/bias_hh_l4\".  Histograms must have fewer than 512 bins\n",
      "wandb: WARNING Not logging key \"weights/lstm/weight_ih_l5\".  Histograms must have fewer than 512 bins\n",
      "wandb: WARNING Not logging key \"weights/lstm/weight_hh_l5\".  Histograms must have fewer than 512 bins\n",
      "wandb: WARNING Not logging key \"weights/lstm/bias_ih_l5\".  Histograms must have fewer than 512 bins\n",
      "wandb: WARNING Not logging key \"weights/lstm/bias_hh_l5\".  Histograms must have fewer than 512 bins\n",
      "wandb: WARNING Not logging key \"weights/lstm/weight_ih_l6\".  Histograms must have fewer than 512 bins\n",
      "wandb: WARNING Not logging key \"weights/lstm/weight_hh_l6\".  Histograms must have fewer than 512 bins\n",
      "wandb: WARNING Not logging key \"weights/lstm/bias_ih_l6\".  Histograms must have fewer than 512 bins\n",
      "wandb: WARNING Not logging key \"weights/lstm/bias_hh_l6\".  Histograms must have fewer than 512 bins\n",
      "wandb: WARNING Not logging key \"weights/lstm/weight_ih_l7\".  Histograms must have fewer than 512 bins\n",
      "wandb: WARNING Not logging key \"weights/lstm/weight_hh_l7\".  Histograms must have fewer than 512 bins\n",
      "wandb: WARNING Not logging key \"weights/lstm/bias_ih_l7\".  Histograms must have fewer than 512 bins\n",
      "wandb: WARNING Not logging key \"weights/lstm/bias_hh_l7\".  Histograms must have fewer than 512 bins\n",
      "wandb: WARNING Not logging key \"weights/lstm/weight_ih_l8\".  Histograms must have fewer than 512 bins\n",
      "wandb: WARNING Not logging key \"weights/lstm/weight_hh_l8\".  Histograms must have fewer than 512 bins\n",
      "wandb: WARNING Not logging key \"weights/lstm/bias_ih_l8\".  Histograms must have fewer than 512 bins\n",
      "wandb: WARNING Not logging key \"weights/lstm/bias_hh_l8\".  Histograms must have fewer than 512 bins\n",
      "wandb: WARNING Not logging key \"weights/lstm/weight_ih_l9\".  Histograms must have fewer than 512 bins\n",
      "wandb: WARNING Not logging key \"weights/lstm/weight_hh_l9\".  Histograms must have fewer than 512 bins\n",
      "wandb: WARNING Not logging key \"weights/lstm/bias_ih_l9\".  Histograms must have fewer than 512 bins\n",
      "wandb: WARNING Not logging key \"weights/lstm/bias_hh_l9\".  Histograms must have fewer than 512 bins\n"
     ]
    }
   ],
   "source": [
    "from torch.utils.tensorboard import SummaryWriter\n",
    "from ignite.engine import Events, create_supervised_trainer, create_supervised_evaluator\n",
    "from ignite.handlers import ModelCheckpoint\n",
    "from ignite.metrics import Loss\n",
    "from ignite.contrib.handlers.tensorboard_logger import *\n",
    "import wandb\n",
    "wandb.init(sync_tensorboard=True, name='country-level-10-layers-retry')\n",
    "\n",
    "params = {\"lr\": 0.001, \"input_size\": 232 * 232, \"hidden_size\": 1024, \"num_layers\": 10}\n",
    "\n",
    "params_str = \",\".join([\"{}={}\".format(k, v) for k, v in params.items()])\n",
    "\n",
    "wandb.config.initial_lr = params['lr']\n",
    "wandb.config.input_size = params['input_size']\n",
    "wandb.config.hidden_size = params['hidden_size']\n",
    "wandb.config.num_layers = params['num_layers']\n",
    "wandb.config.param_str = params_str\n",
    "\n",
    "model = BaselineLSTM(\n",
    "    input_size=params[\"input_size\"],\n",
    "    hidden_size=params[\"hidden_size\"],\n",
    "    num_layers=params[\"num_layers\"],\n",
    ")\n",
    "optimizer = torch.optim.Adam(model.parameters(), lr=params[\"lr\"])\n",
    "lr_scheduler = torch.optim.lr_scheduler.ReduceLROnPlateau(optimizer, patience=3, factor=0.5)\n",
    "\n",
    "mse = torch.nn.MSELoss()\n",
    "mae = torch.nn.L1Loss()\n",
    "\n",
    "tb_logger = TensorboardLogger(\n",
    "    log_dir=\"experiments/tb_logs/runs/country_level_shuffle_{}\".format(params_str)\n",
    ")\n",
    "\n",
    "trainer = create_supervised_trainer(model, optimizer, mae, device=device)\n",
    "\n",
    "metrics = {\"mae\": Loss(mae), \"mse\": Loss(mse)}\n",
    "\n",
    "train_evaluator = create_supervised_evaluator(model, metrics=metrics, device=device)\n",
    "validation_evaluator = create_supervised_evaluator(\n",
    "    model, metrics=metrics, device=device\n",
    ")\n",
    "\n",
    "\n",
    "def score_function(trainer):\n",
    "    validation_evaluator.run(test_dataloader)\n",
    "    metrics = validation_evaluator.state.metrics\n",
    "    mae = metrics[\"mae\"]\n",
    "    return -mae\n",
    "\n",
    "\n",
    "checkpointer = ModelCheckpoint(\n",
    "    \"model_checkpoints\",\n",
    "    \"country_level-\" + params_str,\n",
    "    score_function=score_function,\n",
    "    score_name=\"mae\",\n",
    "    n_saved=1,\n",
    "    create_dir=True,\n",
    "    save_as_state_dict=True,\n",
    "    require_empty=False,\n",
    ")\n",
    "\n",
    "trainer.add_event_handler(Events.EPOCH_COMPLETED, checkpointer, {\"epi\": model})\n",
    "\n",
    "tb_logger.attach(\n",
    "    trainer,\n",
    "    log_handler=OutputHandler(\n",
    "        tag=\"training\", output_transform=lambda loss: {\"loss\": loss}\n",
    "    ),\n",
    "    event_name=Events.ITERATION_COMPLETED,\n",
    ")\n",
    "\n",
    "tb_logger.attach(\n",
    "    train_evaluator,\n",
    "    log_handler=OutputHandler(\n",
    "        tag=\"training\",\n",
    "        metric_names=[\"mae\", \"mse\"],\n",
    "        global_step_transform=global_step_from_engine(trainer),\n",
    "    ),\n",
    "    event_name=Events.EPOCH_COMPLETED,\n",
    ")\n",
    "\n",
    "tb_logger.attach(\n",
    "    validation_evaluator,\n",
    "    log_handler=OutputHandler(\n",
    "        tag=\"validation\",\n",
    "        metric_names=[\"mae\", \"mse\"],\n",
    "        global_step_transform=global_step_from_engine(trainer),\n",
    "    ),\n",
    "    event_name=Events.EPOCH_COMPLETED,\n",
    ")\n",
    "\n",
    "# Attach the logger to the trainer to log optimizer's parameters, e.g. learning rate at each iteration\n",
    "tb_logger.attach(\n",
    "    trainer,\n",
    "    log_handler=OptimizerParamsHandler(optimizer),\n",
    "    event_name=Events.ITERATION_STARTED,\n",
    ")\n",
    "\n",
    "# Attach the logger to the trainer to log model's weights norm after each iteration\n",
    "tb_logger.attach(\n",
    "    trainer,\n",
    "    log_handler=WeightsScalarHandler(model),\n",
    "    event_name=Events.ITERATION_COMPLETED,\n",
    ")\n",
    "\n",
    "# Attach the logger to the trainer to log model's weights as a histogram after each epoch\n",
    "tb_logger.attach(\n",
    "    trainer, log_handler=WeightsHistHandler(model), event_name=Events.EPOCH_COMPLETED\n",
    ")\n",
    "\n",
    "# Attach the logger to the trainer to log model's gradients norm after each iteration\n",
    "tb_logger.attach(\n",
    "    trainer,\n",
    "    log_handler=GradsScalarHandler(model),\n",
    "    event_name=Events.ITERATION_COMPLETED,\n",
    ")\n",
    "\n",
    "# Attach the logger to the trainer to log model's gradients as a histogram after each epoch\n",
    "tb_logger.attach(\n",
    "    trainer, log_handler=GradsHistHandler(model), event_name=Events.EPOCH_COMPLETED\n",
    ")\n",
    "\n",
    "\n",
    "@trainer.on(Events.ITERATION_COMPLETED)\n",
    "def log_training_loss(trainer):\n",
    "    logger.info(\n",
    "        \"Epoch[{}] Loss: {:.7f}\".format(trainer.state.epoch, trainer.state.output)\n",
    "    )\n",
    "\n",
    "\n",
    "@trainer.on(Events.EPOCH_COMPLETED)\n",
    "def log_training_results(trainer):\n",
    "    train_evaluator.run(train_dataloader)\n",
    "    metrics = train_evaluator.state.metrics\n",
    "    logger.info(\n",
    "        \"Training Results - Epoch: {} MSE: {:.7f} MAE: {:.7f}\".format(\n",
    "            trainer.state.epoch, metrics[\"mse\"], metrics[\"mae\"]\n",
    "        )\n",
    "    )\n",
    "\n",
    "\n",
    "@trainer.on(Events.EPOCH_COMPLETED)\n",
    "def log_validation_results(trainer):\n",
    "    validation_evaluator.run(test_dataloader)\n",
    "    metrics = validation_evaluator.state.metrics\n",
    "    logger.info(\n",
    "        \"Validation Results - Epoch: {} MSE: {:.7f} MAE: {:.7f}\".format(\n",
    "            trainer.state.epoch, metrics[\"mse\"], metrics[\"mae\"]\n",
    "        )\n",
    "    )\n",
    "    lr_scheduler.step(metrics[\"mae\"])\n",
    "\n",
    "\n",
    "trainer.run(train_dataloader, max_epochs=100)\n",
    "# We need to close the logger with we are done\n",
    "tb_logger.close()"
   ]
  },
  {
   "cell_type": "code",
   "execution_count": 10,
   "metadata": {},
   "outputs": [
    {
     "data": {
      "text/plain": [
       "BaselineLSTM(\n",
       "  (lstm): LSTM(53824, 1024, num_layers=10, batch_first=True)\n",
       "  (linear): Linear(in_features=10240, out_features=53824, bias=True)\n",
       ")"
      ]
     },
     "execution_count": 10,
     "metadata": {},
     "output_type": "execute_result"
    }
   ],
   "source": [
    "model"
   ]
  },
  {
   "cell_type": "code",
   "execution_count": 12,
   "metadata": {},
   "outputs": [
    {
     "data": {
      "text/plain": [
       "<All keys matched successfully>"
      ]
     },
     "execution_count": 12,
     "metadata": {},
     "output_type": "execute_result"
    }
   ],
   "source": [
    "import torch\n",
    "\n",
    "model.load_state_dict(\n",
    "    torch.load(\n",
    "        \"model_checkpoints/country_level-lr=0.001,input_size=53824,hidden_size=1024,num_layers=10_epi_71_mae=0.01335459.pth\"\n",
    "    )\n",
    ")\n",
    "# model = model.to(device)"
   ]
  },
  {
   "cell_type": "code",
   "execution_count": 13,
   "metadata": {},
   "outputs": [
    {
     "data": {
      "text/plain": [
       "StandardScaler(copy=True, with_mean=True, with_std=True)"
      ]
     },
     "execution_count": 13,
     "metadata": {},
     "output_type": "execute_result"
    }
   ],
   "source": [
    "import joblib\n",
    "\n",
    "scaler = joblib.load(\"data/EpiGCN/standard_scaler.pkl\")\n",
    "scaler"
   ]
  },
  {
   "cell_type": "code",
   "execution_count": 14,
   "metadata": {},
   "outputs": [],
   "source": [
    "def get_scaled_output(y):\n",
    "    shape = y.shape\n",
    "    y = y.reshape(-1)\n",
    "    mean = scaler.mean_[0]\n",
    "    scale = scaler.scale_[0]\n",
    "    return (scale * y + mean).reshape(*shape)"
   ]
  },
  {
   "cell_type": "code",
   "execution_count": 15,
   "metadata": {},
   "outputs": [],
   "source": [
    "predictions, truth = [], []\n",
    "with torch.no_grad():\n",
    "    for batch_x, batch_y in test_dataloader:\n",
    "        logits = model(batch_x.to(device))\n",
    "        predictions.append(get_scaled_output(logits.cpu().numpy()))\n",
    "        truth.append(get_scaled_output(batch_y.cpu().numpy()))\n",
    "predictions = np.concatenate(predictions)\n",
    "truth = np.concatenate(truth)"
   ]
  },
  {
   "cell_type": "code",
   "execution_count": 16,
   "metadata": {},
   "outputs": [
    {
     "data": {
      "text/plain": [
       "(34, 232, 232, 1)"
      ]
     },
     "execution_count": 16,
     "metadata": {},
     "output_type": "execute_result"
    }
   ],
   "source": [
    "truth.shape"
   ]
  },
  {
   "cell_type": "markdown",
   "metadata": {},
   "source": [
    "# Test Viz"
   ]
  },
  {
   "cell_type": "code",
   "execution_count": 28,
   "metadata": {},
   "outputs": [],
   "source": [
    "# fig, ax = plt.subplots(figsize=(20, 6))\n",
    "# ax.set_title(\"Incidence\", fontsize=20)\n",
    "# # ax.set_ylabel(\"Latent\", fontsize=20)\n",
    "# ax.set_xlabel(\"Days\", fontsize=20)\n",
    "# ax.plot(\n",
    "#     np.expm1(predictions).mean(axis=(2))[:, 10, 0], label=\"Prediction\",\n",
    "# )\n",
    "# ax.plot(np.expm1(truth).mean(axis=(2))[:, 10, 0], label=\"Truth\")\n",
    "# ax.legend()"
   ]
  },
  {
   "cell_type": "code",
   "execution_count": 24,
   "metadata": {},
   "outputs": [
    {
     "data": {
      "text/plain": [
       "<matplotlib.legend.Legend at 0x7f49d2a9b690>"
      ]
     },
     "execution_count": 24,
     "metadata": {},
     "output_type": "execute_result"
    },
    {
     "data": {
      "image/png": "[encoded data removed]",
      "text/plain": [
       "<Figure size 1440x432 with 1 Axes>"
      ]
     },
     "metadata": {
      "needs_background": "light"
     },
     "output_type": "display_data"
    }
   ],
   "source": [
    "fig, ax = plt.subplots(figsize=(20, 6))\n",
    "ax.set_title(\"Incidence\", fontsize=20)\n",
    "# ax.set_ylabel(\"Latent\", fontsize=20)\n",
    "ax.set_xlabel(\"Days\", fontsize=20)\n",
    "ax.plot(\n",
    "    np.expm1(predictions).mean(axis=(1, 2))[:, 0], label=\"Prediction\",\n",
    ")\n",
    "ax.plot(np.expm1(truth).mean(axis=(1, 2))[:, 0], label=\"Truth\")\n",
    "ax.legend()"
   ]
  },
  {
   "cell_type": "markdown",
   "metadata": {},
   "source": [
    "The above plot is mean count across all countries (y-axis) vs time (x-axis)"
   ]
  },
  {
   "cell_type": "code",
   "execution_count": 29,
   "metadata": {},
   "outputs": [
    {
     "data": {
      "application/vnd.jupyter.widget-view+json": {
       "model_id": "3efb66e5b314469485ab05a684c53be3",
       "version_major": 2,
       "version_minor": 0
      },
      "text/plain": [
       "interactive(children=(Dropdown(description='country_id', options=(0, 1, 2, 3, 4, 5, 6, 7, 8, 9, 10, 11, 12, 13…"
      ]
     },
     "metadata": {},
     "output_type": "display_data"
    }
   ],
   "source": [
    "from ipywidgets import interact\n",
    "\n",
    "\n",
    "@interact\n",
    "def plot(country_id=list(range(232))):\n",
    "    fig, ax = plt.subplots(2, 1, figsize=(20, 12))\n",
    "    ax[0].set_title(\"Test Truth: Incidence\", fontsize=20)\n",
    "    ax[1].set_title(\"Test Predictions: Incidence\", fontsize=20)\n",
    "    ax[0].set_ylabel(\"Infectious_SympT\", fontsize=20)\n",
    "    ax[1].set_ylabel(\"Infectious_SympT\", fontsize=20)\n",
    "    # ax[0].set_xlabel(\"Days\", fontsize=20)\n",
    "    for i in range(truth.shape[1]):\n",
    "        ax[0].plot(np.expm1(truth[country_id, :, i, 0]))\n",
    "        ax[1].plot(np.expm1(predictions[country_id, :, i, 0]))"
   ]
  },
  {
   "cell_type": "code",
   "execution_count": 19,
   "metadata": {},
   "outputs": [
    {
     "data": {
      "text/plain": [
       "0.061268143"
      ]
     },
     "execution_count": 19,
     "metadata": {},
     "output_type": "execute_result"
    }
   ],
   "source": [
    "np.abs(truth - predictions).mean()"
   ]
  },
  {
   "cell_type": "code",
   "execution_count": 20,
   "metadata": {},
   "outputs": [
    {
     "data": {
      "text/plain": [
       "229465960000.0"
      ]
     },
     "execution_count": 20,
     "metadata": {},
     "output_type": "execute_result"
    }
   ],
   "source": [
    "np.square(np.expm1(truth) - np.expm1(predictions)).mean()"
   ]
  },
  {
   "cell_type": "code",
   "execution_count": 21,
   "metadata": {},
   "outputs": [
    {
     "data": {
      "text/plain": [
       "15164.935"
      ]
     },
     "execution_count": 21,
     "metadata": {},
     "output_type": "execute_result"
    }
   ],
   "source": [
    "np.abs(np.expm1(truth) - np.expm1(predictions)).mean()"
   ]
  },
  {
   "cell_type": "markdown",
   "metadata": {},
   "source": [
    "## Train viz"
   ]
  },
  {
   "cell_type": "code",
   "execution_count": null,
   "metadata": {},
   "outputs": [],
   "source": [
    "x_train = get_scaled_output(x_train)\n",
    "y_train = get_scaled_output(y_train)"
   ]
  },
  {
   "cell_type": "code",
   "execution_count": null,
   "metadata": {},
   "outputs": [],
   "source": [
    "x_train.shape"
   ]
  },
  {
   "cell_type": "code",
   "execution_count": null,
   "metadata": {},
   "outputs": [],
   "source": [
    "from ipywidgets import interact\n",
    "\n",
    "@interact\n",
    "def plot(country_id=list(range(232))):\n",
    "    fig, ax = plt.subplots(2, 1, figsize=(20, 12))\n",
    "    ax[0].set_title(\"Training Data X: Incidence\", fontsize=20)\n",
    "    ax[1].set_title(\"Training Data Y: Incidence\", fontsize=20)\n",
    "    ax[0].set_ylabel(\"Infectious_SympT\", fontsize=20)\n",
    "#     ax[0].set_xlabel(\"Days\", fontsize=20)\n",
    "    for i in range(truth.shape[1]):\n",
    "        ax[0].plot(np.expm1(x_train[country_id, :, i, 0]))\n",
    "        ax[1].plot(np.expm1(y_train[country_id, :, i, 0]))"
   ]
  },
  {
   "cell_type": "code",
   "execution_count": null,
   "metadata": {},
   "outputs": [],
   "source": [
    "train_dataloader = DataLoader(train_dataset, batch_size=12, shuffle=False, num_workers=12)"
   ]
  },
  {
   "cell_type": "code",
   "execution_count": null,
   "metadata": {},
   "outputs": [],
   "source": [
    "train_predictions, train_truth = [], []\n",
    "with torch.no_grad():\n",
    "    for batch_x, batch_y in train_dataloader:\n",
    "        logits = model(batch_x.to(device))\n",
    "        train_predictions.append(get_scaled_output(logits.cpu()))\n",
    "        train_truth.append(get_scaled_output(batch_y.cpu()))\n",
    "train_predictions = np.concatenate(train_predictions)\n",
    "train_truth = np.concatenate(train_truth)"
   ]
  },
  {
   "cell_type": "code",
   "execution_count": null,
   "metadata": {},
   "outputs": [],
   "source": [
    "from ipywidgets import interact\n",
    "\n",
    "@interact\n",
    "def plot(country_id=list(range(232))):\n",
    "    fig, ax = plt.subplots(2, 1, figsize=(20, 12))\n",
    "    ax[0].set_title(\"Training Truth: Incidence\", fontsize=20)\n",
    "    ax[1].set_title(\"Training Predictions: Incidence\", fontsize=20)\n",
    "    ax[0].set_ylabel(\"Infectious_SympT\", fontsize=20)\n",
    "#     ax[0].set_xlabel(\"Days\", fontsize=20)\n",
    "    for i in range(truth.shape[1]):\n",
    "        ax[0].plot(np.expm1(train_truth[:, country_id, i, 0]))\n",
    "        ax[1].plot(np.expm1(train_predictions[:, country_id, i, 0]))"
   ]
  },
  {
   "cell_type": "code",
   "execution_count": null,
   "metadata": {},
   "outputs": [],
   "source": []
  }
 ],
 "metadata": {
  "kernelspec": {
   "display_name": "Python [conda env:epigcn] *",
   "language": "python",
   "name": "conda-env-epigcn-py"
  },
  "language_info": {
   "codemirror_mode": {
    "name": "ipython",
    "version": 3
   },
   "file_extension": ".py",
   "mimetype": "text/x-python",
   "name": "python",
   "nbconvert_exporter": "python",
   "pygments_lexer": "ipython3",
   "version": "3.7.5"
  }
 },
 "nbformat": 4,
 "nbformat_minor": 4
}
