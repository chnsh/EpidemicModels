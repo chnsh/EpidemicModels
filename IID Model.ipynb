{
 "cells": [
  {
   "cell_type": "markdown",
   "metadata": {},
   "source": [
    "# Data wrangling approach\n",
    "\n",
    "Things to verify:\n",
    "1. Are the 4 features(counts) useful as predictors or is it okay to throw them away?  "
   ]
  },
  {
   "cell_type": "markdown",
   "metadata": {},
   "source": [
    "# Modeling Approach\n",
    "\n",
    "1. Generate sliding windowed data set as before\n",
    "2. Train test split as before\n",
    "3. Unroll matrix at country of origin dimension and treat each sample differently\n",
    "4. Standardize and log transform on just 1 feature\n",
    "5. Model the spatio-temporal data on different baselines (minus graph data)\n",
    "\n",
    "# Visualization approach\n",
    "\n",
    "1. Model the diffusion on an actual world map?"
   ]
  },
  {
   "cell_type": "code",
   "execution_count": 1,
   "metadata": {},
   "outputs": [],
   "source": [
    "%matplotlib inline\n",
    "import pandas as pd\n",
    "import numpy as np\n",
    "import matplotlib.pyplot as plt\n",
    "import logging\n",
    "import h5py\n",
    "import gzip\n",
    "import json\n",
    "import os\n",
    "import tqdm\n",
    "\n",
    "import warnings\n",
    "\n",
    "warnings.filterwarnings(\"ignore\")\n",
    "\n",
    "import ipywidgets as widgets\n",
    "from ipywidgets import interact, interact_manual\n",
    "\n",
    "logging.basicConfig()\n",
    "logger = logging.getLogger()\n",
    "logger.setLevel(logging.WARN)"
   ]
  },
  {
   "cell_type": "markdown",
   "metadata": {},
   "source": [
    "## Load data"
   ]
  },
  {
   "cell_type": "code",
   "execution_count": 268,
   "metadata": {},
   "outputs": [],
   "source": [
    "incidences = None\n",
    "with h5py.File(\"data/EpiGCN/processing/incidences.hdf5\", \"r\") as f:\n",
    "    incidences = f['incidences'][:]"
   ]
  },
  {
   "cell_type": "code",
   "execution_count": 269,
   "metadata": {},
   "outputs": [
    {
     "data": {
      "text/plain": [
       "(3181, 232, 366, 4)"
      ]
     },
     "execution_count": 269,
     "metadata": {},
     "output_type": "execute_result"
    }
   ],
   "source": [
    "incidences.shape"
   ]
  },
  {
   "cell_type": "markdown",
   "metadata": {},
   "source": [
    "### Normalize by population to get fraction of population infected"
   ]
  },
  {
   "cell_type": "code",
   "execution_count": 145,
   "metadata": {},
   "outputs": [],
   "source": [
    "import json\n",
    "countries_metadata = json.load(open('data/countries_metadata.json'))"
   ]
  },
  {
   "cell_type": "code",
   "execution_count": 141,
   "metadata": {},
   "outputs": [],
   "source": [
    "with gzip.open('data/output_0000.h5.gz') as fp:\n",
    "    f = h5py.File(fp,'r')\n",
    "    compartments = f['dset'].attrs['Columns']\n",
    "    country_ids = f['dset'].attrs['SelectedCountries']\n",
    "    prevalence = np.array(f['dset/countries/cumulative'], dtype=np.int64)\n",
    "    incidence = np.array(f['dset/countries/transitions'], dtype=np.int64)"
   ]
  },
  {
   "cell_type": "code",
   "execution_count": 142,
   "metadata": {},
   "outputs": [
    {
     "data": {
      "text/plain": [
       "array([ 71, 140, 149, 222, 103, 183, 199,  53, 113,  29, 221, 207,  47,\n",
       "        28, 213,  76, 157, 109, 181, 154, 164, 178,  50,  79, 108, 185,\n",
       "         7,  31, 128,  91,  75, 227,  70,  80,  81,  12, 179, 176, 172,\n",
       "       210,  94,  67, 200, 129, 218, 215, 110, 188,   2,  82, 187, 150,\n",
       "        61, 177, 119,  16, 180,  95, 208, 147,  54,  86,  15,  88,  60,\n",
       "        90, 158, 230,  58,   8, 144,  89, 202, 130, 104, 138,  10,  13,\n",
       "       161,  35, 193, 111, 229,  72,  48, 153,   5,  84, 117,  22, 191,\n",
       "       112,  73, 120, 214, 107,  62, 116,  85,   0, 206, 115,  34,  25,\n",
       "        45, 160, 205,  49,  78, 159,  63, 106, 201, 125, 216, 122, 134,\n",
       "         3,  52, 223,  43, 123,  41,  51, 135, 169, 101, 197,  39, 139,\n",
       "         1,  27,  55,  83,  23,   6,  65, 190,  74, 231, 145, 196, 211,\n",
       "       141,  32, 121, 155, 137, 114,  19,  99, 146,  11, 136, 220, 195,\n",
       "       105, 170, 219,  98, 203, 217, 173,  64, 228, 127, 212,  42, 156,\n",
       "       192, 182,  46,  59,  18, 102,  36, 168,  26,  87, 126, 124,  40,\n",
       "        97,  66,  92, 209, 174,  93, 171, 224, 226, 163,  20, 225, 152,\n",
       "        30,  38,  44, 204, 131, 194, 132,  68, 162, 175, 198, 100,  37,\n",
       "       143,   9,  96, 165, 167, 166, 151,  69, 133, 142, 186,  21, 189,\n",
       "         4, 184,  17, 118,  14,  24, 148,  33,  77,  56,  57])"
      ]
     },
     "execution_count": 142,
     "metadata": {},
     "output_type": "execute_result"
    }
   ],
   "source": [
    "country_ids"
   ]
  },
  {
   "cell_type": "code",
   "execution_count": 143,
   "metadata": {},
   "outputs": [],
   "source": [
    "def get_countries_population(country_ids, countries_metadata):\n",
    "    \"\"\"\n",
    "    countries are ordered using country ids, we query for their population and return it accordingly.\n",
    "    \"\"\"\n",
    "    return np.array(\n",
    "        list(map(lambda cid: countries_metadata[str(cid)][\"population\"], country_ids))\n",
    "    )"
   ]
  },
  {
   "cell_type": "code",
   "execution_count": 146,
   "metadata": {},
   "outputs": [],
   "source": [
    "countries_population = get_countries_population(country_ids, countries_metadata)"
   ]
  },
  {
   "cell_type": "code",
   "execution_count": 12,
   "metadata": {},
   "outputs": [],
   "source": [
    "incidences = (incidences / countries_population[np.newaxis, :, np.newaxis, np.newaxis])"
   ]
  },
  {
   "cell_type": "code",
   "execution_count": 13,
   "metadata": {},
   "outputs": [
    {
     "name": "stdout",
     "output_type": "stream",
     "text": [
      "min 0.0\n",
      "max 0.04334470989761092\n",
      "mean 0.0009119511804321677\n",
      "std 0.0023550459485025665\n"
     ]
    }
   ],
   "source": [
    "print(\"min\", incidences.min())\n",
    "print(\"max\", incidences.max())\n",
    "print(\"mean\", incidences.mean())\n",
    "print(\"std\", incidences.std())"
   ]
  },
  {
   "cell_type": "markdown",
   "metadata": {},
   "source": [
    "Now that incidences is (hopefully) normalized by population, we can use sliding windows and create train test sets"
   ]
  },
  {
   "cell_type": "code",
   "execution_count": 15,
   "metadata": {},
   "outputs": [],
   "source": [
    "with h5py.File('data/EpiGCN/processing/incidences_normalized.hdf5', 'w') as f:\n",
    "    f.create_dataset('incidences', data=incidences, compression=\"lzf\")"
   ]
  },
  {
   "cell_type": "markdown",
   "metadata": {},
   "source": [
    "## Load incidences normalized"
   ]
  },
  {
   "cell_type": "code",
   "execution_count": 60,
   "metadata": {},
   "outputs": [],
   "source": [
    "incidences_normalized = None\n",
    "with h5py.File(\"data/EpiGCN/processing/incidences_normalized.hdf5\", \"r\") as f:\n",
    "    incidences_normalized = f['incidences'][:]"
   ]
  },
  {
   "cell_type": "markdown",
   "metadata": {},
   "source": [
    "## Create sliding window dataset"
   ]
  },
  {
   "cell_type": "code",
   "execution_count": 61,
   "metadata": {},
   "outputs": [
    {
     "data": {
      "text/plain": [
       "(3181, 232, 366, 4)"
      ]
     },
     "execution_count": 61,
     "metadata": {},
     "output_type": "execute_result"
    }
   ],
   "source": [
    "incidences_normalized.shape"
   ]
  },
  {
   "cell_type": "code",
   "execution_count": 24,
   "metadata": {},
   "outputs": [],
   "source": [
    "from IPython.display import clear_output\n",
    "\n",
    "def generate_sliding_windows_dataset(incidences, t_lag=10, window_size=10):\n",
    "    \"\"\"\n",
    "    :t_lag: \n",
    "    :window_size: assumes this is less than 366\n",
    "    \"\"\"\n",
    "    with h5py.File(\"data/EpiGCN/dataset.hdf5\", \"w\") as fw:\n",
    "        x_ts = fw.create_dataset(\n",
    "            \"x_ts\",\n",
    "            compression=\"lzf\",\n",
    "            shape=((366 - t_lag - window_size + 1) * 3181, 232, window_size, 4),\n",
    "            maxshape=(None, 232, window_size, 4),\n",
    "        )\n",
    "        y_ts = fw.create_dataset(\n",
    "            \"y_ts\",\n",
    "            compression=\"lzf\",\n",
    "            shape=((366 - t_lag - window_size + 1) * 3181, 232, 1, 4),\n",
    "            maxshape=(None, 232, 1, 4),\n",
    "        )\n",
    "\n",
    "        start, end = t_lag + window_size, 367\n",
    "        window_indices = np.arange(start, end, step=1)\n",
    "        target_ix = 0\n",
    "        for ix in list(reversed(window_indices)):\n",
    "            print(ix, target_ix)\n",
    "            \n",
    "            x = incidences[:, :, (ix - window_size) : ix, :]\n",
    "            y = incidences[:, :, (ix - window_size - t_lag), :]\n",
    "\n",
    "            ## expand dims for y so that there is a single dimension for y\n",
    "            ## and then swap last 2 axis so that counts are again the last axis\n",
    "            y = np.swapaxes(np.expand_dims(y, -1), -1, -2)\n",
    "            x_ts[target_ix * 3181: (target_ix + 1) * 3181] = x\n",
    "            y_ts[target_ix * 3181: (target_ix + 1) * 3181] = y\n",
    "            target_ix += 1\n",
    "            clear_output(wait=True)\n",
    "        #     return np.stack(x_data), np.stack(y_data)"
   ]
  },
  {
   "cell_type": "code",
   "execution_count": 25,
   "metadata": {},
   "outputs": [
    {
     "name": "stdout",
     "output_type": "stream",
     "text": [
      "20 346\n"
     ]
    }
   ],
   "source": [
    "generate_sliding_windows_dataset(incidences_normalized)"
   ]
  },
  {
   "cell_type": "code",
   "execution_count": 27,
   "metadata": {},
   "outputs": [
    {
     "name": "stdout",
     "output_type": "stream",
     "text": [
      "(1103807, 232, 10, 4)\n",
      "(1103807, 232, 1, 4)\n"
     ]
    }
   ],
   "source": [
    "with h5py.File(\"data/EpiGCN/dataset.hdf5\", \"r\") as f:\n",
    "    print(f['x_ts'].shape)\n",
    "    print(f['y_ts'].shape)"
   ]
  },
  {
   "cell_type": "markdown",
   "metadata": {},
   "source": [
    "## Split into train and test"
   ]
  },
  {
   "cell_type": "code",
   "execution_count": 2,
   "metadata": {},
   "outputs": [],
   "source": [
    "def get_train_val_test_indices(t_lag=10, window_size=10, val_ratio=0.1, test_ratio=0.1, random_seed=42):\n",
    "    rng = np.random.RandomState(random_seed)\n",
    "    num_samples = (366 - t_lag - window_size + 1) * 3181\n",
    "    indices = list(range(num_samples))\n",
    "    rng.shuffle(indices)\n",
    "    train_ratio = 1 - val_ratio - test_ratio\n",
    "    train, validate, test = np.split(indices, [int(train_ratio*len(indices)), int((train_ratio + val_ratio)*len(indices))])\n",
    "    return train, validate, test"
   ]
  },
  {
   "cell_type": "code",
   "execution_count": 4,
   "metadata": {},
   "outputs": [
    {
     "name": "stdout",
     "output_type": "stream",
     "text": [
      "Training size: 883045\n",
      "Val size: 110381\n",
      "Test size: 110381\n"
     ]
    }
   ],
   "source": [
    "train_indices, val_indices, test_indices = get_train_val_test_indices()\n",
    "print(\"Training size:\", len(train_indices))\n",
    "print(\"Val size:\", len(val_indices))\n",
    "print(\"Test size:\", len(test_indices))"
   ]
  },
  {
   "cell_type": "code",
   "execution_count": 5,
   "metadata": {},
   "outputs": [],
   "source": [
    "x_ts = None\n",
    "y_ts = None\n",
    "\n",
    "with h5py.File(\"data/EpiGCN/dataset.hdf5\", \"r\") as f:\n",
    "    x_ts = f[\"x_ts\"][:]\n",
    "    y_ts = f[\"y_ts\"][:]"
   ]
  },
  {
   "cell_type": "markdown",
   "metadata": {},
   "source": [
    "This loads the entire dataset in memory - approx 50 GB and splits into train test"
   ]
  },
  {
   "cell_type": "code",
   "execution_count": 6,
   "metadata": {},
   "outputs": [],
   "source": [
    "def split_into_train_test_in_mem(train_indices, val_indices, test_indices):\n",
    "    x_train, y_train = x_ts[train_indices], y_ts[train_indices]\n",
    "    x_test, y_test = x_ts[test_indices], y_ts[test_indices]\n",
    "    x_val, y_val = x_ts[val_indices], y_ts[val_indices]\n",
    "    \n",
    "    print(\"finished splitting\")\n",
    "    for cat in ['train', 'val', 'test']:\n",
    "        _x, _y = locals()[\"x_\" + cat], locals()[\"y_\" + cat]\n",
    "        with h5py.File('data/EpiGCN/{}.hdf5'.format(cat), 'w') as f:\n",
    "            f.create_dataset('x', data=_x, compression=\"lzf\")\n",
    "            f.create_dataset('y', data=_y, compression=\"lzf\")"
   ]
  },
  {
   "cell_type": "code",
   "execution_count": 8,
   "metadata": {},
   "outputs": [
    {
     "name": "stdout",
     "output_type": "stream",
     "text": [
      "finished splitting\n"
     ]
    }
   ],
   "source": [
    "split_into_train_test_in_mem(train_indices, val_indices, test_indices)"
   ]
  },
  {
   "cell_type": "code",
   "execution_count": 10,
   "metadata": {},
   "outputs": [
    {
     "name": "stdout",
     "output_type": "stream",
     "text": [
      "X:  (883045, 232, 10, 4) y:  (883045, 232, 1, 4)\n",
      "X:  (110381, 232, 10, 4) y:  (110381, 232, 1, 4)\n",
      "X:  (110381, 232, 10, 4) y:  (110381, 232, 1, 4)\n"
     ]
    }
   ],
   "source": [
    "for cat in ['train', 'val', 'test']:\n",
    "    with h5py.File('data/EpiGCN/{}.hdf5'.format(cat), 'r') as f:\n",
    "        print(\"X: \", f['x'].shape, 'y: ',f['y'].shape)"
   ]
  },
  {
   "cell_type": "markdown",
   "metadata": {},
   "source": [
    "This method allows streaming train test split of the data"
   ]
  },
  {
   "cell_type": "code",
   "execution_count": 11,
   "metadata": {},
   "outputs": [],
   "source": [
    "# def split_into_train_test(train_incides, test_indices, window_size=10):\n",
    "#     with h5py.File(\"data/EpiGCN/dataset.hdf5\", \"r\") as f:\n",
    "#         with h5py.File(\"data/EpiGCN/train_test.hdf5\", \"w\") as fw:\n",
    "#             x_ts = f[\"x_ts\"][:]\n",
    "#             print(\"x data loaded\")\n",
    "\n",
    "#             y_ts = f[\"y_ts\"][:]\n",
    "\n",
    "#             print(\"y data loaded\")\n",
    "\n",
    "#             x_train = fw.create_dataset(\n",
    "#                 \"x_train\",\n",
    "#                 compression=\"lzf\",\n",
    "#                 shape=(len(train_indices), 232, window_size, 4),\n",
    "#                 maxshape=(None, 232, window_size, 4),\n",
    "#             )\n",
    "#             y_train = fw.create_dataset(\n",
    "#                 \"y_train\",\n",
    "#                 compression=\"lzf\",\n",
    "#                 shape=(len(train_indices), 232, 1, 4),\n",
    "#                 maxshape=(None, 232, 1, 4),\n",
    "#             )\n",
    "#             x_test = fw.create_dataset(\n",
    "#                 \"x_test\",\n",
    "#                 compression=\"lzf\",\n",
    "#                 shape=(len(test_indices), 232, window_size, 4),\n",
    "#                 maxshape=(None, 232, window_size, 4),\n",
    "#             )\n",
    "#             y_test = fw.create_dataset(\n",
    "#                 \"y_test\",\n",
    "#                 compression=\"lzf\",\n",
    "#                 shape=(len(test_indices), 232, 1, 4),\n",
    "#                 maxshape=(None, 232, 1, 4),\n",
    "#             )\n",
    "\n",
    "#             train_current_ix, test_current_ix = 0, 0\n",
    "#             batch_size = 5000\n",
    "#             for ix in range(0, len(train_indices), batch_size):\n",
    "#                 print(\n",
    "#                     \"Training progress: {:.2f}\".format(\n",
    "#                         (train_current_ix * batch_size * 1.0) / len(train_incides)\n",
    "#                     )\n",
    "#                 )\n",
    "#                 ixes = sorted(train_indices[ix : ix + batch_size])\n",
    "#                 x_train[ix : ix + batch_size] = x_ts[ixes]\n",
    "#                 y_train[ix : ix + batch_size] = y_ts[ixes]\n",
    "#                 train_current_ix += 1\n",
    "#                 clear_output(wait=True)\n",
    "\n",
    "#             for test_ix in tqdm.tqdm_notebook(test_indices):\n",
    "#                 print(\n",
    "#                     \"Testing progress: {:.2f}\".format(\n",
    "#                         (test_current_ix * 1.0) / len(test_indices)\n",
    "#                     )\n",
    "#                 )\n",
    "#                 x_test[test_current_ix] = x_ts[test_ix]\n",
    "#                 y_test[test_current_ix] = y_ts[test_ix]\n",
    "#                 test_current_ix += 1\n",
    "#                 clear_output(wait=True)"
   ]
  },
  {
   "cell_type": "code",
   "execution_count": 18,
   "metadata": {},
   "outputs": [],
   "source": [
    "# split_into_train_test(train_indices, test_indices)"
   ]
  },
  {
   "cell_type": "code",
   "execution_count": 2,
   "metadata": {},
   "outputs": [],
   "source": [
    "x_train = None\n",
    "y_train = None\n",
    "x_test = None\n",
    "y_test = None\n",
    "x_val = None\n",
    "y_val = None\n",
    "\n",
    "with h5py.File('data/EpiGCN/train.hdf5', 'r') as f:\n",
    "    x_train = f['x'][:] \n",
    "    y_train = f['y'][:]\n",
    "\n",
    "with h5py.File('data/EpiGCN/val.hdf5', 'r') as f:\n",
    "    x_val = f['x'][:] \n",
    "    y_val = f['y'][:]\n",
    "    \n",
    "with h5py.File('data/EpiGCN/test.hdf5', 'r') as f:\n",
    "    x_test = f['x'][:] \n",
    "    y_test = f['y'][:]"
   ]
  },
  {
   "cell_type": "code",
   "execution_count": 3,
   "metadata": {},
   "outputs": [
    {
     "name": "stdout",
     "output_type": "stream",
     "text": [
      "y test size (110381, 232, 1, 4)\n"
     ]
    }
   ],
   "source": [
    "print(\"y test size\", y_test.shape)"
   ]
  },
  {
   "cell_type": "code",
   "execution_count": 4,
   "metadata": {},
   "outputs": [
    {
     "data": {
      "text/plain": [
       "(883045, 232, 10, 4)"
      ]
     },
     "execution_count": 4,
     "metadata": {},
     "output_type": "execute_result"
    }
   ],
   "source": [
    "x_train.shape"
   ]
  },
  {
   "cell_type": "markdown",
   "metadata": {},
   "source": [
    "# Define Dataset"
   ]
  },
  {
   "cell_type": "code",
   "execution_count": 5,
   "metadata": {},
   "outputs": [],
   "source": [
    "import torch\n",
    "from torch.utils.data import Dataset, DataLoader, TensorDataset\n",
    "\n",
    "train_dataset = TensorDataset(torch.FloatTensor(x_train), torch.FloatTensor(y_train))\n",
    "val_dataset = TensorDataset(torch.FloatTensor(x_val), torch.FloatTensor(y_val))\n",
    "test_dataset = TensorDataset(torch.FloatTensor(x_test), torch.FloatTensor(y_test))"
   ]
  },
  {
   "cell_type": "markdown",
   "metadata": {},
   "source": [
    "# Define Dataloader"
   ]
  },
  {
   "cell_type": "code",
   "execution_count": 6,
   "metadata": {},
   "outputs": [],
   "source": [
    "# params = {\"batch_size\": 12, \"shuffle\": True, \"num_workers\": 4}\n",
    "\n",
    "train_dataloader = DataLoader(train_dataset, batch_size=512, shuffle=True, num_workers=12)\n",
    "val_dataloader = DataLoader(val_dataset, batch_size=512, shuffle=True, num_workers=12)\n",
    "test_dataloader = DataLoader(test_dataset, batch_size=512, shuffle=False, num_workers=12)"
   ]
  },
  {
   "cell_type": "markdown",
   "metadata": {},
   "source": [
    "## Model definition"
   ]
  },
  {
   "cell_type": "code",
   "execution_count": 7,
   "metadata": {},
   "outputs": [],
   "source": [
    "import torch\n",
    "import torch.nn as nn\n",
    "\n",
    "device = torch.device(\"cuda:1\") if torch.cuda.is_available() else torch.device(\"cpu\")"
   ]
  },
  {
   "cell_type": "code",
   "execution_count": 8,
   "metadata": {},
   "outputs": [],
   "source": [
    "class BaselineLSTM(nn.Module):\n",
    "    def __init__(self, num_nodes, input_dim, rnn_dim, num_layers=1):\n",
    "        super(BaselineLSTM, self).__init__()\n",
    "        self.num_layers = num_layers\n",
    "        self.lstm = nn.LSTM(\n",
    "            input_size=num_nodes*input_dim,\n",
    "            hidden_size=num_nodes*rnn_dim,\n",
    "            batch_first=True,\n",
    "            num_layers=num_layers,\n",
    "        )\n",
    "        self.linear = nn.Linear(hidden_size * num_layers, input_size)\n",
    "\n",
    "    def forward(self, lstm_input):\n",
    "        b, n_countries, seq_len, n_compartments = lstm_input.size()\n",
    "        lstm_input = lstm_input.permute(0, 2, 1, 3)\n",
    "        _, (hn, _) = self.lstm(lstm_input.contiguous().view(b, seq_len, -1))\n",
    "        hn = hn.permute(1, 0, 2)\n",
    "        return self.linear(hn.reshape(b, -1)).view(b, n_countries, 1, n_compartments)\n",
    "\n",
    "\n",
    "class BaselineGRU(nn.Module):\n",
    "    def __init__(self, num_nodes, input_dim, rnn_dim, num_layers=1):\n",
    "        super(BaselineGRU, self).__init__()\n",
    "        self.num_layers = num_layers\n",
    "        self.lstm = nn.GRU(\n",
    "            input_size=num_nodes*input_dim,\n",
    "            hidden_size=num_nodes*rnn_dim,\n",
    "            batch_first=True,\n",
    "            num_layers=num_layers,\n",
    "        )\n",
    "        self.linear = nn.Linear(hidden_size * num_layers, input_size)\n",
    "\n",
    "    def forward(self, lstm_input):\n",
    "        b, n_countries, seq_len, n_compartments = lstm_input.size()\n",
    "        lstm_input = lstm_input.permute(0, 2, 1, 3)\n",
    "        _, hn = self.lstm(lstm_input.contiguous().view(b, seq_len, -1))\n",
    "        hn = hn.permute(1, 0, 2)\n",
    "        return self.linear(hn.reshape(b, -1)).view(b, n_countries, 1, n_compartments)"
   ]
  },
  {
   "cell_type": "code",
   "execution_count": 9,
   "metadata": {},
   "outputs": [],
   "source": [
    "from torch.utils.tensorboard import SummaryWriter\n",
    "from ignite.engine import Events, create_supervised_trainer, create_supervised_evaluator\n",
    "from ignite.handlers import ModelCheckpoint\n",
    "from ignite.metrics import Loss\n",
    "from ignite.contrib.handlers.tensorboard_logger import *\n",
    "import wandb\n",
    "\n",
    "\n",
    "class ModelTrainer:\n",
    "    def __init__(self, run_name, **training_params):\n",
    "        self.run_name = run_name\n",
    "        self.training_params = training_params\n",
    "\n",
    "        params_str = \",\".join(\n",
    "            [\"{}={}\".format(k, v) for k, v in training_params.items()]\n",
    "        )\n",
    "        self.param_str = \"{}_{}\".format(run_name, params_str)\n",
    "        wandb.init(sync_tensorboard=True, name=self.param_str)\n",
    "        wandb.config.initial_lr = training_params[\"lr\"]\n",
    "        wandb.config.num_nodes = training_params[\"num_nodes\"]\n",
    "        wandb.config.input_dim = training_params[\"input_dim\"]\n",
    "        wandb.config.rnn_dim = training_params[\"rnn_dim\"]\n",
    "        wandb.config.num_layers = training_params[\"num_layers\"]\n",
    "        wandb.config.param_str = self.param_str\n",
    "\n",
    "    def train(self, model_class, max_epochs=100, **kwargs):\n",
    "        model_args = kwargs.get(\"model\", {})\n",
    "        model = model_class(\n",
    "            num_nodes=self.training_params[\"num_nodes\"],\n",
    "            input_dim=self.training_params[\"input_dim\"],\n",
    "            rnn_dim=self.training_params[\"rnn_dim\"],\n",
    "            num_layers=self.training_params[\"num_layers\"],\n",
    "            **model_args\n",
    "        )\n",
    "\n",
    "        wandb.watch(model)\n",
    "\n",
    "        optimizer = torch.optim.Adam(model.parameters(), lr=self.training_params[\"lr\"])\n",
    "        lr_scheduler = torch.optim.lr_scheduler.ReduceLROnPlateau(\n",
    "            optimizer, patience=3, factor=0.5\n",
    "        )\n",
    "\n",
    "        mse = torch.nn.MSELoss()\n",
    "        mae = torch.nn.L1Loss()\n",
    "\n",
    "        tb_logger = TensorboardLogger(\n",
    "            log_dir=\"experiments/tb_logs/runs/{}\".format(self.param_str)\n",
    "        )\n",
    "\n",
    "        trainer = create_supervised_trainer(model, optimizer, mae, device=device)\n",
    "\n",
    "        metrics = {\"mae\": Loss(mae), \"mse\": Loss(mse)}\n",
    "\n",
    "        train_evaluator = create_supervised_evaluator(\n",
    "            model, metrics=metrics, device=device\n",
    "        )\n",
    "        val_evaluator = create_supervised_evaluator(\n",
    "            model, metrics=metrics, device=device\n",
    "        )\n",
    "        test_evaluator = create_supervised_evaluator(\n",
    "            model, metrics=metrics, device=device\n",
    "        )\n",
    "\n",
    "        def score_function(trainer):\n",
    "            val_evaluator.run(val_dataloader)\n",
    "            metrics = val_evaluator.state.metrics\n",
    "            mae = metrics[\"mae\"]\n",
    "            return -mae\n",
    "\n",
    "        checkpointer = ModelCheckpoint(\n",
    "            \"model_checkpoints\",\n",
    "            self.param_str,\n",
    "            score_function=score_function,\n",
    "            score_name=\"mae\",\n",
    "            n_saved=2,\n",
    "            create_dir=True,\n",
    "            save_as_state_dict=True,\n",
    "            require_empty=False,\n",
    "        )\n",
    "\n",
    "        trainer.add_event_handler(Events.EPOCH_COMPLETED, checkpointer, {\"epi\": model})\n",
    "\n",
    "        tb_logger.attach(\n",
    "            trainer,\n",
    "            log_handler=OutputHandler(\n",
    "                tag=\"training\", output_transform=lambda loss: {\"loss\": loss}\n",
    "            ),\n",
    "            event_name=Events.ITERATION_COMPLETED,\n",
    "        )\n",
    "\n",
    "        tb_logger.attach(\n",
    "            train_evaluator,\n",
    "            log_handler=OutputHandler(\n",
    "                tag=\"training\",\n",
    "                metric_names=[\"mae\", \"mse\"],\n",
    "                global_step_transform=global_step_from_engine(trainer),\n",
    "            ),\n",
    "            event_name=Events.EPOCH_COMPLETED,\n",
    "        )\n",
    "\n",
    "        tb_logger.attach(\n",
    "            val_evaluator,\n",
    "            log_handler=OutputHandler(\n",
    "                tag=\"validation\",\n",
    "                metric_names=[\"mae\", \"mse\"],\n",
    "                global_step_transform=global_step_from_engine(trainer),\n",
    "            ),\n",
    "            event_name=Events.EPOCH_COMPLETED,\n",
    "        )\n",
    "\n",
    "        tb_logger.attach(\n",
    "            test_evaluator,\n",
    "            log_handler=OutputHandler(\n",
    "                tag=\"test\",\n",
    "                metric_names=[\"mae\", \"mse\"],\n",
    "                global_step_transform=global_step_from_engine(trainer),\n",
    "            ),\n",
    "            event_name=Events.EPOCH_COMPLETED,\n",
    "        )\n",
    "\n",
    "        # Attach the logger to the trainer to log optimizer's parameters, e.g. learning rate at each iteration\n",
    "        tb_logger.attach(\n",
    "            trainer,\n",
    "            log_handler=OptimizerParamsHandler(optimizer),\n",
    "            event_name=Events.ITERATION_STARTED,\n",
    "        )\n",
    "\n",
    "        # Attach the logger to the trainer to log model's weights norm after each iteration\n",
    "        tb_logger.attach(\n",
    "            trainer,\n",
    "            log_handler=WeightsScalarHandler(model),\n",
    "            event_name=Events.ITERATION_COMPLETED,\n",
    "        )\n",
    "\n",
    "        # Attach the logger to the trainer to log model's weights as a histogram after each epoch\n",
    "        tb_logger.attach(\n",
    "            trainer,\n",
    "            log_handler=WeightsHistHandler(model),\n",
    "            event_name=Events.EPOCH_COMPLETED,\n",
    "        )\n",
    "\n",
    "        # Attach the logger to the trainer to log model's gradients norm after each iteration\n",
    "        tb_logger.attach(\n",
    "            trainer,\n",
    "            log_handler=GradsScalarHandler(model),\n",
    "            event_name=Events.ITERATION_COMPLETED,\n",
    "        )\n",
    "\n",
    "        # Attach the logger to the trainer to log model's gradients as a histogram after each epoch\n",
    "        tb_logger.attach(\n",
    "            trainer,\n",
    "            log_handler=GradsHistHandler(model),\n",
    "            event_name=Events.EPOCH_COMPLETED,\n",
    "        )\n",
    "\n",
    "        @trainer.on(Events.ITERATION_COMPLETED)\n",
    "        def log_training_loss(trainer):\n",
    "            logger.info(\n",
    "                \"Epoch[{}] Loss: {:.7f}\".format(\n",
    "                    trainer.state.epoch, trainer.state.output\n",
    "                )\n",
    "            )\n",
    "            wandb.log({\"train loss\": trainer.state.output})\n",
    "\n",
    "        @trainer.on(Events.EPOCH_COMPLETED)\n",
    "        def log_training_results(trainer):\n",
    "            train_evaluator.run(train_dataloader)\n",
    "            metrics = train_evaluator.state.metrics\n",
    "            logger.info(\n",
    "                \"Training Results - Epoch: {} MSE: {:.7f} MAE: {:.7f}\".format(\n",
    "                    trainer.state.epoch, metrics[\"mse\"], metrics[\"mae\"]\n",
    "                )\n",
    "            )\n",
    "\n",
    "        @trainer.on(Events.EPOCH_COMPLETED)\n",
    "        def log_validation_results(trainer):\n",
    "            val_evaluator.run(val_dataloader)\n",
    "            metrics = val_evaluator.state.metrics\n",
    "            logger.info(\n",
    "                \"Validation Results - Epoch: {} MSE: {:.7f} MAE: {:.7f}\".format(\n",
    "                    trainer.state.epoch, metrics[\"mse\"], metrics[\"mae\"]\n",
    "                )\n",
    "            )\n",
    "            lr_scheduler.step(metrics[\"mae\"])\n",
    "            wandb.log({\"val mae\": metrics[\"mae\"]})\n",
    "            wandb.log({\"val mse\": metrics[\"mse\"]})\n",
    "\n",
    "        @trainer.on(Events.EPOCH_COMPLETED)\n",
    "        def log_test_results(trainer):\n",
    "            test_evaluator.run(test_dataloader)\n",
    "            metrics = test_evaluator.state.metrics\n",
    "            logger.info(\n",
    "                \"Test Results - Epoch: {} MSE: {:.7f} MAE: {:.7f}\".format(\n",
    "                    trainer.state.epoch, metrics[\"mse\"], metrics[\"mae\"]\n",
    "                )\n",
    "            )\n",
    "            lr_scheduler.step(metrics[\"mae\"])\n",
    "            wandb.log({\"test mae\": metrics[\"mae\"]})\n",
    "            wandb.log({\"test mse\": metrics[\"mse\"]})\n",
    "\n",
    "        trainer.run(train_dataloader, max_epochs=max_epochs)\n",
    "        tb_logger.close()"
   ]
  },
  {
   "cell_type": "code",
   "execution_count": 305,
   "metadata": {
    "collapsed": true,
    "jupyter": {
     "outputs_hidden": true
    }
   },
   "outputs": [
    {
     "data": {
      "text/html": [
       "\n",
       "                Logging results to <a href=\"https://wandb.com\" target=\"_blank\">Weights & Biases</a> <a href=\"https://docs.wandb.com/integrations/jupyter.html\" target=\"_blank\">(Documentation)</a>.<br/>\n",
       "                Project page: <a href=\"https://app.wandb.ai/chnsh/epigcn\" target=\"_blank\">https://app.wandb.ai/chnsh/epigcn</a><br/>\n",
       "                Run page: <a href=\"https://app.wandb.ai/chnsh/epigcn/runs/4h472gr2\" target=\"_blank\">https://app.wandb.ai/chnsh/epigcn/runs/4h472gr2</a><br/>\n",
       "            "
      ],
      "text/plain": [
       "<IPython.core.display.HTML object>"
      ]
     },
     "metadata": {},
     "output_type": "display_data"
    },
    {
     "name": "stderr",
     "output_type": "stream",
     "text": [
      "ERROR:wandb.jupyter:Failed to query for notebook name, you can set it manually with the WANDB_NOTEBOOK_NAME environment variable\n",
      "wandb: Wandb version 0.8.24 is available!  To upgrade, please run:\n",
      "wandb:  $ pip install wandb --upgrade\n",
      "ERROR:ignite.engine.engine.Engine:Current run is terminating due to exception: .\n",
      "ERROR:ignite.engine.engine.Engine:Engine run is terminating due to exception: .\n"
     ]
    },
    {
     "ename": "KeyboardInterrupt",
     "evalue": "",
     "output_type": "error",
     "traceback": [
      "\u001b[0;31m---------------------------------------------------------------------------\u001b[0m",
      "\u001b[0;31mKeyboardInterrupt\u001b[0m                         Traceback (most recent call last)",
      "\u001b[0;32m<ipython-input-305-80dfebd706ff>\u001b[0m in \u001b[0;36m<module>\u001b[0;34m\u001b[0m\n\u001b[1;32m      1\u001b[0m \u001b[0mtrainer\u001b[0m \u001b[0;34m=\u001b[0m \u001b[0mModelTrainer\u001b[0m\u001b[0;34m(\u001b[0m\u001b[0;34m'IID_LSTM'\u001b[0m\u001b[0;34m,\u001b[0m \u001b[0minput_size\u001b[0m\u001b[0;34m=\u001b[0m\u001b[0;36m232\u001b[0m\u001b[0;34m*\u001b[0m\u001b[0;36m4\u001b[0m\u001b[0;34m,\u001b[0m \u001b[0mhidden_size\u001b[0m\u001b[0;34m=\u001b[0m\u001b[0;36m400\u001b[0m\u001b[0;34m,\u001b[0m \u001b[0mnum_layers\u001b[0m\u001b[0;34m=\u001b[0m\u001b[0;36m3\u001b[0m\u001b[0;34m,\u001b[0m \u001b[0mlr\u001b[0m\u001b[0;34m=\u001b[0m\u001b[0;36m1e-3\u001b[0m\u001b[0;34m)\u001b[0m\u001b[0;34m\u001b[0m\u001b[0;34m\u001b[0m\u001b[0m\n\u001b[0;32m----> 2\u001b[0;31m \u001b[0mtrainer\u001b[0m\u001b[0;34m.\u001b[0m\u001b[0mtrain\u001b[0m\u001b[0;34m(\u001b[0m\u001b[0mBaselineLSTM\u001b[0m\u001b[0;34m)\u001b[0m\u001b[0;34m\u001b[0m\u001b[0;34m\u001b[0m\u001b[0m\n\u001b[0m",
      "\u001b[0;32m<ipython-input-304-bfbb2c822179>\u001b[0m in \u001b[0;36mtrain\u001b[0;34m(self, model_class, max_epochs, **kwargs)\u001b[0m\n\u001b[1;32m    197\u001b[0m             \u001b[0mwandb\u001b[0m\u001b[0;34m.\u001b[0m\u001b[0mlog\u001b[0m\u001b[0;34m(\u001b[0m\u001b[0;34m{\u001b[0m\u001b[0;34m\"test mse\"\u001b[0m\u001b[0;34m:\u001b[0m \u001b[0mmetrics\u001b[0m\u001b[0;34m[\u001b[0m\u001b[0;34m\"mse\"\u001b[0m\u001b[0;34m]\u001b[0m\u001b[0;34m}\u001b[0m\u001b[0;34m)\u001b[0m\u001b[0;34m\u001b[0m\u001b[0;34m\u001b[0m\u001b[0m\n\u001b[1;32m    198\u001b[0m \u001b[0;34m\u001b[0m\u001b[0m\n\u001b[0;32m--> 199\u001b[0;31m         \u001b[0mtrainer\u001b[0m\u001b[0;34m.\u001b[0m\u001b[0mrun\u001b[0m\u001b[0;34m(\u001b[0m\u001b[0mtrain_dataloader\u001b[0m\u001b[0;34m,\u001b[0m \u001b[0mmax_epochs\u001b[0m\u001b[0;34m=\u001b[0m\u001b[0mmax_epochs\u001b[0m\u001b[0;34m)\u001b[0m\u001b[0;34m\u001b[0m\u001b[0;34m\u001b[0m\u001b[0m\n\u001b[0m\u001b[1;32m    200\u001b[0m         \u001b[0mtb_logger\u001b[0m\u001b[0;34m.\u001b[0m\u001b[0mclose\u001b[0m\u001b[0;34m(\u001b[0m\u001b[0;34m)\u001b[0m\u001b[0;34m\u001b[0m\u001b[0;34m\u001b[0m\u001b[0m\n",
      "\u001b[0;32m~/miniconda3/envs/epigcn/lib/python3.7/site-packages/ignite/engine/engine.py\u001b[0m in \u001b[0;36mrun\u001b[0;34m(self, data, max_epochs)\u001b[0m\n\u001b[1;32m    444\u001b[0m         \u001b[0;32mexcept\u001b[0m \u001b[0mBaseException\u001b[0m \u001b[0;32mas\u001b[0m \u001b[0me\u001b[0m\u001b[0;34m:\u001b[0m\u001b[0;34m\u001b[0m\u001b[0;34m\u001b[0m\u001b[0m\n\u001b[1;32m    445\u001b[0m             \u001b[0mself\u001b[0m\u001b[0;34m.\u001b[0m\u001b[0m_logger\u001b[0m\u001b[0;34m.\u001b[0m\u001b[0merror\u001b[0m\u001b[0;34m(\u001b[0m\u001b[0;34m\"Engine run is terminating due to exception: %s.\"\u001b[0m\u001b[0;34m,\u001b[0m \u001b[0mstr\u001b[0m\u001b[0;34m(\u001b[0m\u001b[0me\u001b[0m\u001b[0;34m)\u001b[0m\u001b[0;34m)\u001b[0m\u001b[0;34m\u001b[0m\u001b[0;34m\u001b[0m\u001b[0m\n\u001b[0;32m--> 446\u001b[0;31m             \u001b[0mself\u001b[0m\u001b[0;34m.\u001b[0m\u001b[0m_handle_exception\u001b[0m\u001b[0;34m(\u001b[0m\u001b[0me\u001b[0m\u001b[0;34m)\u001b[0m\u001b[0;34m\u001b[0m\u001b[0;34m\u001b[0m\u001b[0m\n\u001b[0m\u001b[1;32m    447\u001b[0m \u001b[0;34m\u001b[0m\u001b[0m\n\u001b[1;32m    448\u001b[0m         \u001b[0;32mreturn\u001b[0m \u001b[0mself\u001b[0m\u001b[0;34m.\u001b[0m\u001b[0mstate\u001b[0m\u001b[0;34m\u001b[0m\u001b[0;34m\u001b[0m\u001b[0m\n",
      "\u001b[0;32m~/miniconda3/envs/epigcn/lib/python3.7/site-packages/ignite/engine/engine.py\u001b[0m in \u001b[0;36m_handle_exception\u001b[0;34m(self, e)\u001b[0m\n\u001b[1;32m    408\u001b[0m             \u001b[0mself\u001b[0m\u001b[0;34m.\u001b[0m\u001b[0m_fire_event\u001b[0m\u001b[0;34m(\u001b[0m\u001b[0mEvents\u001b[0m\u001b[0;34m.\u001b[0m\u001b[0mEXCEPTION_RAISED\u001b[0m\u001b[0;34m,\u001b[0m \u001b[0me\u001b[0m\u001b[0;34m)\u001b[0m\u001b[0;34m\u001b[0m\u001b[0;34m\u001b[0m\u001b[0m\n\u001b[1;32m    409\u001b[0m         \u001b[0;32melse\u001b[0m\u001b[0;34m:\u001b[0m\u001b[0;34m\u001b[0m\u001b[0;34m\u001b[0m\u001b[0m\n\u001b[0;32m--> 410\u001b[0;31m             \u001b[0;32mraise\u001b[0m \u001b[0me\u001b[0m\u001b[0;34m\u001b[0m\u001b[0;34m\u001b[0m\u001b[0m\n\u001b[0m\u001b[1;32m    411\u001b[0m \u001b[0;34m\u001b[0m\u001b[0m\n\u001b[1;32m    412\u001b[0m     \u001b[0;32mdef\u001b[0m \u001b[0mrun\u001b[0m\u001b[0;34m(\u001b[0m\u001b[0mself\u001b[0m\u001b[0;34m,\u001b[0m \u001b[0mdata\u001b[0m\u001b[0;34m,\u001b[0m \u001b[0mmax_epochs\u001b[0m\u001b[0;34m=\u001b[0m\u001b[0;36m1\u001b[0m\u001b[0;34m)\u001b[0m\u001b[0;34m:\u001b[0m\u001b[0;34m\u001b[0m\u001b[0;34m\u001b[0m\u001b[0m\n",
      "\u001b[0;32m~/miniconda3/envs/epigcn/lib/python3.7/site-packages/ignite/engine/engine.py\u001b[0m in \u001b[0;36mrun\u001b[0;34m(self, data, max_epochs)\u001b[0m\n\u001b[1;32m    431\u001b[0m                 \u001b[0mself\u001b[0m\u001b[0;34m.\u001b[0m\u001b[0mstate\u001b[0m\u001b[0;34m.\u001b[0m\u001b[0mepoch\u001b[0m \u001b[0;34m+=\u001b[0m \u001b[0;36m1\u001b[0m\u001b[0;34m\u001b[0m\u001b[0;34m\u001b[0m\u001b[0m\n\u001b[1;32m    432\u001b[0m                 \u001b[0mself\u001b[0m\u001b[0;34m.\u001b[0m\u001b[0m_fire_event\u001b[0m\u001b[0;34m(\u001b[0m\u001b[0mEvents\u001b[0m\u001b[0;34m.\u001b[0m\u001b[0mEPOCH_STARTED\u001b[0m\u001b[0;34m)\u001b[0m\u001b[0;34m\u001b[0m\u001b[0;34m\u001b[0m\u001b[0m\n\u001b[0;32m--> 433\u001b[0;31m                 \u001b[0mhours\u001b[0m\u001b[0;34m,\u001b[0m \u001b[0mmins\u001b[0m\u001b[0;34m,\u001b[0m \u001b[0msecs\u001b[0m \u001b[0;34m=\u001b[0m \u001b[0mself\u001b[0m\u001b[0;34m.\u001b[0m\u001b[0m_run_once_on_dataset\u001b[0m\u001b[0;34m(\u001b[0m\u001b[0;34m)\u001b[0m\u001b[0;34m\u001b[0m\u001b[0;34m\u001b[0m\u001b[0m\n\u001b[0m\u001b[1;32m    434\u001b[0m                 \u001b[0mself\u001b[0m\u001b[0;34m.\u001b[0m\u001b[0m_logger\u001b[0m\u001b[0;34m.\u001b[0m\u001b[0minfo\u001b[0m\u001b[0;34m(\u001b[0m\u001b[0;34m\"Epoch[%s] Complete. Time taken: %02d:%02d:%02d\"\u001b[0m\u001b[0;34m,\u001b[0m \u001b[0mself\u001b[0m\u001b[0;34m.\u001b[0m\u001b[0mstate\u001b[0m\u001b[0;34m.\u001b[0m\u001b[0mepoch\u001b[0m\u001b[0;34m,\u001b[0m \u001b[0mhours\u001b[0m\u001b[0;34m,\u001b[0m \u001b[0mmins\u001b[0m\u001b[0;34m,\u001b[0m \u001b[0msecs\u001b[0m\u001b[0;34m)\u001b[0m\u001b[0;34m\u001b[0m\u001b[0;34m\u001b[0m\u001b[0m\n\u001b[1;32m    435\u001b[0m                 \u001b[0;32mif\u001b[0m \u001b[0mself\u001b[0m\u001b[0;34m.\u001b[0m\u001b[0mshould_terminate\u001b[0m\u001b[0;34m:\u001b[0m\u001b[0;34m\u001b[0m\u001b[0;34m\u001b[0m\u001b[0m\n",
      "\u001b[0;32m~/miniconda3/envs/epigcn/lib/python3.7/site-packages/ignite/engine/engine.py\u001b[0m in \u001b[0;36m_run_once_on_dataset\u001b[0;34m(self)\u001b[0m\n\u001b[1;32m    397\u001b[0m         \u001b[0;32mexcept\u001b[0m \u001b[0mBaseException\u001b[0m \u001b[0;32mas\u001b[0m \u001b[0me\u001b[0m\u001b[0;34m:\u001b[0m\u001b[0;34m\u001b[0m\u001b[0;34m\u001b[0m\u001b[0m\n\u001b[1;32m    398\u001b[0m             \u001b[0mself\u001b[0m\u001b[0;34m.\u001b[0m\u001b[0m_logger\u001b[0m\u001b[0;34m.\u001b[0m\u001b[0merror\u001b[0m\u001b[0;34m(\u001b[0m\u001b[0;34m\"Current run is terminating due to exception: %s.\"\u001b[0m\u001b[0;34m,\u001b[0m \u001b[0mstr\u001b[0m\u001b[0;34m(\u001b[0m\u001b[0me\u001b[0m\u001b[0;34m)\u001b[0m\u001b[0;34m)\u001b[0m\u001b[0;34m\u001b[0m\u001b[0;34m\u001b[0m\u001b[0m\n\u001b[0;32m--> 399\u001b[0;31m             \u001b[0mself\u001b[0m\u001b[0;34m.\u001b[0m\u001b[0m_handle_exception\u001b[0m\u001b[0;34m(\u001b[0m\u001b[0me\u001b[0m\u001b[0;34m)\u001b[0m\u001b[0;34m\u001b[0m\u001b[0;34m\u001b[0m\u001b[0m\n\u001b[0m\u001b[1;32m    400\u001b[0m \u001b[0;34m\u001b[0m\u001b[0m\n\u001b[1;32m    401\u001b[0m         \u001b[0mtime_taken\u001b[0m \u001b[0;34m=\u001b[0m \u001b[0mtime\u001b[0m\u001b[0;34m.\u001b[0m\u001b[0mtime\u001b[0m\u001b[0;34m(\u001b[0m\u001b[0;34m)\u001b[0m \u001b[0;34m-\u001b[0m \u001b[0mstart_time\u001b[0m\u001b[0;34m\u001b[0m\u001b[0;34m\u001b[0m\u001b[0m\n",
      "\u001b[0;32m~/miniconda3/envs/epigcn/lib/python3.7/site-packages/ignite/engine/engine.py\u001b[0m in \u001b[0;36m_handle_exception\u001b[0;34m(self, e)\u001b[0m\n\u001b[1;32m    408\u001b[0m             \u001b[0mself\u001b[0m\u001b[0;34m.\u001b[0m\u001b[0m_fire_event\u001b[0m\u001b[0;34m(\u001b[0m\u001b[0mEvents\u001b[0m\u001b[0;34m.\u001b[0m\u001b[0mEXCEPTION_RAISED\u001b[0m\u001b[0;34m,\u001b[0m \u001b[0me\u001b[0m\u001b[0;34m)\u001b[0m\u001b[0;34m\u001b[0m\u001b[0;34m\u001b[0m\u001b[0m\n\u001b[1;32m    409\u001b[0m         \u001b[0;32melse\u001b[0m\u001b[0;34m:\u001b[0m\u001b[0;34m\u001b[0m\u001b[0;34m\u001b[0m\u001b[0m\n\u001b[0;32m--> 410\u001b[0;31m             \u001b[0;32mraise\u001b[0m \u001b[0me\u001b[0m\u001b[0;34m\u001b[0m\u001b[0;34m\u001b[0m\u001b[0m\n\u001b[0m\u001b[1;32m    411\u001b[0m \u001b[0;34m\u001b[0m\u001b[0m\n\u001b[1;32m    412\u001b[0m     \u001b[0;32mdef\u001b[0m \u001b[0mrun\u001b[0m\u001b[0;34m(\u001b[0m\u001b[0mself\u001b[0m\u001b[0;34m,\u001b[0m \u001b[0mdata\u001b[0m\u001b[0;34m,\u001b[0m \u001b[0mmax_epochs\u001b[0m\u001b[0;34m=\u001b[0m\u001b[0;36m1\u001b[0m\u001b[0;34m)\u001b[0m\u001b[0;34m:\u001b[0m\u001b[0;34m\u001b[0m\u001b[0;34m\u001b[0m\u001b[0m\n",
      "\u001b[0;32m~/miniconda3/envs/epigcn/lib/python3.7/site-packages/ignite/engine/engine.py\u001b[0m in \u001b[0;36m_run_once_on_dataset\u001b[0;34m(self)\u001b[0m\n\u001b[1;32m    389\u001b[0m                 \u001b[0mself\u001b[0m\u001b[0;34m.\u001b[0m\u001b[0mstate\u001b[0m\u001b[0;34m.\u001b[0m\u001b[0miteration\u001b[0m \u001b[0;34m+=\u001b[0m \u001b[0;36m1\u001b[0m\u001b[0;34m\u001b[0m\u001b[0;34m\u001b[0m\u001b[0m\n\u001b[1;32m    390\u001b[0m                 \u001b[0mself\u001b[0m\u001b[0;34m.\u001b[0m\u001b[0m_fire_event\u001b[0m\u001b[0;34m(\u001b[0m\u001b[0mEvents\u001b[0m\u001b[0;34m.\u001b[0m\u001b[0mITERATION_STARTED\u001b[0m\u001b[0;34m)\u001b[0m\u001b[0;34m\u001b[0m\u001b[0;34m\u001b[0m\u001b[0m\n\u001b[0;32m--> 391\u001b[0;31m                 \u001b[0mself\u001b[0m\u001b[0;34m.\u001b[0m\u001b[0mstate\u001b[0m\u001b[0;34m.\u001b[0m\u001b[0moutput\u001b[0m \u001b[0;34m=\u001b[0m \u001b[0mself\u001b[0m\u001b[0;34m.\u001b[0m\u001b[0m_process_function\u001b[0m\u001b[0;34m(\u001b[0m\u001b[0mself\u001b[0m\u001b[0;34m,\u001b[0m \u001b[0mbatch\u001b[0m\u001b[0;34m)\u001b[0m\u001b[0;34m\u001b[0m\u001b[0;34m\u001b[0m\u001b[0m\n\u001b[0m\u001b[1;32m    392\u001b[0m                 \u001b[0mself\u001b[0m\u001b[0;34m.\u001b[0m\u001b[0m_fire_event\u001b[0m\u001b[0;34m(\u001b[0m\u001b[0mEvents\u001b[0m\u001b[0;34m.\u001b[0m\u001b[0mITERATION_COMPLETED\u001b[0m\u001b[0;34m)\u001b[0m\u001b[0;34m\u001b[0m\u001b[0;34m\u001b[0m\u001b[0m\n\u001b[1;32m    393\u001b[0m                 \u001b[0;32mif\u001b[0m \u001b[0mself\u001b[0m\u001b[0;34m.\u001b[0m\u001b[0mshould_terminate\u001b[0m \u001b[0;32mor\u001b[0m \u001b[0mself\u001b[0m\u001b[0;34m.\u001b[0m\u001b[0mshould_terminate_single_epoch\u001b[0m\u001b[0;34m:\u001b[0m\u001b[0;34m\u001b[0m\u001b[0;34m\u001b[0m\u001b[0m\n",
      "\u001b[0;32m~/miniconda3/envs/epigcn/lib/python3.7/site-packages/ignite/engine/__init__.py\u001b[0m in \u001b[0;36m_update\u001b[0;34m(engine, batch)\u001b[0m\n\u001b[1;32m     51\u001b[0m         \u001b[0mloss\u001b[0m\u001b[0;34m.\u001b[0m\u001b[0mbackward\u001b[0m\u001b[0;34m(\u001b[0m\u001b[0;34m)\u001b[0m\u001b[0;34m\u001b[0m\u001b[0;34m\u001b[0m\u001b[0m\n\u001b[1;32m     52\u001b[0m         \u001b[0moptimizer\u001b[0m\u001b[0;34m.\u001b[0m\u001b[0mstep\u001b[0m\u001b[0;34m(\u001b[0m\u001b[0;34m)\u001b[0m\u001b[0;34m\u001b[0m\u001b[0;34m\u001b[0m\u001b[0m\n\u001b[0;32m---> 53\u001b[0;31m         \u001b[0;32mreturn\u001b[0m \u001b[0moutput_transform\u001b[0m\u001b[0;34m(\u001b[0m\u001b[0mx\u001b[0m\u001b[0;34m,\u001b[0m \u001b[0my\u001b[0m\u001b[0;34m,\u001b[0m \u001b[0my_pred\u001b[0m\u001b[0;34m,\u001b[0m \u001b[0mloss\u001b[0m\u001b[0;34m)\u001b[0m\u001b[0;34m\u001b[0m\u001b[0;34m\u001b[0m\u001b[0m\n\u001b[0m\u001b[1;32m     54\u001b[0m \u001b[0;34m\u001b[0m\u001b[0m\n\u001b[1;32m     55\u001b[0m     \u001b[0;32mreturn\u001b[0m \u001b[0mEngine\u001b[0m\u001b[0;34m(\u001b[0m\u001b[0m_update\u001b[0m\u001b[0;34m)\u001b[0m\u001b[0;34m\u001b[0m\u001b[0;34m\u001b[0m\u001b[0m\n",
      "\u001b[0;32m~/miniconda3/envs/epigcn/lib/python3.7/site-packages/ignite/engine/__init__.py\u001b[0m in \u001b[0;36m<lambda>\u001b[0;34m(x, y, y_pred, loss)\u001b[0m\n\u001b[1;32m     17\u001b[0m                               \u001b[0mdevice\u001b[0m\u001b[0;34m=\u001b[0m\u001b[0;32mNone\u001b[0m\u001b[0;34m,\u001b[0m \u001b[0mnon_blocking\u001b[0m\u001b[0;34m=\u001b[0m\u001b[0;32mFalse\u001b[0m\u001b[0;34m,\u001b[0m\u001b[0;34m\u001b[0m\u001b[0;34m\u001b[0m\u001b[0m\n\u001b[1;32m     18\u001b[0m                               \u001b[0mprepare_batch\u001b[0m\u001b[0;34m=\u001b[0m\u001b[0m_prepare_batch\u001b[0m\u001b[0;34m,\u001b[0m\u001b[0;34m\u001b[0m\u001b[0;34m\u001b[0m\u001b[0m\n\u001b[0;32m---> 19\u001b[0;31m                               output_transform=lambda x, y, y_pred, loss: loss.item()):\n\u001b[0m\u001b[1;32m     20\u001b[0m     \"\"\"\n\u001b[1;32m     21\u001b[0m     \u001b[0mFactory\u001b[0m \u001b[0mfunction\u001b[0m \u001b[0;32mfor\u001b[0m \u001b[0mcreating\u001b[0m \u001b[0ma\u001b[0m \u001b[0mtrainer\u001b[0m \u001b[0;32mfor\u001b[0m \u001b[0msupervised\u001b[0m \u001b[0mmodels\u001b[0m\u001b[0;34m.\u001b[0m\u001b[0;34m\u001b[0m\u001b[0;34m\u001b[0m\u001b[0m\n",
      "\u001b[0;31mKeyboardInterrupt\u001b[0m: "
     ]
    },
    {
     "name": "stderr",
     "output_type": "stream",
     "text": [
      "ERROR:wandb.apis.internal:404 response executing GraphQL.\n",
      "ERROR:wandb.apis.internal:{\"errors\":[{\"message\":\"run chnsh/epigcn/4h472gr2 not found during upsertBucket\",\"path\":[\"upsertBucket\"]}],\"data\":{\"upsertBucket\":null}}\n",
      "wandb: ERROR Error while calling W&B API: run chnsh/epigcn/4h472gr2 not found during upsertBucket (<Response [404]>)\n",
      "Exception in thread Thread-308:\n",
      "Traceback (most recent call last):\n",
      "  File \"/home/chintan/miniconda3/envs/epigcn/lib/python3.7/site-packages/wandb/retry.py\", line 95, in __call__\n",
      "    result = self._call_fn(*args, **kwargs)\n",
      "  File \"/home/chintan/miniconda3/envs/epigcn/lib/python3.7/site-packages/wandb/apis/internal.py\", line 116, in execute\n",
      "    six.reraise(*sys.exc_info())\n",
      "  File \"/home/chintan/miniconda3/envs/epigcn/lib/python3.7/site-packages/six.py\", line 693, in reraise\n",
      "    raise value\n",
      "  File \"/home/chintan/miniconda3/envs/epigcn/lib/python3.7/site-packages/wandb/apis/internal.py\", line 110, in execute\n",
      "    return self.client.execute(*args, **kwargs)\n",
      "  File \"/home/chintan/miniconda3/envs/epigcn/lib/python3.7/site-packages/gql/client.py\", line 52, in execute\n",
      "    result = self._get_result(document, *args, **kwargs)\n",
      "  File \"/home/chintan/miniconda3/envs/epigcn/lib/python3.7/site-packages/gql/client.py\", line 60, in _get_result\n",
      "    return self.transport.execute(document, *args, **kwargs)\n",
      "  File \"/home/chintan/miniconda3/envs/epigcn/lib/python3.7/site-packages/gql/transport/requests.py\", line 39, in execute\n",
      "    request.raise_for_status()\n",
      "  File \"/home/chintan/miniconda3/envs/epigcn/lib/python3.7/site-packages/requests/models.py\", line 940, in raise_for_status\n",
      "    raise HTTPError(http_error_msg, response=self)\n",
      "requests.exceptions.HTTPError: 404 Client Error: Not Found for url: https://api.wandb.ai/graphql\n",
      "\n",
      "During handling of the above exception, another exception occurred:\n",
      "\n",
      "Traceback (most recent call last):\n",
      "  File \"/home/chintan/miniconda3/envs/epigcn/lib/python3.7/site-packages/wandb/apis/__init__.py\", line 60, in wrapper\n",
      "    return func(*args, **kwargs)\n",
      "  File \"/home/chintan/miniconda3/envs/epigcn/lib/python3.7/site-packages/wandb/apis/internal.py\", line 781, in upsert_run\n",
      "    mutation, variable_values=variable_values, **kwargs)\n",
      "  File \"/home/chintan/miniconda3/envs/epigcn/lib/python3.7/site-packages/wandb/retry.py\", line 102, in __call__\n",
      "    if not check_retry_fn(e):\n",
      "  File \"/home/chintan/miniconda3/envs/epigcn/lib/python3.7/site-packages/wandb/util.py\", line 502, in no_retry_auth\n",
      "    raise CommError(\"Permission denied to access {}\".format(wandb.run.path))\n",
      "wandb.apis.CommError: Permission denied to access chnsh/epigcn/4h472gr2\n",
      "\n",
      "During handling of the above exception, another exception occurred:\n",
      "\n",
      "Traceback (most recent call last):\n",
      "  File \"/home/chintan/miniconda3/envs/epigcn/lib/python3.7/threading.py\", line 926, in _bootstrap_inner\n",
      "    self.run()\n",
      "  File \"/home/chintan/miniconda3/envs/epigcn/lib/python3.7/threading.py\", line 1177, in run\n",
      "    self.function(*self.args, **self.kwargs)\n",
      "  File \"/home/chintan/miniconda3/envs/epigcn/lib/python3.7/site-packages/wandb/run_manager.py\", line 260, in _thread_update\n",
      "    self._update()\n",
      "  File \"/home/chintan/miniconda3/envs/epigcn/lib/python3.7/site-packages/wandb/run_manager.py\", line 274, in _update\n",
      "    self._api.upsert_run(id=self._run.storage_id, config=config_dict)\n",
      "  File \"/home/chintan/miniconda3/envs/epigcn/lib/python3.7/site-packages/wandb/apis/__init__.py\", line 92, in wrapper\n",
      "    message, err), sys.exc_info()[2])\n",
      "  File \"/home/chintan/miniconda3/envs/epigcn/lib/python3.7/site-packages/six.py\", line 692, in reraise\n",
      "    raise value.with_traceback(tb)\n",
      "  File \"/home/chintan/miniconda3/envs/epigcn/lib/python3.7/site-packages/wandb/apis/__init__.py\", line 60, in wrapper\n",
      "    return func(*args, **kwargs)\n",
      "  File \"/home/chintan/miniconda3/envs/epigcn/lib/python3.7/site-packages/wandb/apis/internal.py\", line 781, in upsert_run\n",
      "    mutation, variable_values=variable_values, **kwargs)\n",
      "  File \"/home/chintan/miniconda3/envs/epigcn/lib/python3.7/site-packages/wandb/retry.py\", line 102, in __call__\n",
      "    if not check_retry_fn(e):\n",
      "  File \"/home/chintan/miniconda3/envs/epigcn/lib/python3.7/site-packages/wandb/util.py\", line 502, in no_retry_auth\n",
      "    raise CommError(\"Permission denied to access {}\".format(wandb.run.path))\n",
      "wandb.apis.CommError: Permission denied to access chnsh/epigcn/4h472gr2\n",
      "\n",
      "ERROR:wandb.apis.internal:404 response executing GraphQL.\n",
      "ERROR:wandb.apis.internal:{\"errors\":[{\"message\":\"run chnsh/epigcn/4h472gr2 not found during upsertBucket\",\"path\":[\"upsertBucket\"]}],\"data\":{\"upsertBucket\":null}}\n",
      "wandb: ERROR Error while calling W&B API: run chnsh/epigcn/4h472gr2 not found during upsertBucket (<Response [404]>)\n"
     ]
    },
    {
     "name": "stdout",
     "output_type": "stream",
     "text": [
      "Error in callback <function _init_jupyter.<locals>.cleanup at 0x7f645c086ef0> (for post_run_cell):\n"
     ]
    },
    {
     "ename": "CommError",
     "evalue": "Permission denied to access chnsh/epigcn/4h472gr2",
     "output_type": "error",
     "traceback": [
      "\u001b[0;31m---------------------------------------------------------------------------\u001b[0m",
      "\u001b[0;31mHTTPError\u001b[0m                                 Traceback (most recent call last)",
      "\u001b[0;32m~/miniconda3/envs/epigcn/lib/python3.7/site-packages/wandb/retry.py\u001b[0m in \u001b[0;36m__call__\u001b[0;34m(self, *args, **kwargs)\u001b[0m\n\u001b[1;32m     94\u001b[0m             \u001b[0;32mtry\u001b[0m\u001b[0;34m:\u001b[0m\u001b[0;34m\u001b[0m\u001b[0;34m\u001b[0m\u001b[0m\n\u001b[0;32m---> 95\u001b[0;31m                 \u001b[0mresult\u001b[0m \u001b[0;34m=\u001b[0m \u001b[0mself\u001b[0m\u001b[0;34m.\u001b[0m\u001b[0m_call_fn\u001b[0m\u001b[0;34m(\u001b[0m\u001b[0;34m*\u001b[0m\u001b[0margs\u001b[0m\u001b[0;34m,\u001b[0m \u001b[0;34m**\u001b[0m\u001b[0mkwargs\u001b[0m\u001b[0;34m)\u001b[0m\u001b[0;34m\u001b[0m\u001b[0;34m\u001b[0m\u001b[0m\n\u001b[0m\u001b[1;32m     96\u001b[0m                 \u001b[0;32mif\u001b[0m \u001b[0;32mnot\u001b[0m \u001b[0mfirst\u001b[0m\u001b[0;34m:\u001b[0m\u001b[0;34m\u001b[0m\u001b[0;34m\u001b[0m\u001b[0m\n",
      "\u001b[0;32m~/miniconda3/envs/epigcn/lib/python3.7/site-packages/wandb/apis/internal.py\u001b[0m in \u001b[0;36mexecute\u001b[0;34m(self, *args, **kwargs)\u001b[0m\n\u001b[1;32m    115\u001b[0m             \u001b[0mself\u001b[0m\u001b[0;34m.\u001b[0m\u001b[0mdisplay_gorilla_error_if_found\u001b[0m\u001b[0;34m(\u001b[0m\u001b[0mres\u001b[0m\u001b[0;34m)\u001b[0m\u001b[0;34m\u001b[0m\u001b[0;34m\u001b[0m\u001b[0m\n\u001b[0;32m--> 116\u001b[0;31m             \u001b[0msix\u001b[0m\u001b[0;34m.\u001b[0m\u001b[0mreraise\u001b[0m\u001b[0;34m(\u001b[0m\u001b[0;34m*\u001b[0m\u001b[0msys\u001b[0m\u001b[0;34m.\u001b[0m\u001b[0mexc_info\u001b[0m\u001b[0;34m(\u001b[0m\u001b[0;34m)\u001b[0m\u001b[0;34m)\u001b[0m\u001b[0;34m\u001b[0m\u001b[0;34m\u001b[0m\u001b[0m\n\u001b[0m\u001b[1;32m    117\u001b[0m \u001b[0;34m\u001b[0m\u001b[0m\n",
      "\u001b[0;32m~/miniconda3/envs/epigcn/lib/python3.7/site-packages/six.py\u001b[0m in \u001b[0;36mreraise\u001b[0;34m(tp, value, tb)\u001b[0m\n\u001b[1;32m    692\u001b[0m                 \u001b[0;32mraise\u001b[0m \u001b[0mvalue\u001b[0m\u001b[0;34m.\u001b[0m\u001b[0mwith_traceback\u001b[0m\u001b[0;34m(\u001b[0m\u001b[0mtb\u001b[0m\u001b[0;34m)\u001b[0m\u001b[0;34m\u001b[0m\u001b[0;34m\u001b[0m\u001b[0m\n\u001b[0;32m--> 693\u001b[0;31m             \u001b[0;32mraise\u001b[0m \u001b[0mvalue\u001b[0m\u001b[0;34m\u001b[0m\u001b[0;34m\u001b[0m\u001b[0m\n\u001b[0m\u001b[1;32m    694\u001b[0m         \u001b[0;32mfinally\u001b[0m\u001b[0;34m:\u001b[0m\u001b[0;34m\u001b[0m\u001b[0;34m\u001b[0m\u001b[0m\n",
      "\u001b[0;32m~/miniconda3/envs/epigcn/lib/python3.7/site-packages/wandb/apis/internal.py\u001b[0m in \u001b[0;36mexecute\u001b[0;34m(self, *args, **kwargs)\u001b[0m\n\u001b[1;32m    109\u001b[0m         \u001b[0;32mtry\u001b[0m\u001b[0;34m:\u001b[0m\u001b[0;34m\u001b[0m\u001b[0;34m\u001b[0m\u001b[0m\n\u001b[0;32m--> 110\u001b[0;31m             \u001b[0;32mreturn\u001b[0m \u001b[0mself\u001b[0m\u001b[0;34m.\u001b[0m\u001b[0mclient\u001b[0m\u001b[0;34m.\u001b[0m\u001b[0mexecute\u001b[0m\u001b[0;34m(\u001b[0m\u001b[0;34m*\u001b[0m\u001b[0margs\u001b[0m\u001b[0;34m,\u001b[0m \u001b[0;34m**\u001b[0m\u001b[0mkwargs\u001b[0m\u001b[0;34m)\u001b[0m\u001b[0;34m\u001b[0m\u001b[0;34m\u001b[0m\u001b[0m\n\u001b[0m\u001b[1;32m    111\u001b[0m         \u001b[0;32mexcept\u001b[0m \u001b[0mrequests\u001b[0m\u001b[0;34m.\u001b[0m\u001b[0mexceptions\u001b[0m\u001b[0;34m.\u001b[0m\u001b[0mHTTPError\u001b[0m \u001b[0;32mas\u001b[0m \u001b[0merr\u001b[0m\u001b[0;34m:\u001b[0m\u001b[0;34m\u001b[0m\u001b[0;34m\u001b[0m\u001b[0m\n",
      "\u001b[0;32m~/miniconda3/envs/epigcn/lib/python3.7/site-packages/gql/client.py\u001b[0m in \u001b[0;36mexecute\u001b[0;34m(self, document, *args, **kwargs)\u001b[0m\n\u001b[1;32m     51\u001b[0m \u001b[0;34m\u001b[0m\u001b[0m\n\u001b[0;32m---> 52\u001b[0;31m         \u001b[0mresult\u001b[0m \u001b[0;34m=\u001b[0m \u001b[0mself\u001b[0m\u001b[0;34m.\u001b[0m\u001b[0m_get_result\u001b[0m\u001b[0;34m(\u001b[0m\u001b[0mdocument\u001b[0m\u001b[0;34m,\u001b[0m \u001b[0;34m*\u001b[0m\u001b[0margs\u001b[0m\u001b[0;34m,\u001b[0m \u001b[0;34m**\u001b[0m\u001b[0mkwargs\u001b[0m\u001b[0;34m)\u001b[0m\u001b[0;34m\u001b[0m\u001b[0;34m\u001b[0m\u001b[0m\n\u001b[0m\u001b[1;32m     53\u001b[0m         \u001b[0;32mif\u001b[0m \u001b[0mresult\u001b[0m\u001b[0;34m.\u001b[0m\u001b[0merrors\u001b[0m\u001b[0;34m:\u001b[0m\u001b[0;34m\u001b[0m\u001b[0;34m\u001b[0m\u001b[0m\n",
      "\u001b[0;32m~/miniconda3/envs/epigcn/lib/python3.7/site-packages/gql/client.py\u001b[0m in \u001b[0;36m_get_result\u001b[0;34m(self, document, *args, **kwargs)\u001b[0m\n\u001b[1;32m     59\u001b[0m         \u001b[0;32mif\u001b[0m \u001b[0;32mnot\u001b[0m \u001b[0mself\u001b[0m\u001b[0;34m.\u001b[0m\u001b[0mretries\u001b[0m\u001b[0;34m:\u001b[0m\u001b[0;34m\u001b[0m\u001b[0;34m\u001b[0m\u001b[0m\n\u001b[0;32m---> 60\u001b[0;31m             \u001b[0;32mreturn\u001b[0m \u001b[0mself\u001b[0m\u001b[0;34m.\u001b[0m\u001b[0mtransport\u001b[0m\u001b[0;34m.\u001b[0m\u001b[0mexecute\u001b[0m\u001b[0;34m(\u001b[0m\u001b[0mdocument\u001b[0m\u001b[0;34m,\u001b[0m \u001b[0;34m*\u001b[0m\u001b[0margs\u001b[0m\u001b[0;34m,\u001b[0m \u001b[0;34m**\u001b[0m\u001b[0mkwargs\u001b[0m\u001b[0;34m)\u001b[0m\u001b[0;34m\u001b[0m\u001b[0;34m\u001b[0m\u001b[0m\n\u001b[0m\u001b[1;32m     61\u001b[0m \u001b[0;34m\u001b[0m\u001b[0m\n",
      "\u001b[0;32m~/miniconda3/envs/epigcn/lib/python3.7/site-packages/gql/transport/requests.py\u001b[0m in \u001b[0;36mexecute\u001b[0;34m(self, document, variable_values, timeout)\u001b[0m\n\u001b[1;32m     38\u001b[0m         \u001b[0mrequest\u001b[0m \u001b[0;34m=\u001b[0m \u001b[0mrequests\u001b[0m\u001b[0;34m.\u001b[0m\u001b[0mpost\u001b[0m\u001b[0;34m(\u001b[0m\u001b[0mself\u001b[0m\u001b[0;34m.\u001b[0m\u001b[0murl\u001b[0m\u001b[0;34m,\u001b[0m \u001b[0;34m**\u001b[0m\u001b[0mpost_args\u001b[0m\u001b[0;34m)\u001b[0m\u001b[0;34m\u001b[0m\u001b[0;34m\u001b[0m\u001b[0m\n\u001b[0;32m---> 39\u001b[0;31m         \u001b[0mrequest\u001b[0m\u001b[0;34m.\u001b[0m\u001b[0mraise_for_status\u001b[0m\u001b[0;34m(\u001b[0m\u001b[0;34m)\u001b[0m\u001b[0;34m\u001b[0m\u001b[0;34m\u001b[0m\u001b[0m\n\u001b[0m\u001b[1;32m     40\u001b[0m \u001b[0;34m\u001b[0m\u001b[0m\n",
      "\u001b[0;32m~/miniconda3/envs/epigcn/lib/python3.7/site-packages/requests/models.py\u001b[0m in \u001b[0;36mraise_for_status\u001b[0;34m(self)\u001b[0m\n\u001b[1;32m    939\u001b[0m         \u001b[0;32mif\u001b[0m \u001b[0mhttp_error_msg\u001b[0m\u001b[0;34m:\u001b[0m\u001b[0;34m\u001b[0m\u001b[0;34m\u001b[0m\u001b[0m\n\u001b[0;32m--> 940\u001b[0;31m             \u001b[0;32mraise\u001b[0m \u001b[0mHTTPError\u001b[0m\u001b[0;34m(\u001b[0m\u001b[0mhttp_error_msg\u001b[0m\u001b[0;34m,\u001b[0m \u001b[0mresponse\u001b[0m\u001b[0;34m=\u001b[0m\u001b[0mself\u001b[0m\u001b[0;34m)\u001b[0m\u001b[0;34m\u001b[0m\u001b[0;34m\u001b[0m\u001b[0m\n\u001b[0m\u001b[1;32m    941\u001b[0m \u001b[0;34m\u001b[0m\u001b[0m\n",
      "\u001b[0;31mHTTPError\u001b[0m: 404 Client Error: Not Found for url: https://api.wandb.ai/graphql",
      "\nDuring handling of the above exception, another exception occurred:\n",
      "\u001b[0;31mCommError\u001b[0m                                 Traceback (most recent call last)",
      "\u001b[0;32m~/miniconda3/envs/epigcn/lib/python3.7/site-packages/wandb/apis/__init__.py\u001b[0m in \u001b[0;36mwrapper\u001b[0;34m(*args, **kwargs)\u001b[0m\n\u001b[1;32m     59\u001b[0m         \u001b[0;32mtry\u001b[0m\u001b[0;34m:\u001b[0m\u001b[0;34m\u001b[0m\u001b[0;34m\u001b[0m\u001b[0m\n\u001b[0;32m---> 60\u001b[0;31m             \u001b[0;32mreturn\u001b[0m \u001b[0mfunc\u001b[0m\u001b[0;34m(\u001b[0m\u001b[0;34m*\u001b[0m\u001b[0margs\u001b[0m\u001b[0;34m,\u001b[0m \u001b[0;34m**\u001b[0m\u001b[0mkwargs\u001b[0m\u001b[0;34m)\u001b[0m\u001b[0;34m\u001b[0m\u001b[0;34m\u001b[0m\u001b[0m\n\u001b[0m\u001b[1;32m     61\u001b[0m         \u001b[0;32mexcept\u001b[0m \u001b[0mrequests\u001b[0m\u001b[0;34m.\u001b[0m\u001b[0mHTTPError\u001b[0m \u001b[0;32mas\u001b[0m \u001b[0merr\u001b[0m\u001b[0;34m:\u001b[0m\u001b[0;34m\u001b[0m\u001b[0;34m\u001b[0m\u001b[0m\n",
      "\u001b[0;32m~/miniconda3/envs/epigcn/lib/python3.7/site-packages/wandb/apis/internal.py\u001b[0m in \u001b[0;36mupsert_run\u001b[0;34m(self, id, name, project, host, group, tags, config, description, entity, state, display_name, notes, repo, job_type, program_path, commit, sweep_name, summary_metrics, num_retries)\u001b[0m\n\u001b[1;32m    780\u001b[0m         response = self.gql(\n\u001b[0;32m--> 781\u001b[0;31m             mutation, variable_values=variable_values, **kwargs)\n\u001b[0m\u001b[1;32m    782\u001b[0m \u001b[0;34m\u001b[0m\u001b[0m\n",
      "\u001b[0;32m~/miniconda3/envs/epigcn/lib/python3.7/site-packages/wandb/retry.py\u001b[0m in \u001b[0;36m__call__\u001b[0;34m(self, *args, **kwargs)\u001b[0m\n\u001b[1;32m    101\u001b[0m                 \u001b[0;31m# if the secondary check fails, re-raise\u001b[0m\u001b[0;34m\u001b[0m\u001b[0;34m\u001b[0m\u001b[0;34m\u001b[0m\u001b[0m\n\u001b[0;32m--> 102\u001b[0;31m                 \u001b[0;32mif\u001b[0m \u001b[0;32mnot\u001b[0m \u001b[0mcheck_retry_fn\u001b[0m\u001b[0;34m(\u001b[0m\u001b[0me\u001b[0m\u001b[0;34m)\u001b[0m\u001b[0;34m:\u001b[0m\u001b[0;34m\u001b[0m\u001b[0;34m\u001b[0m\u001b[0m\n\u001b[0m\u001b[1;32m    103\u001b[0m                     \u001b[0;32mraise\u001b[0m\u001b[0;34m\u001b[0m\u001b[0;34m\u001b[0m\u001b[0m\n",
      "\u001b[0;32m~/miniconda3/envs/epigcn/lib/python3.7/site-packages/wandb/util.py\u001b[0m in \u001b[0;36mno_retry_auth\u001b[0;34m(e)\u001b[0m\n\u001b[1;32m    501\u001b[0m     \u001b[0;32melif\u001b[0m \u001b[0mwandb\u001b[0m\u001b[0;34m.\u001b[0m\u001b[0mrun\u001b[0m\u001b[0;34m:\u001b[0m\u001b[0;34m\u001b[0m\u001b[0;34m\u001b[0m\u001b[0m\n\u001b[0;32m--> 502\u001b[0;31m         \u001b[0;32mraise\u001b[0m \u001b[0mCommError\u001b[0m\u001b[0;34m(\u001b[0m\u001b[0;34m\"Permission denied to access {}\"\u001b[0m\u001b[0;34m.\u001b[0m\u001b[0mformat\u001b[0m\u001b[0;34m(\u001b[0m\u001b[0mwandb\u001b[0m\u001b[0;34m.\u001b[0m\u001b[0mrun\u001b[0m\u001b[0;34m.\u001b[0m\u001b[0mpath\u001b[0m\u001b[0;34m)\u001b[0m\u001b[0;34m)\u001b[0m\u001b[0;34m\u001b[0m\u001b[0;34m\u001b[0m\u001b[0m\n\u001b[0m\u001b[1;32m    503\u001b[0m     \u001b[0;32melse\u001b[0m\u001b[0;34m:\u001b[0m\u001b[0;34m\u001b[0m\u001b[0;34m\u001b[0m\u001b[0m\n",
      "\u001b[0;31mCommError\u001b[0m: Permission denied to access chnsh/epigcn/4h472gr2",
      "\nDuring handling of the above exception, another exception occurred:\n",
      "\u001b[0;31mCommError\u001b[0m                                 Traceback (most recent call last)",
      "\u001b[0;32m~/miniconda3/envs/epigcn/lib/python3.7/site-packages/backcall/backcall.py\u001b[0m in \u001b[0;36madapted\u001b[0;34m(*args, **kwargs)\u001b[0m\n\u001b[1;32m    102\u001b[0m                 \u001b[0mkwargs\u001b[0m\u001b[0;34m.\u001b[0m\u001b[0mpop\u001b[0m\u001b[0;34m(\u001b[0m\u001b[0mname\u001b[0m\u001b[0;34m)\u001b[0m\u001b[0;34m\u001b[0m\u001b[0;34m\u001b[0m\u001b[0m\n\u001b[1;32m    103\u001b[0m \u001b[0;31m#            print(args, kwargs, unmatched_pos, cut_positional, unmatched_kw)\u001b[0m\u001b[0;34m\u001b[0m\u001b[0;34m\u001b[0m\u001b[0;34m\u001b[0m\u001b[0m\n\u001b[0;32m--> 104\u001b[0;31m             \u001b[0;32mreturn\u001b[0m \u001b[0mcallback\u001b[0m\u001b[0;34m(\u001b[0m\u001b[0;34m*\u001b[0m\u001b[0margs\u001b[0m\u001b[0;34m,\u001b[0m \u001b[0;34m**\u001b[0m\u001b[0mkwargs\u001b[0m\u001b[0;34m)\u001b[0m\u001b[0;34m\u001b[0m\u001b[0;34m\u001b[0m\u001b[0m\n\u001b[0m\u001b[1;32m    105\u001b[0m \u001b[0;34m\u001b[0m\u001b[0m\n\u001b[1;32m    106\u001b[0m         \u001b[0;32mreturn\u001b[0m \u001b[0madapted\u001b[0m\u001b[0;34m\u001b[0m\u001b[0;34m\u001b[0m\u001b[0m\n",
      "\u001b[0;32m~/miniconda3/envs/epigcn/lib/python3.7/site-packages/wandb/__init__.py\u001b[0m in \u001b[0;36mcleanup\u001b[0;34m()\u001b[0m\n\u001b[1;32m    479\u001b[0m         \u001b[0;31m# shutdown async logger because _user_process_finished isn't called in jupyter\u001b[0m\u001b[0;34m\u001b[0m\u001b[0;34m\u001b[0m\u001b[0;34m\u001b[0m\u001b[0m\n\u001b[1;32m    480\u001b[0m         \u001b[0mshutdown_async_log_thread\u001b[0m\u001b[0;34m(\u001b[0m\u001b[0;34m)\u001b[0m\u001b[0;34m\u001b[0m\u001b[0;34m\u001b[0m\u001b[0m\n\u001b[0;32m--> 481\u001b[0;31m         \u001b[0mrun\u001b[0m\u001b[0;34m.\u001b[0m\u001b[0m_stop_jupyter_agent\u001b[0m\u001b[0;34m(\u001b[0m\u001b[0;34m)\u001b[0m\u001b[0;34m\u001b[0m\u001b[0;34m\u001b[0m\u001b[0m\n\u001b[0m\u001b[1;32m    482\u001b[0m     \u001b[0mipython\u001b[0m\u001b[0;34m.\u001b[0m\u001b[0mevents\u001b[0m\u001b[0;34m.\u001b[0m\u001b[0mregister\u001b[0m\u001b[0;34m(\u001b[0m\u001b[0;34m'post_run_cell'\u001b[0m\u001b[0;34m,\u001b[0m \u001b[0mcleanup\u001b[0m\u001b[0;34m)\u001b[0m\u001b[0;34m\u001b[0m\u001b[0;34m\u001b[0m\u001b[0m\n\u001b[1;32m    483\u001b[0m \u001b[0;34m\u001b[0m\u001b[0m\n",
      "\u001b[0;32m~/miniconda3/envs/epigcn/lib/python3.7/site-packages/wandb/wandb_run.py\u001b[0m in \u001b[0;36m_stop_jupyter_agent\u001b[0;34m(self)\u001b[0m\n\u001b[1;32m    175\u001b[0m \u001b[0;34m\u001b[0m\u001b[0m\n\u001b[1;32m    176\u001b[0m     \u001b[0;32mdef\u001b[0m \u001b[0m_stop_jupyter_agent\u001b[0m\u001b[0;34m(\u001b[0m\u001b[0mself\u001b[0m\u001b[0;34m)\u001b[0m\u001b[0;34m:\u001b[0m\u001b[0;34m\u001b[0m\u001b[0;34m\u001b[0m\u001b[0m\n\u001b[0;32m--> 177\u001b[0;31m         \u001b[0mself\u001b[0m\u001b[0;34m.\u001b[0m\u001b[0m_jupyter_agent\u001b[0m\u001b[0;34m.\u001b[0m\u001b[0mstop\u001b[0m\u001b[0;34m(\u001b[0m\u001b[0;34m)\u001b[0m\u001b[0;34m\u001b[0m\u001b[0;34m\u001b[0m\u001b[0m\n\u001b[0m\u001b[1;32m    178\u001b[0m \u001b[0;34m\u001b[0m\u001b[0m\n\u001b[1;32m    179\u001b[0m     \u001b[0;32mdef\u001b[0m \u001b[0msend_message\u001b[0m\u001b[0;34m(\u001b[0m\u001b[0mself\u001b[0m\u001b[0;34m,\u001b[0m \u001b[0moptions\u001b[0m\u001b[0;34m)\u001b[0m\u001b[0;34m:\u001b[0m\u001b[0;34m\u001b[0m\u001b[0;34m\u001b[0m\u001b[0m\n",
      "\u001b[0;32m~/miniconda3/envs/epigcn/lib/python3.7/site-packages/wandb/jupyter.py\u001b[0m in \u001b[0;36mstop\u001b[0;34m(self)\u001b[0m\n\u001b[1;32m    134\u001b[0m         \u001b[0;32mif\u001b[0m \u001b[0;32mnot\u001b[0m \u001b[0mself\u001b[0m\u001b[0;34m.\u001b[0m\u001b[0mpaused\u001b[0m\u001b[0;34m:\u001b[0m\u001b[0;34m\u001b[0m\u001b[0;34m\u001b[0m\u001b[0m\n\u001b[1;32m    135\u001b[0m             \u001b[0mself\u001b[0m\u001b[0;34m.\u001b[0m\u001b[0mrm\u001b[0m\u001b[0;34m.\u001b[0m\u001b[0munmirror_stdout_stderr\u001b[0m\u001b[0;34m(\u001b[0m\u001b[0;34m)\u001b[0m\u001b[0;34m\u001b[0m\u001b[0;34m\u001b[0m\u001b[0m\n\u001b[0;32m--> 136\u001b[0;31m             \u001b[0mself\u001b[0m\u001b[0;34m.\u001b[0m\u001b[0mrm\u001b[0m\u001b[0;34m.\u001b[0m\u001b[0mshutdown\u001b[0m\u001b[0;34m(\u001b[0m\u001b[0;34m)\u001b[0m\u001b[0;34m\u001b[0m\u001b[0;34m\u001b[0m\u001b[0m\n\u001b[0m\u001b[1;32m    137\u001b[0m             \u001b[0mwandb\u001b[0m\u001b[0;34m.\u001b[0m\u001b[0mrun\u001b[0m\u001b[0;34m.\u001b[0m\u001b[0mclose_files\u001b[0m\u001b[0;34m(\u001b[0m\u001b[0;34m)\u001b[0m\u001b[0;34m\u001b[0m\u001b[0;34m\u001b[0m\u001b[0m\n\u001b[1;32m    138\u001b[0m             \u001b[0mself\u001b[0m\u001b[0;34m.\u001b[0m\u001b[0mpaused\u001b[0m \u001b[0;34m=\u001b[0m \u001b[0;32mTrue\u001b[0m\u001b[0;34m\u001b[0m\u001b[0;34m\u001b[0m\u001b[0m\n",
      "\u001b[0;32m~/miniconda3/envs/epigcn/lib/python3.7/site-packages/wandb/run_manager.py\u001b[0m in \u001b[0;36mshutdown\u001b[0;34m(self, exitcode)\u001b[0m\n\u001b[1;32m   1068\u001b[0m         \u001b[0;32mif\u001b[0m \u001b[0mself\u001b[0m\u001b[0;34m.\u001b[0m\u001b[0m_cloud\u001b[0m\u001b[0;34m:\u001b[0m\u001b[0;34m\u001b[0m\u001b[0;34m\u001b[0m\u001b[0m\n\u001b[1;32m   1069\u001b[0m             \u001b[0mlogger\u001b[0m\u001b[0;34m.\u001b[0m\u001b[0minfo\u001b[0m\u001b[0;34m(\u001b[0m\u001b[0;34m\"stopping streaming files and file change observer\"\u001b[0m\u001b[0;34m)\u001b[0m\u001b[0;34m\u001b[0m\u001b[0;34m\u001b[0m\u001b[0m\n\u001b[0;32m-> 1070\u001b[0;31m             \u001b[0mself\u001b[0m\u001b[0;34m.\u001b[0m\u001b[0m_end_file_syncing\u001b[0m\u001b[0;34m(\u001b[0m\u001b[0mexitcode\u001b[0m\u001b[0;34m)\u001b[0m\u001b[0;34m\u001b[0m\u001b[0;34m\u001b[0m\u001b[0m\n\u001b[0m\u001b[1;32m   1071\u001b[0m \u001b[0;34m\u001b[0m\u001b[0m\n\u001b[1;32m   1072\u001b[0m         \u001b[0mself\u001b[0m\u001b[0;34m.\u001b[0m\u001b[0m_run\u001b[0m\u001b[0;34m.\u001b[0m\u001b[0mhistory\u001b[0m\u001b[0;34m.\u001b[0m\u001b[0mclose\u001b[0m\u001b[0;34m(\u001b[0m\u001b[0;34m)\u001b[0m\u001b[0;34m\u001b[0m\u001b[0;34m\u001b[0m\u001b[0m\n",
      "\u001b[0;32m~/miniconda3/envs/epigcn/lib/python3.7/site-packages/wandb/run_manager.py\u001b[0m in \u001b[0;36m_end_file_syncing\u001b[0;34m(self, exitcode)\u001b[0m\n\u001b[1;32m    658\u001b[0m         \u001b[0;31m# TODO: there was a case where _file_event_handlers was getting modified in the loop.\u001b[0m\u001b[0;34m\u001b[0m\u001b[0;34m\u001b[0m\u001b[0;34m\u001b[0m\u001b[0m\n\u001b[1;32m    659\u001b[0m         \u001b[0;32mfor\u001b[0m \u001b[0mhandler\u001b[0m \u001b[0;32min\u001b[0m \u001b[0mlist\u001b[0m\u001b[0;34m(\u001b[0m\u001b[0mself\u001b[0m\u001b[0;34m.\u001b[0m\u001b[0m_file_event_handlers\u001b[0m\u001b[0;34m.\u001b[0m\u001b[0mvalues\u001b[0m\u001b[0;34m(\u001b[0m\u001b[0;34m)\u001b[0m\u001b[0;34m)\u001b[0m\u001b[0;34m:\u001b[0m\u001b[0;34m\u001b[0m\u001b[0;34m\u001b[0m\u001b[0m\n\u001b[0;32m--> 660\u001b[0;31m             \u001b[0mhandler\u001b[0m\u001b[0;34m.\u001b[0m\u001b[0mfinish\u001b[0m\u001b[0;34m(\u001b[0m\u001b[0;34m)\u001b[0m\u001b[0;34m\u001b[0m\u001b[0;34m\u001b[0m\u001b[0m\n\u001b[0m\u001b[1;32m    661\u001b[0m \u001b[0;34m\u001b[0m\u001b[0m\n\u001b[1;32m    662\u001b[0m         \u001b[0mself\u001b[0m\u001b[0;34m.\u001b[0m\u001b[0m_file_pusher\u001b[0m\u001b[0;34m.\u001b[0m\u001b[0mfinish\u001b[0m\u001b[0;34m(\u001b[0m\u001b[0;34m)\u001b[0m\u001b[0;34m\u001b[0m\u001b[0;34m\u001b[0m\u001b[0m\n",
      "\u001b[0;32m~/miniconda3/envs/epigcn/lib/python3.7/site-packages/wandb/run_manager.py\u001b[0m in \u001b[0;36mfinish\u001b[0;34m(self)\u001b[0m\n\u001b[1;32m    281\u001b[0m             \u001b[0mself\u001b[0m\u001b[0;34m.\u001b[0m\u001b[0m_thread\u001b[0m \u001b[0;34m=\u001b[0m \u001b[0;32mNone\u001b[0m\u001b[0;34m\u001b[0m\u001b[0;34m\u001b[0m\u001b[0m\n\u001b[1;32m    282\u001b[0m \u001b[0;34m\u001b[0m\u001b[0m\n\u001b[0;32m--> 283\u001b[0;31m         \u001b[0mself\u001b[0m\u001b[0;34m.\u001b[0m\u001b[0m_update\u001b[0m\u001b[0;34m(\u001b[0m\u001b[0;34m)\u001b[0m\u001b[0;34m\u001b[0m\u001b[0;34m\u001b[0m\u001b[0m\n\u001b[0m\u001b[1;32m    284\u001b[0m \u001b[0;34m\u001b[0m\u001b[0m\n\u001b[1;32m    285\u001b[0m \u001b[0;34m\u001b[0m\u001b[0m\n",
      "\u001b[0;32m~/miniconda3/envs/epigcn/lib/python3.7/site-packages/wandb/run_manager.py\u001b[0m in \u001b[0;36m_update\u001b[0;34m(self)\u001b[0m\n\u001b[1;32m    272\u001b[0m         \u001b[0;31m# TODO(adrian): ensure the file content will exactly match Bucket.config\u001b[0m\u001b[0;34m\u001b[0m\u001b[0;34m\u001b[0m\u001b[0;34m\u001b[0m\u001b[0m\n\u001b[1;32m    273\u001b[0m         \u001b[0;31m# ie. push the file content as a string\u001b[0m\u001b[0;34m\u001b[0m\u001b[0;34m\u001b[0m\u001b[0;34m\u001b[0m\u001b[0m\n\u001b[0;32m--> 274\u001b[0;31m         \u001b[0mself\u001b[0m\u001b[0;34m.\u001b[0m\u001b[0m_api\u001b[0m\u001b[0;34m.\u001b[0m\u001b[0mupsert_run\u001b[0m\u001b[0;34m(\u001b[0m\u001b[0mid\u001b[0m\u001b[0;34m=\u001b[0m\u001b[0mself\u001b[0m\u001b[0;34m.\u001b[0m\u001b[0m_run\u001b[0m\u001b[0;34m.\u001b[0m\u001b[0mstorage_id\u001b[0m\u001b[0;34m,\u001b[0m \u001b[0mconfig\u001b[0m\u001b[0;34m=\u001b[0m\u001b[0mconfig_dict\u001b[0m\u001b[0;34m)\u001b[0m\u001b[0;34m\u001b[0m\u001b[0;34m\u001b[0m\u001b[0m\n\u001b[0m\u001b[1;32m    275\u001b[0m         \u001b[0mself\u001b[0m\u001b[0;34m.\u001b[0m\u001b[0m_file_pusher\u001b[0m\u001b[0;34m.\u001b[0m\u001b[0mfile_changed\u001b[0m\u001b[0;34m(\u001b[0m\u001b[0mself\u001b[0m\u001b[0;34m.\u001b[0m\u001b[0msave_name\u001b[0m\u001b[0;34m,\u001b[0m \u001b[0mself\u001b[0m\u001b[0;34m.\u001b[0m\u001b[0mfile_path\u001b[0m\u001b[0;34m)\u001b[0m\u001b[0;34m\u001b[0m\u001b[0;34m\u001b[0m\u001b[0m\n\u001b[1;32m    276\u001b[0m         \u001b[0mself\u001b[0m\u001b[0;34m.\u001b[0m\u001b[0m_last_sent\u001b[0m \u001b[0;34m=\u001b[0m \u001b[0mtime\u001b[0m\u001b[0;34m.\u001b[0m\u001b[0mtime\u001b[0m\u001b[0;34m(\u001b[0m\u001b[0;34m)\u001b[0m\u001b[0;34m\u001b[0m\u001b[0;34m\u001b[0m\u001b[0m\n",
      "\u001b[0;32m~/miniconda3/envs/epigcn/lib/python3.7/site-packages/wandb/apis/__init__.py\u001b[0m in \u001b[0;36mwrapper\u001b[0;34m(*args, **kwargs)\u001b[0m\n\u001b[1;32m     90\u001b[0m             \u001b[0;32melse\u001b[0m\u001b[0;34m:\u001b[0m\u001b[0;34m\u001b[0m\u001b[0;34m\u001b[0m\u001b[0m\n\u001b[1;32m     91\u001b[0m                 six.reraise(CommError, CommError(\n\u001b[0;32m---> 92\u001b[0;31m                     message, err), sys.exc_info()[2])\n\u001b[0m\u001b[1;32m     93\u001b[0m \u001b[0;34m\u001b[0m\u001b[0m\n\u001b[1;32m     94\u001b[0m     \u001b[0;32mreturn\u001b[0m \u001b[0mwrapper\u001b[0m\u001b[0;34m\u001b[0m\u001b[0;34m\u001b[0m\u001b[0m\n",
      "\u001b[0;32m~/miniconda3/envs/epigcn/lib/python3.7/site-packages/six.py\u001b[0m in \u001b[0;36mreraise\u001b[0;34m(tp, value, tb)\u001b[0m\n\u001b[1;32m    690\u001b[0m                 \u001b[0mvalue\u001b[0m \u001b[0;34m=\u001b[0m \u001b[0mtp\u001b[0m\u001b[0;34m(\u001b[0m\u001b[0;34m)\u001b[0m\u001b[0;34m\u001b[0m\u001b[0;34m\u001b[0m\u001b[0m\n\u001b[1;32m    691\u001b[0m             \u001b[0;32mif\u001b[0m \u001b[0mvalue\u001b[0m\u001b[0;34m.\u001b[0m\u001b[0m__traceback__\u001b[0m \u001b[0;32mis\u001b[0m \u001b[0;32mnot\u001b[0m \u001b[0mtb\u001b[0m\u001b[0;34m:\u001b[0m\u001b[0;34m\u001b[0m\u001b[0;34m\u001b[0m\u001b[0m\n\u001b[0;32m--> 692\u001b[0;31m                 \u001b[0;32mraise\u001b[0m \u001b[0mvalue\u001b[0m\u001b[0;34m.\u001b[0m\u001b[0mwith_traceback\u001b[0m\u001b[0;34m(\u001b[0m\u001b[0mtb\u001b[0m\u001b[0;34m)\u001b[0m\u001b[0;34m\u001b[0m\u001b[0;34m\u001b[0m\u001b[0m\n\u001b[0m\u001b[1;32m    693\u001b[0m             \u001b[0;32mraise\u001b[0m \u001b[0mvalue\u001b[0m\u001b[0;34m\u001b[0m\u001b[0;34m\u001b[0m\u001b[0m\n\u001b[1;32m    694\u001b[0m         \u001b[0;32mfinally\u001b[0m\u001b[0;34m:\u001b[0m\u001b[0;34m\u001b[0m\u001b[0;34m\u001b[0m\u001b[0m\n",
      "\u001b[0;32m~/miniconda3/envs/epigcn/lib/python3.7/site-packages/wandb/apis/__init__.py\u001b[0m in \u001b[0;36mwrapper\u001b[0;34m(*args, **kwargs)\u001b[0m\n\u001b[1;32m     58\u001b[0m         \u001b[0mmessage\u001b[0m \u001b[0;34m=\u001b[0m \u001b[0;34m\"Whoa, you found a bug.\"\u001b[0m\u001b[0;34m\u001b[0m\u001b[0;34m\u001b[0m\u001b[0m\n\u001b[1;32m     59\u001b[0m         \u001b[0;32mtry\u001b[0m\u001b[0;34m:\u001b[0m\u001b[0;34m\u001b[0m\u001b[0;34m\u001b[0m\u001b[0m\n\u001b[0;32m---> 60\u001b[0;31m             \u001b[0;32mreturn\u001b[0m \u001b[0mfunc\u001b[0m\u001b[0;34m(\u001b[0m\u001b[0;34m*\u001b[0m\u001b[0margs\u001b[0m\u001b[0;34m,\u001b[0m \u001b[0;34m**\u001b[0m\u001b[0mkwargs\u001b[0m\u001b[0;34m)\u001b[0m\u001b[0;34m\u001b[0m\u001b[0;34m\u001b[0m\u001b[0m\n\u001b[0m\u001b[1;32m     61\u001b[0m         \u001b[0;32mexcept\u001b[0m \u001b[0mrequests\u001b[0m\u001b[0;34m.\u001b[0m\u001b[0mHTTPError\u001b[0m \u001b[0;32mas\u001b[0m \u001b[0merr\u001b[0m\u001b[0;34m:\u001b[0m\u001b[0;34m\u001b[0m\u001b[0;34m\u001b[0m\u001b[0m\n\u001b[1;32m     62\u001b[0m             \u001b[0;32mraise\u001b[0m \u001b[0mCommError\u001b[0m\u001b[0;34m(\u001b[0m\u001b[0merr\u001b[0m\u001b[0;34m.\u001b[0m\u001b[0mresponse\u001b[0m\u001b[0;34m,\u001b[0m \u001b[0merr\u001b[0m\u001b[0;34m)\u001b[0m\u001b[0;34m\u001b[0m\u001b[0;34m\u001b[0m\u001b[0m\n",
      "\u001b[0;32m~/miniconda3/envs/epigcn/lib/python3.7/site-packages/wandb/apis/internal.py\u001b[0m in \u001b[0;36mupsert_run\u001b[0;34m(self, id, name, project, host, group, tags, config, description, entity, state, display_name, notes, repo, job_type, program_path, commit, sweep_name, summary_metrics, num_retries)\u001b[0m\n\u001b[1;32m    779\u001b[0m \u001b[0;34m\u001b[0m\u001b[0m\n\u001b[1;32m    780\u001b[0m         response = self.gql(\n\u001b[0;32m--> 781\u001b[0;31m             mutation, variable_values=variable_values, **kwargs)\n\u001b[0m\u001b[1;32m    782\u001b[0m \u001b[0;34m\u001b[0m\u001b[0m\n\u001b[1;32m    783\u001b[0m         \u001b[0mrun\u001b[0m \u001b[0;34m=\u001b[0m \u001b[0mresponse\u001b[0m\u001b[0;34m[\u001b[0m\u001b[0;34m'upsertBucket'\u001b[0m\u001b[0;34m]\u001b[0m\u001b[0;34m[\u001b[0m\u001b[0;34m'bucket'\u001b[0m\u001b[0;34m]\u001b[0m\u001b[0;34m\u001b[0m\u001b[0;34m\u001b[0m\u001b[0m\n",
      "\u001b[0;32m~/miniconda3/envs/epigcn/lib/python3.7/site-packages/wandb/retry.py\u001b[0m in \u001b[0;36m__call__\u001b[0;34m(self, *args, **kwargs)\u001b[0m\n\u001b[1;32m    100\u001b[0m             \u001b[0;32mexcept\u001b[0m \u001b[0mself\u001b[0m\u001b[0;34m.\u001b[0m\u001b[0m_retryable_exceptions\u001b[0m \u001b[0;32mas\u001b[0m \u001b[0me\u001b[0m\u001b[0;34m:\u001b[0m\u001b[0;34m\u001b[0m\u001b[0;34m\u001b[0m\u001b[0m\n\u001b[1;32m    101\u001b[0m                 \u001b[0;31m# if the secondary check fails, re-raise\u001b[0m\u001b[0;34m\u001b[0m\u001b[0;34m\u001b[0m\u001b[0;34m\u001b[0m\u001b[0m\n\u001b[0;32m--> 102\u001b[0;31m                 \u001b[0;32mif\u001b[0m \u001b[0;32mnot\u001b[0m \u001b[0mcheck_retry_fn\u001b[0m\u001b[0;34m(\u001b[0m\u001b[0me\u001b[0m\u001b[0;34m)\u001b[0m\u001b[0;34m:\u001b[0m\u001b[0;34m\u001b[0m\u001b[0;34m\u001b[0m\u001b[0m\n\u001b[0m\u001b[1;32m    103\u001b[0m                     \u001b[0;32mraise\u001b[0m\u001b[0;34m\u001b[0m\u001b[0;34m\u001b[0m\u001b[0m\n\u001b[1;32m    104\u001b[0m                 if (datetime.datetime.now() - start_time >= retry_timedelta\n",
      "\u001b[0;32m~/miniconda3/envs/epigcn/lib/python3.7/site-packages/wandb/util.py\u001b[0m in \u001b[0;36mno_retry_auth\u001b[0;34m(e)\u001b[0m\n\u001b[1;32m    500\u001b[0m         \u001b[0;32mraise\u001b[0m \u001b[0mCommError\u001b[0m\u001b[0;34m(\u001b[0m\u001b[0;34m\"Invalid or missing api_key.  Run wandb login\"\u001b[0m\u001b[0;34m)\u001b[0m\u001b[0;34m\u001b[0m\u001b[0;34m\u001b[0m\u001b[0m\n\u001b[1;32m    501\u001b[0m     \u001b[0;32melif\u001b[0m \u001b[0mwandb\u001b[0m\u001b[0;34m.\u001b[0m\u001b[0mrun\u001b[0m\u001b[0;34m:\u001b[0m\u001b[0;34m\u001b[0m\u001b[0;34m\u001b[0m\u001b[0m\n\u001b[0;32m--> 502\u001b[0;31m         \u001b[0;32mraise\u001b[0m \u001b[0mCommError\u001b[0m\u001b[0;34m(\u001b[0m\u001b[0;34m\"Permission denied to access {}\"\u001b[0m\u001b[0;34m.\u001b[0m\u001b[0mformat\u001b[0m\u001b[0;34m(\u001b[0m\u001b[0mwandb\u001b[0m\u001b[0;34m.\u001b[0m\u001b[0mrun\u001b[0m\u001b[0;34m.\u001b[0m\u001b[0mpath\u001b[0m\u001b[0;34m)\u001b[0m\u001b[0;34m)\u001b[0m\u001b[0;34m\u001b[0m\u001b[0;34m\u001b[0m\u001b[0m\n\u001b[0m\u001b[1;32m    503\u001b[0m     \u001b[0;32melse\u001b[0m\u001b[0;34m:\u001b[0m\u001b[0;34m\u001b[0m\u001b[0;34m\u001b[0m\u001b[0m\n\u001b[1;32m    504\u001b[0m         \u001b[0;32mraise\u001b[0m \u001b[0mCommError\u001b[0m\u001b[0;34m(\u001b[0m\u001b[0;34m\"Permission denied, ask the project owner to grant you access\"\u001b[0m\u001b[0;34m)\u001b[0m\u001b[0;34m\u001b[0m\u001b[0;34m\u001b[0m\u001b[0m\n",
      "\u001b[0;31mCommError\u001b[0m: Permission denied to access chnsh/epigcn/4h472gr2"
     ]
    },
    {
     "name": "stderr",
     "output_type": "stream",
     "text": [
      "Exception in thread Thread-302:\n",
      "Traceback (most recent call last):\n",
      "  File \"/home/chintan/miniconda3/envs/epigcn/lib/python3.7/threading.py\", line 926, in _bootstrap_inner\n",
      "    self.run()\n",
      "  File \"/home/chintan/miniconda3/envs/epigcn/lib/python3.7/threading.py\", line 870, in run\n",
      "    self._target(*self._args, **self._kwargs)\n",
      "  File \"/home/chintan/miniconda3/envs/epigcn/lib/python3.7/site-packages/wandb/apis/file_stream.py\", line 219, in _thread_body\n",
      "    self._endpoint, json={'complete': False, 'failed': False}))\n",
      "  File \"/home/chintan/miniconda3/envs/epigcn/lib/python3.7/site-packages/wandb/apis/file_stream.py\", line 227, in _handle_response\n",
      "    raise response\n",
      "  File \"/home/chintan/miniconda3/envs/epigcn/lib/python3.7/site-packages/wandb/util.py\", line 564, in request_with_retry\n",
      "    response.raise_for_status()\n",
      "  File \"/home/chintan/miniconda3/envs/epigcn/lib/python3.7/site-packages/requests/models.py\", line 940, in raise_for_status\n",
      "    raise HTTPError(http_error_msg, response=self)\n",
      "requests.exceptions.HTTPError: 404 Client Error: Not Found for url: https://api.wandb.ai/files/chnsh/epigcn/4h472gr2/file_stream\n",
      "\n"
     ]
    }
   ],
   "source": [
    "trainer = ModelTrainer('IID_LSTM', num_nodes=232, input_dim=4, rnn_dim=10, num_layers=3, lr=1e-3)\n",
    "trainer.train(BaselineLSTM)"
   ]
  },
  {
   "cell_type": "code",
   "execution_count": 53,
   "metadata": {},
   "outputs": [
    {
     "data": {
      "text/html": [
       "\n",
       "                Logging results to <a href=\"https://wandb.com\" target=\"_blank\">Weights & Biases</a> <a href=\"https://docs.wandb.com/integrations/jupyter.html\" target=\"_blank\">(Documentation)</a>.<br/>\n",
       "                Project page: <a href=\"https://app.wandb.ai/chnsh/epigcn\" target=\"_blank\">https://app.wandb.ai/chnsh/epigcn</a><br/>\n",
       "                Run page: <a href=\"https://app.wandb.ai/chnsh/epigcn/runs/vxl059t7\" target=\"_blank\">https://app.wandb.ai/chnsh/epigcn/runs/vxl059t7</a><br/>\n",
       "            "
      ],
      "text/plain": [
       "<IPython.core.display.HTML object>"
      ]
     },
     "metadata": {},
     "output_type": "display_data"
    },
    {
     "name": "stderr",
     "output_type": "stream",
     "text": [
      "ERROR:wandb.jupyter:Failed to query for notebook name, you can set it manually with the WANDB_NOTEBOOK_NAME environment variable\n",
      "wandb: WARNING Not logging key \"IID_GRU_input_size=928,hidden_size=400,num_layers=3,lr=0.001/weights/lstm/weight_ih_l0\".  Histograms must have fewer than 512 bins\n",
      "wandb: WARNING Not logging key \"IID_GRU_input_size=928,hidden_size=400,num_layers=3,lr=0.001/weights/lstm/weight_hh_l0\".  Histograms must have fewer than 512 bins\n",
      "wandb: WARNING Not logging key \"IID_GRU_input_size=928,hidden_size=400,num_layers=3,lr=0.001/weights/lstm/bias_ih_l0\".  Histograms must have fewer than 512 bins\n",
      "wandb: WARNING Not logging key \"IID_GRU_input_size=928,hidden_size=400,num_layers=3,lr=0.001/weights/lstm/bias_hh_l0\".  Histograms must have fewer than 512 bins\n",
      "wandb: WARNING Not logging key \"IID_GRU_input_size=928,hidden_size=400,num_layers=3,lr=0.001/weights/lstm/weight_ih_l1\".  Histograms must have fewer than 512 bins\n",
      "wandb: WARNING Not logging key \"IID_GRU_input_size=928,hidden_size=400,num_layers=3,lr=0.001/weights/lstm/weight_hh_l1\".  Histograms must have fewer than 512 bins\n",
      "wandb: WARNING Not logging key \"IID_GRU_input_size=928,hidden_size=400,num_layers=3,lr=0.001/weights/lstm/bias_ih_l1\".  Histograms must have fewer than 512 bins\n",
      "wandb: WARNING Not logging key \"IID_GRU_input_size=928,hidden_size=400,num_layers=3,lr=0.001/weights/lstm/bias_hh_l1\".  Histograms must have fewer than 512 bins\n",
      "wandb: WARNING Not logging key \"IID_GRU_input_size=928,hidden_size=400,num_layers=3,lr=0.001/weights/lstm/weight_ih_l2\".  Histograms must have fewer than 512 bins\n",
      "wandb: WARNING Not logging key \"IID_GRU_input_size=928,hidden_size=400,num_layers=3,lr=0.001/weights/lstm/weight_hh_l2\".  Histograms must have fewer than 512 bins\n",
      "wandb: WARNING Not logging key \"IID_GRU_input_size=928,hidden_size=400,num_layers=3,lr=0.001/weights/lstm/bias_ih_l2\".  Histograms must have fewer than 512 bins\n",
      "wandb: WARNING Not logging key \"IID_GRU_input_size=928,hidden_size=400,num_layers=3,lr=0.001/weights/lstm/bias_hh_l2\".  Histograms must have fewer than 512 bins\n",
      "wandb: WARNING Not logging key \"IID_GRU_input_size=928,hidden_size=400,num_layers=3,lr=0.001/weights/linear/weight\".  Histograms must have fewer than 512 bins\n"
     ]
    }
   ],
   "source": [
    "trainer = ModelTrainer('IID_GRU', num_nodes=232, input_dim=4, rnn_dim=4, num_layers=3, lr=1e-3)\n",
    "trainer.train(BaselineGRU)"
   ]
  },
  {
   "cell_type": "markdown",
   "metadata": {},
   "source": [
    "# Diagnostics and visualizations"
   ]
  },
  {
   "cell_type": "markdown",
   "metadata": {},
   "source": [
    "We now have trained models, we should try and reconstruct predictions of actual data. The issue with our transformed data set is that our samples are now IID (and hence shuffled on the time axis) and therefore we need to reconstruct a diagnosis dataset that is not shuffled on the time axis"
   ]
  },
  {
   "cell_type": "code",
   "execution_count": 220,
   "metadata": {},
   "outputs": [],
   "source": [
    "class DiagnosisConstructor:\n",
    "    def __init__(self, trained_model, normalized_dataset_for_origin, countries_population):\n",
    "        \"\"\"\n",
    "        Takes a trained model and dataset for 1 particular place of origin.\n",
    "        \"\"\"\n",
    "        assert(normalized_dataset_for_origin.shape==(232,366,4))\n",
    "        self.trained_model = trained_model.eval()\n",
    "        self.normalized_dataset = normalized_dataset_for_origin\n",
    "        self.countries_population = countries_population\n",
    "    \n",
    "    def construct_dataset(self, t_lag=10, window_size=10):\n",
    "        \"\"\"\n",
    "        t_lag and window_size should ideally be stored with model \n",
    "        metadata and retrieved to reconstruct the data set.\n",
    "        \"\"\"\n",
    "        start, end = t_lag + window_size, 367\n",
    "        window_indices = np.arange(start, end, step=1)\n",
    "        x_ts = []\n",
    "        y_ts = []\n",
    "        for ix in list(reversed(window_indices)):\n",
    "            x = self.normalized_dataset[:, (ix - window_size) : ix, :]\n",
    "            y = self.normalized_dataset[:, (ix - window_size - t_lag), :]\n",
    "\n",
    "            ## expand dims for y so that there is a single dimension for y\n",
    "            ## and then swap last 2 axis so that counts are again the last axis\n",
    "            y = np.swapaxes(np.expand_dims(y, -1), -1, -2)\n",
    "            x_ts.append(x)\n",
    "            y_ts.append(y)\n",
    "        #we need expand dims to create the batch dimension\n",
    "        return np.stack(x_ts), np.stack(y_ts)\n",
    "    \n",
    "    def truth_and_predictions_from_model(self):\n",
    "        x, y = self.construct_dataset()\n",
    "        dataset = TensorDataset(torch.FloatTensor(x), torch.FloatTensor(y))\n",
    "        dataloader = DataLoader(dataset, batch_size=1, shuffle=False, num_workers=0)\n",
    "        \n",
    "        predictions = []\n",
    "        truths = []\n",
    "        with torch.no_grad():\n",
    "            for batch_x, batch_y in dataloader:\n",
    "                logits = self.trained_model(batch_x)\n",
    "                predictions.append(logits.cpu())\n",
    "                truths.append(batch_y.cpu())\n",
    "        truths, predictions = np.concatenate(truths), np.concatenate(predictions)\n",
    "        unnormalized_truths, unnormalized_preds = truths * self.countries_population[np.newaxis, :, np.newaxis, np.newaxis], predictions * self.countries_population[np.newaxis, :, np.newaxis, np.newaxis]\n",
    "        return truths, predictions, unnormalized_truths, unnormalized_preds"
   ]
  },
  {
   "cell_type": "code",
   "execution_count": 221,
   "metadata": {},
   "outputs": [],
   "source": [
    "trained_model = BaselineGRU(input_size=232*4, hidden_size=400, num_layers=3)"
   ]
  },
  {
   "cell_type": "code",
   "execution_count": 222,
   "metadata": {},
   "outputs": [
    {
     "data": {
      "text/plain": [
       "<All keys matched successfully>"
      ]
     },
     "execution_count": 222,
     "metadata": {},
     "output_type": "execute_result"
    }
   ],
   "source": [
    "trained_model.load_state_dict(\n",
    "    torch.load(\n",
    "        \"model_checkpoints/IID_GRU_input_size=928,hidden_size=400,num_layers=3,lr=0.001_epi_100_mae=9.694148e-05.pth\"\n",
    "    )\n",
    ")"
   ]
  },
  {
   "cell_type": "code",
   "execution_count": 259,
   "metadata": {},
   "outputs": [],
   "source": [
    "diagnostics_constructor = DiagnosisConstructor(trained_model, incidences_normalized[100], countries_population)"
   ]
  },
  {
   "cell_type": "code",
   "execution_count": 260,
   "metadata": {},
   "outputs": [],
   "source": [
    "truths, preds, unnormalized_truths, unnormalized_preds = diagnostics_constructor.truth_and_predictions_from_model()"
   ]
  },
  {
   "cell_type": "code",
   "execution_count": 261,
   "metadata": {},
   "outputs": [
    {
     "data": {
      "text/plain": [
       "(347, 232, 1, 4)"
      ]
     },
     "execution_count": 261,
     "metadata": {},
     "output_type": "execute_result"
    }
   ],
   "source": [
    "preds.shape"
   ]
  },
  {
   "cell_type": "markdown",
   "metadata": {},
   "source": [
    "## Line visualization\n",
    "\n",
    "Line visualization attempts to visualize predictions of a model (of 4 comparments)"
   ]
  },
  {
   "cell_type": "code",
   "execution_count": 262,
   "metadata": {},
   "outputs": [],
   "source": [
    "class LineVisualizer:\n",
    "    def __init__(self, y_true, y_pred, comparment_names=None):\n",
    "        self.y_true = y_true\n",
    "        self.y_pred = y_pred\n",
    "        self.compartment_names = comparment_names\n",
    "        \n",
    "    def plot(self, country_ix=0):\n",
    "        fig, axes = plt.subplots(2, 2, figsize=(15, 10))\n",
    "        fig.suptitle('Temporal Predictions for country: {}'.format(country_ix))\n",
    "        for row_ix, row in enumerate(axes):\n",
    "            for ix, ax in enumerate(row):\n",
    "                compartment = (row_ix * len(row)) + ix\n",
    "                ax.set_title(self.compartment_names[compartment])\n",
    "                ax.plot(self.y_true[:, country_ix, :, compartment], label='Truth')\n",
    "                ax.plot(self.y_pred[:, country_ix, :, compartment], label='Predictions')\n",
    "                ax.legend()"
   ]
  },
  {
   "cell_type": "code",
   "execution_count": 272,
   "metadata": {},
   "outputs": [
    {
     "data": {
      "image/png": "[encoded data removed]",
      "text/plain": [
       "<Figure size 1080x720 with 4 Axes>"
      ]
     },
     "metadata": {
      "needs_background": "light"
     },
     "output_type": "display_data"
    }
   ],
   "source": [
    "LineVisualizer(truths, preds, compartments).plot(221)"
   ]
  },
  {
   "cell_type": "markdown",
   "metadata": {},
   "source": [
    "# PyTorch Geometric Implementation"
   ]
  },
  {
   "cell_type": "markdown",
   "metadata": {},
   "source": [
    "PyTorch Geometric requires the graph data to be setup in a particular way. \n",
    "\n",
    "See https://pytorch-geometric.readthedocs.io/en/latest/notes/introduction.html for reference.\n",
    "\n",
    "Also https://pytorch-geometric.readthedocs.io/en/latest/notes/create_dataset.html"
   ]
  },
  {
   "cell_type": "markdown",
   "metadata": {},
   "source": [
    "### Step 1. Setup graph dataset"
   ]
  },
  {
   "cell_type": "code",
   "execution_count": 276,
   "metadata": {},
   "outputs": [],
   "source": [
    "import torch\n",
    "from torch_geometric.data import Data\n",
    "\n",
    "def setup_geometric_data(adj_mx):\n",
    "    \"\"\"\n",
    "    Sets up data for PyTorch Geometric\n",
    "    \"\"\"\n",
    "    edge_index = []\n",
    "    edge_weights = []\n",
    "    for row_ix, row in enumerate(adj_mx):\n",
    "        for col_ix, weight in enumerate(row):\n",
    "            if weight > 0:\n",
    "                edge_index.append([row_ix, col_ix])\n",
    "                edge_weights.append(weight)\n",
    "    \n",
    "    edge_index = torch.LongTensor(edge_index).t().contiguous()\n",
    "    edge_weights = torch.FloatTensor(edge_weights)\n",
    "    return Data(edge_index=edge_index, edge_weights=edge_weights)"
   ]
  },
  {
   "cell_type": "markdown",
   "metadata": {},
   "source": [
    "### Step 2. Model implementation\n",
    "\n",
    "The following model has 2 GCN modules - one for input and one for hidden"
   ]
  },
  {
   "cell_type": "code",
   "execution_count": null,
   "metadata": {},
   "outputs": [],
   "source": [
    "class BaselineGConvNet(torch.nn.Module):\n",
    "    def __init__(self, input_size, hidden_size, num_layers=1, **kwargs):\n",
    "        super(BaselineGConvNet, self).__init__()\n",
    "        \"\"\"\n",
    "        multiple layers not implemented yet!\n",
    "        \"\"\"\n",
    "        self.input_size = input_size\n",
    "        self.hidden_size = hidden_size\n",
    "        self.geometric_data = geometric_data.to(device) #moving to device\n",
    "        self.input_gconv = GCNConv(input_size, input_size)\n",
    "        self.hidden_gconv = GCNConv(hidden_size, hidden_size)\n",
    "        self.gru = nn.GRUCell(input_size, hidden_size)\n",
    "        self.linear = nn.Linear(hidden_size * num_layers, input_size) \n",
    "    \n",
    "    def forward(self, gru_input):\n",
    "        edge_index, edge_weights = self.geometric_data.edge_index, self.geometric_data.edge_weights\n",
    "        b, n_countries, seq_len, n_compartments = gru_input.size()\n",
    "        hn = torch.zeros(b, self.hidden_size, device=device)\n",
    "        for t in range(seq_len):\n",
    "            t_input = self.input_gconv(gru_input[:,:, t, :].contiguous().view(b, -1), edge_index, edge_weights)\n",
    "            t_hn = self.hidden_gconv(hn, edge_index, edge_weights)\n",
    "            hn = self.gru(t_input, t_hn)\n",
    "        return self.linear(hn).view(b, n_countries, 1, n_compartments)"
   ]
  },
  {
   "cell_type": "markdown",
   "metadata": {},
   "source": [
    "The following module has 2 GCN modules (2 layers) which acts as the GCNCell"
   ]
  },
  {
   "cell_type": "code",
   "execution_count": 14,
   "metadata": {},
   "outputs": [],
   "source": [
    "import torch.nn.functional as F\n",
    "from torch_geometric.nn import GCNConv\n",
    "import math\n",
    "\n",
    "# class GConvOp(torch.nn.Module):\n",
    "#     def __init__(self, num_nodes, input_dim, rnn_dim, geometric_data):\n",
    "#         super(GConvOp, self).__init__()\n",
    "#         self.num_nodes = num_nodes\n",
    "#         self.input_dim = input_dim\n",
    "#         self.rnn_dim = rnn_dim\n",
    "#         self.geometric_data = geometric_data.to(device)\n",
    "#         self.gconv_1 = GCNConv(num_nodes * (input_dim + rnn_dim), 2 * num_nodes * (input_dim + rnn_dim))\n",
    "#         self.gconv_2 = GCNConv(2 * num_nodes * (input_dim + rnn_dim), num_nodes * (input_dim + rnn_dim))\n",
    "    \n",
    "#     def forward(self, gru_input, hidden_state):\n",
    "#         \"\"\"\n",
    "#         :gru_input: (b, num_nodes * input_dim)\n",
    "#         :hidden_state: (b, num_nodes * rnn_dim)\n",
    "#         \"\"\"\n",
    "#         b = gru_input.size(0)\n",
    "#         edge_index, edge_weights = self.geometric_data.edge_index, self.geometric_data.edge_weights\n",
    "#         input_and_state = torch.cat((gru_input, hidden_state), dim=-1)\n",
    "#         x = self.gconv_1(input_and_state.view(b, -1), edge_index, edge_weights)\n",
    "#         x = F.relu(x)\n",
    "#         x = F.dropout(x, training=self.training)\n",
    "#         x = self.gconv_2(x, edge_index, edge_weights)\n",
    "#         inp_slice = self.input_dim * self.num_nodes\n",
    "#         hidden_slice = self.rnn_dim * self.num_nodes\n",
    "#         gru_input, hidden_state = torch.split(x.view(b, -1), (inp_slice, hidden_slice), dim=-1)\n",
    "#         return gru_input, hidden_state\n",
    "    \n",
    "    \n",
    "# class GConvOpInputOnly(torch.nn.Module):\n",
    "#     def __init__(self, num_nodes, input_dim, geometric_data):\n",
    "#         super(GConvOpInputOnly, self).__init__()\n",
    "#         self.num_nodes = num_nodes\n",
    "#         self.input_dim = input_dim\n",
    "#         self.geometric_data = geometric_data.to(device)\n",
    "#         self.gconv_1 = GCNConv(num_nodes * (input_dim), 2 * num_nodes * (input_dim))\n",
    "#         self.gconv_2 = GCNConv(2 * num_nodes * (input_dim), num_nodes * (input_dim))\n",
    "    \n",
    "#     def forward(self, gru_input):\n",
    "#         \"\"\"\n",
    "#         :gru_input: (b, num_nodes * input_dim)\n",
    "#         :hidden_state: (b, num_nodes * rnn_dim)\n",
    "#         \"\"\"\n",
    "#         b = gru_input.size(0)\n",
    "#         edge_index, edge_weights = self.geometric_data.edge_index, self.geometric_data.edge_weights\n",
    "#         x = self.gconv_1(gru_input, edge_index, edge_weights)\n",
    "#         x = F.relu(x)\n",
    "#         x = F.dropout(x, training=self.training)\n",
    "#         x = self.gconv_2(x, edge_index, edge_weights)\n",
    "#         return x\n",
    "    \n",
    "class GConvOpInputOnly(torch.nn.Module):\n",
    "    def __init__(self, num_nodes, input_dim, normalized_adj_mx, hidden_dim=16):\n",
    "        super(GConvOpInputOnly, self).__init__()\n",
    "        self.num_nodes = num_nodes\n",
    "        self.input_dim = input_dim\n",
    "        self.normalized_adj_mx = normalized_adj_mx.to(device)\n",
    "        self.inp_to_hidden = nn.Parameter(torch.Tensor(input_dim, hidden_dim))\n",
    "        self.hidden_to_op = nn.Parameter(torch.Tensor(hidden_dim, input_dim))\n",
    "        self.reset_parameters()\n",
    "    \n",
    "    def reset_parameters(self):\n",
    "        torch.nn.init.kaiming_uniform_(self.inp_to_hidden, a=math.sqrt(5))\n",
    "        torch.nn.init.kaiming_uniform_(self.hidden_to_op, a=math.sqrt(5))\n",
    "    \n",
    "    def forward(self, gru_input):\n",
    "        \"\"\"\n",
    "        :gru_input: (b, num_nodes, input_dim)\n",
    "        \"\"\"\n",
    "        x = torch.matmul(self.normalized_adj_mx, gru_input)\n",
    "        x = torch.matmul(x, self.inp_to_hidden)\n",
    "        x = F.relu(x)\n",
    "#         x = F.dropout(x, training=self.training)\n",
    "        x = torch.matmul(self.normalized_adj_mx, x)\n",
    "        return torch.matmul(x, self.hidden_to_op)\n",
    "\n",
    "\n",
    "class GConvGRU(torch.nn.Module):\n",
    "    def __init__(self, num_nodes, input_dim, rnn_dim, num_layers=1, **kwargs):\n",
    "        super(GConvGRU, self).__init__()\n",
    "        \"\"\"\n",
    "        multiple layers not implemented yet!\n",
    "        \"\"\"\n",
    "        self.input_size = num_nodes * input_dim\n",
    "        self.hidden_size = num_nodes * rnn_dim\n",
    "#         self.gconv_op = GConvOp(num_nodes, input_dim, rnn_dim, geometric_data=geometric_data)\n",
    "#         self.gconv_op = GConvOpInputOnly(num_nodes, input_dim, geometric_data=geometric_data)\n",
    "        self.gconv_op = GConvOpInputOnly(num_nodes, input_dim, normalized_adj_mx=torch.FloatTensor(normalized_adj_mx))\n",
    "        self.gru = nn.GRUCell(self.input_size, self.hidden_size)\n",
    "        self.linear = nn.Linear(self.hidden_size * num_layers, self.input_size) \n",
    "    \n",
    "    def forward(self, gru_input):\n",
    "        b, n_countries, seq_len, n_compartments = gru_input.size()\n",
    "        hn = torch.zeros(b, self.hidden_size, device=device)\n",
    "        for t in range(seq_len):\n",
    "#             t_input, t_hn = self.gconv_op(gru_input[:,:, t, :].contiguous().view(b, -1), hn)\n",
    "            t_input = self.gconv_op(gru_input[:,:, t, :].contiguous())\n",
    "            hn = self.gru(t_input.view(b, -1), hn)\n",
    "        return self.linear(hn).view(b, n_countries, 1, n_compartments)"
   ]
  },
  {
   "cell_type": "code",
   "execution_count": 11,
   "metadata": {},
   "outputs": [],
   "source": [
    "import scipy.sparse as sp\n",
    "def normalize_adj(adj):\n",
    "    \"\"\"Symmetrically normalize adjacency matrix.\"\"\"\n",
    "    adj = sp.coo_matrix(adj)\n",
    "    rowsum = np.array(adj.sum(1))\n",
    "    d_inv_sqrt = np.power(rowsum, -0.5).flatten()\n",
    "    d_inv_sqrt[np.isinf(d_inv_sqrt)] = 0.\n",
    "    d_mat_inv_sqrt = sp.diags(d_inv_sqrt)\n",
    "    return adj.dot(d_mat_inv_sqrt).transpose().dot(d_mat_inv_sqrt).tocoo()\n",
    "\n",
    "def preprocess_adj(adj):\n",
    "    \"\"\"Preprocessing of adjacency matrix for simple GCN model and conversion to tuple representation.\"\"\"\n",
    "    adj_normalized = normalize_adj(adj + sp.eye(adj.shape[0]))\n",
    "    return adj_normalized.todense()"
   ]
  },
  {
   "cell_type": "code",
   "execution_count": 12,
   "metadata": {},
   "outputs": [],
   "source": [
    "adj_mx = np.load('data/EpiGCN/adj_mx_raw.npy')\n",
    "# geometric_data = setup_geometric_data(adj_mx=adj_mx)\n",
    "normalized_adj_mx = preprocess_adj(adj_mx)"
   ]
  },
  {
   "cell_type": "code",
   "execution_count": null,
   "metadata": {},
   "outputs": [
    {
     "data": {
      "text/html": [
       "\n",
       "                Logging results to <a href=\"https://wandb.com\" target=\"_blank\">Weights & Biases</a> <a href=\"https://docs.wandb.com/integrations/jupyter.html\" target=\"_blank\">(Documentation)</a>.<br/>\n",
       "                Project page: <a href=\"https://app.wandb.ai/chnsh/epigcn\" target=\"_blank\">https://app.wandb.ai/chnsh/epigcn</a><br/>\n",
       "                Run page: <a href=\"https://app.wandb.ai/chnsh/epigcn/runs/oezeccg1\" target=\"_blank\">https://app.wandb.ai/chnsh/epigcn/runs/oezeccg1</a><br/>\n",
       "            "
      ],
      "text/plain": [
       "<IPython.core.display.HTML object>"
      ]
     },
     "metadata": {},
     "output_type": "display_data"
    },
    {
     "name": "stderr",
     "output_type": "stream",
     "text": [
      "ERROR:wandb.jupyter:Failed to query for notebook name, you can set it manually with the WANDB_NOTEBOOK_NAME environment variable\n"
     ]
    }
   ],
   "source": [
    "trainer = ModelTrainer('scratch_GConvInputOnly_GRU', num_nodes=232, input_dim=4, rnn_dim=10, num_layers=1, lr=1e-4)\n",
    "trainer.train(GConvGRU)"
   ]
  },
  {
   "cell_type": "code",
   "execution_count": null,
   "metadata": {},
   "outputs": [],
   "source": []
  }
 ],
 "metadata": {
  "kernelspec": {
   "display_name": "Python [conda env:epigcn] *",
   "language": "python",
   "name": "conda-env-epigcn-py"
  },
  "language_info": {
   "codemirror_mode": {
    "name": "ipython",
    "version": 3
   },
   "file_extension": ".py",
   "mimetype": "text/x-python",
   "name": "python",
   "nbconvert_exporter": "python",
   "pygments_lexer": "ipython3",
   "version": "3.7.5"
  }
 },
 "nbformat": 4,
 "nbformat_minor": 4
}
