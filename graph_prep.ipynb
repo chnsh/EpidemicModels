{
 "cells": [
  {
   "cell_type": "code",
   "execution_count": 1,
   "metadata": {},
   "outputs": [],
   "source": [
    "%matplotlib inline\n",
    "import pandas as pd\n",
    "import numpy as np\n",
    "import matplotlib.pyplot as plt\n",
    "import logging\n",
    "import h5py\n",
    "import gzip\n",
    "import json\n",
    "import os\n",
    "import tqdm\n",
    "\n",
    "import warnings\n",
    "warnings.filterwarnings('ignore')\n",
    "\n",
    "import ipywidgets as widgets\n",
    "from ipywidgets import interact, interact_manual\n",
    "\n",
    "logging.basicConfig()\n",
    "logger = logging.getLogger()\n",
    "logger.setLevel(logging.INFO)"
   ]
  },
  {
   "cell_type": "code",
   "execution_count": 2,
   "metadata": {},
   "outputs": [],
   "source": [
    "raw_graph = pd.read_csv('data/travel_graph_country_level.tsv', delimiter='\\t')"
   ]
  },
  {
   "cell_type": "code",
   "execution_count": 3,
   "metadata": {},
   "outputs": [],
   "source": [
    "import json\n",
    "countries_metadata = json.load(open('data/countries_metadata.json'))"
   ]
  },
  {
   "cell_type": "markdown",
   "metadata": {},
   "source": [
    "## Country ISO3 to code mapping"
   ]
  },
  {
   "cell_type": "code",
   "execution_count": 4,
   "metadata": {},
   "outputs": [],
   "source": [
    "countries_iso_to_id_map = dict([(value['country_iso3'], int(key)) for key, value in countries_metadata.items()])"
   ]
  },
  {
   "cell_type": "code",
   "execution_count": 13,
   "metadata": {},
   "outputs": [],
   "source": [
    "with gzip.open('data/output_0000.h5.gz') as fp:\n",
    "    f = h5py.File(fp,'r')\n",
    "    compartments = f['dset'].attrs['Columns']\n",
    "    country_ids = f['dset'].attrs['SelectedCountries']\n",
    "    prevalence = np.array(f['dset/countries/cumulative'], dtype=np.int64)\n",
    "    incidence = np.array(f['dset/countries/transitions'], dtype=np.int64)"
   ]
  },
  {
   "cell_type": "code",
   "execution_count": 15,
   "metadata": {
    "collapsed": true,
    "jupyter": {
     "outputs_hidden": true
    }
   },
   "outputs": [
    {
     "data": {
      "text/plain": [
       "{71: 0,\n",
       " 140: 1,\n",
       " 149: 2,\n",
       " 222: 3,\n",
       " 103: 4,\n",
       " 183: 5,\n",
       " 199: 6,\n",
       " 53: 7,\n",
       " 113: 8,\n",
       " 29: 9,\n",
       " 221: 10,\n",
       " 207: 11,\n",
       " 47: 12,\n",
       " 28: 13,\n",
       " 213: 14,\n",
       " 76: 15,\n",
       " 157: 16,\n",
       " 109: 17,\n",
       " 181: 18,\n",
       " 154: 19,\n",
       " 164: 20,\n",
       " 178: 21,\n",
       " 50: 22,\n",
       " 79: 23,\n",
       " 108: 24,\n",
       " 185: 25,\n",
       " 7: 26,\n",
       " 31: 27,\n",
       " 128: 28,\n",
       " 91: 29,\n",
       " 75: 30,\n",
       " 227: 31,\n",
       " 70: 32,\n",
       " 80: 33,\n",
       " 81: 34,\n",
       " 12: 35,\n",
       " 179: 36,\n",
       " 176: 37,\n",
       " 172: 38,\n",
       " 210: 39,\n",
       " 94: 40,\n",
       " 67: 41,\n",
       " 200: 42,\n",
       " 129: 43,\n",
       " 218: 44,\n",
       " 215: 45,\n",
       " 110: 46,\n",
       " 188: 47,\n",
       " 2: 48,\n",
       " 82: 49,\n",
       " 187: 50,\n",
       " 150: 51,\n",
       " 61: 52,\n",
       " 177: 53,\n",
       " 119: 54,\n",
       " 16: 55,\n",
       " 180: 56,\n",
       " 95: 57,\n",
       " 208: 58,\n",
       " 147: 59,\n",
       " 54: 60,\n",
       " 86: 61,\n",
       " 15: 62,\n",
       " 88: 63,\n",
       " 60: 64,\n",
       " 90: 65,\n",
       " 158: 66,\n",
       " 230: 67,\n",
       " 58: 68,\n",
       " 8: 69,\n",
       " 144: 70,\n",
       " 89: 71,\n",
       " 202: 72,\n",
       " 130: 73,\n",
       " 104: 74,\n",
       " 138: 75,\n",
       " 10: 76,\n",
       " 13: 77,\n",
       " 161: 78,\n",
       " 35: 79,\n",
       " 193: 80,\n",
       " 111: 81,\n",
       " 229: 82,\n",
       " 72: 83,\n",
       " 48: 84,\n",
       " 153: 85,\n",
       " 5: 86,\n",
       " 84: 87,\n",
       " 117: 88,\n",
       " 22: 89,\n",
       " 191: 90,\n",
       " 112: 91,\n",
       " 73: 92,\n",
       " 120: 93,\n",
       " 214: 94,\n",
       " 107: 95,\n",
       " 62: 96,\n",
       " 116: 97,\n",
       " 85: 98,\n",
       " 0: 99,\n",
       " 206: 100,\n",
       " 115: 101,\n",
       " 34: 102,\n",
       " 25: 103,\n",
       " 45: 104,\n",
       " 160: 105,\n",
       " 205: 106,\n",
       " 49: 107,\n",
       " 78: 108,\n",
       " 159: 109,\n",
       " 63: 110,\n",
       " 106: 111,\n",
       " 201: 112,\n",
       " 125: 113,\n",
       " 216: 114,\n",
       " 122: 115,\n",
       " 134: 116,\n",
       " 3: 117,\n",
       " 52: 118,\n",
       " 223: 119,\n",
       " 43: 120,\n",
       " 123: 121,\n",
       " 41: 122,\n",
       " 51: 123,\n",
       " 135: 124,\n",
       " 169: 125,\n",
       " 101: 126,\n",
       " 197: 127,\n",
       " 39: 128,\n",
       " 139: 129,\n",
       " 1: 130,\n",
       " 27: 131,\n",
       " 55: 132,\n",
       " 83: 133,\n",
       " 23: 134,\n",
       " 6: 135,\n",
       " 65: 136,\n",
       " 190: 137,\n",
       " 74: 138,\n",
       " 231: 139,\n",
       " 145: 140,\n",
       " 196: 141,\n",
       " 211: 142,\n",
       " 141: 143,\n",
       " 32: 144,\n",
       " 121: 145,\n",
       " 155: 146,\n",
       " 137: 147,\n",
       " 114: 148,\n",
       " 19: 149,\n",
       " 99: 150,\n",
       " 146: 151,\n",
       " 11: 152,\n",
       " 136: 153,\n",
       " 220: 154,\n",
       " 195: 155,\n",
       " 105: 156,\n",
       " 170: 157,\n",
       " 219: 158,\n",
       " 98: 159,\n",
       " 203: 160,\n",
       " 217: 161,\n",
       " 173: 162,\n",
       " 64: 163,\n",
       " 228: 164,\n",
       " 127: 165,\n",
       " 212: 166,\n",
       " 42: 167,\n",
       " 156: 168,\n",
       " 192: 169,\n",
       " 182: 170,\n",
       " 46: 171,\n",
       " 59: 172,\n",
       " 18: 173,\n",
       " 102: 174,\n",
       " 36: 175,\n",
       " 168: 176,\n",
       " 26: 177,\n",
       " 87: 178,\n",
       " 126: 179,\n",
       " 124: 180,\n",
       " 40: 181,\n",
       " 97: 182,\n",
       " 66: 183,\n",
       " 92: 184,\n",
       " 209: 185,\n",
       " 174: 186,\n",
       " 93: 187,\n",
       " 171: 188,\n",
       " 224: 189,\n",
       " 226: 190,\n",
       " 163: 191,\n",
       " 20: 192,\n",
       " 225: 193,\n",
       " 152: 194,\n",
       " 30: 195,\n",
       " 38: 196,\n",
       " 44: 197,\n",
       " 204: 198,\n",
       " 131: 199,\n",
       " 194: 200,\n",
       " 132: 201,\n",
       " 68: 202,\n",
       " 162: 203,\n",
       " 175: 204,\n",
       " 198: 205,\n",
       " 100: 206,\n",
       " 37: 207,\n",
       " 143: 208,\n",
       " 9: 209,\n",
       " 96: 210,\n",
       " 165: 211,\n",
       " 167: 212,\n",
       " 166: 213,\n",
       " 151: 214,\n",
       " 69: 215,\n",
       " 133: 216,\n",
       " 142: 217,\n",
       " 186: 218,\n",
       " 21: 219,\n",
       " 189: 220,\n",
       " 4: 221,\n",
       " 184: 222,\n",
       " 17: 223,\n",
       " 118: 224,\n",
       " 14: 225,\n",
       " 24: 226,\n",
       " 148: 227,\n",
       " 33: 228,\n",
       " 77: 229,\n",
       " 56: 230,\n",
       " 57: 231}"
      ]
     },
     "execution_count": 15,
     "metadata": {},
     "output_type": "execute_result"
    }
   ],
   "source": [
    "country_id_to_idx_map = dict((cid, ix) for ix, cid in enumerate(country_ids))\n",
    "country_id_to_idx_map"
   ]
  },
  {
   "cell_type": "markdown",
   "metadata": {},
   "source": [
    "## Construct graph"
   ]
  },
  {
   "cell_type": "code",
   "execution_count": 16,
   "metadata": {},
   "outputs": [],
   "source": [
    "def construct_adj_matrix(raw_graph, countries_iso_to_id_map):\n",
    "    \"\"\"\n",
    "    raw_graph: list of edges and edge value\n",
    "    \"\"\"\n",
    "    n_countries = len(countries_iso_to_id_map)\n",
    "    adj_mx = np.zeros((n_countries, n_countries), dtype=np.float)\n",
    "    for idx, row in raw_graph.iterrows():\n",
    "        loc_a, loc_b = (\n",
    "            # get the correct ordering according to the indices in the construction\n",
    "            country_id_to_idx_map[countries_iso_to_id_map[row[\"country_i\"]]],\n",
    "            country_id_to_idx_map[countries_iso_to_id_map[row[\"country_j\"]]],\n",
    "        )\n",
    "        adj_mx[loc_a, loc_b] = row[\"avg_daily_travelers\"]\n",
    "        adj_mx[loc_b, loc_a] = row[\"avg_daily_travelers\"]\n",
    "    return adj_mx"
   ]
  },
  {
   "cell_type": "code",
   "execution_count": 17,
   "metadata": {},
   "outputs": [],
   "source": [
    "adj_mx = construct_adj_matrix(raw_graph, countries_iso_to_id_map)"
   ]
  },
  {
   "cell_type": "code",
   "execution_count": 18,
   "metadata": {},
   "outputs": [
    {
     "data": {
      "text/plain": [
       "True"
      ]
     },
     "execution_count": 18,
     "metadata": {},
     "output_type": "execute_result"
    }
   ],
   "source": [
    "# Sanity check\n",
    "(adj_mx.T == adj_mx).all()"
   ]
  },
  {
   "cell_type": "markdown",
   "metadata": {},
   "source": [
    "## Visualize"
   ]
  },
  {
   "cell_type": "code",
   "execution_count": 19,
   "metadata": {},
   "outputs": [
    {
     "data": {
      "text/plain": [
       "<matplotlib.axes._subplots.AxesSubplot at 0x7fced5701dd0>"
      ]
     },
     "execution_count": 19,
     "metadata": {},
     "output_type": "execute_result"
    },
    {
     "data": {
      "image/png": "[encoded data removed]",
      "text/plain": [
       "<Figure size 720x720 with 2 Axes>"
      ]
     },
     "metadata": {
      "needs_background": "light"
     },
     "output_type": "display_data"
    }
   ],
   "source": [
    "import seaborn as sns\n",
    "plt.figure(figsize=(10, 10))\n",
    "# sns.heatmap((adj_mx - adj_mx.mean(axis=1))/adj_mx.std(axis=1), cmap=sns.cubehelix_palette(8))\n",
    "sns.heatmap((adj_mx), cmap=sns.cubehelix_palette(8))"
   ]
  },
  {
   "cell_type": "markdown",
   "metadata": {},
   "source": [
    "## Construct threshold gaussian kernel according to DCRNN\n",
    "\n",
    "References:\n",
    "1. http://pages.stat.wisc.edu/~mchung/teaching/MIA/reading/diffusion.gaussian.kernel.pdf.pdf"
   ]
  },
  {
   "cell_type": "code",
   "execution_count": 20,
   "metadata": {},
   "outputs": [],
   "source": [
    "def get_threshold_gaussian_kernel(adj_mx, normalized_k=0.1):\n",
    "    flat = adj_mx[~np.isinf(adj_mx)].flatten()\n",
    "    std = flat.std()\n",
    "    adj_mx = np.exp(-np.square(adj_mx / std))\n",
    "    # Make the adjacent matrix symmetric by taking the max.\n",
    "    # adj_mx = np.maximum.reduce([adj_mx, adj_mx.T])\n",
    "\n",
    "    # Sets entries that lower than a threshold, i.e., k, to zero for sparsity.\n",
    "    adj_mx[adj_mx < normalized_k] = 0\n",
    "    return adj_mx"
   ]
  },
  {
   "cell_type": "code",
   "execution_count": 21,
   "metadata": {},
   "outputs": [
    {
     "data": {
      "text/plain": [
       "<matplotlib.axes._subplots.AxesSubplot at 0x7fced560aed0>"
      ]
     },
     "execution_count": 21,
     "metadata": {},
     "output_type": "execute_result"
    },
    {
     "data": {
      "image/png": "[encoded data removed]",
      "text/plain": [
       "<Figure size 720x720 with 2 Axes>"
      ]
     },
     "metadata": {
      "needs_background": "light"
     },
     "output_type": "display_data"
    }
   ],
   "source": [
    "adj_mx = get_threshold_gaussian_kernel(adj_mx)\n",
    "import seaborn as sns\n",
    "plt.figure(figsize=(10, 10))\n",
    "# sns.heatmap((adj_mx - adj_mx.mean(axis=1))/adj_mx.std(axis=1), cmap=sns.cubehelix_palette(8))\n",
    "sns.heatmap((adj_mx), cmap=sns.cubehelix_palette(8))"
   ]
  },
  {
   "cell_type": "markdown",
   "metadata": {},
   "source": [
    "## Save Adj Mx"
   ]
  },
  {
   "cell_type": "code",
   "execution_count": 22,
   "metadata": {},
   "outputs": [],
   "source": [
    "np.save('data/EpiGCN/adj_mx', adj_mx)"
   ]
  },
  {
   "cell_type": "markdown",
   "metadata": {},
   "source": [
    "## NetworkX Graph creation"
   ]
  },
  {
   "cell_type": "code",
   "execution_count": 48,
   "metadata": {},
   "outputs": [],
   "source": [
    "import networkx as nx\n",
    "\n",
    "G = nx.from_numpy_array(adj_mx, create_using=nx.Graph)"
   ]
  },
  {
   "cell_type": "code",
   "execution_count": 53,
   "metadata": {},
   "outputs": [
    {
     "data": {
      "text/plain": [
       "False"
      ]
     },
     "execution_count": 53,
     "metadata": {},
     "output_type": "execute_result"
    }
   ],
   "source": [
    "nx.is_frozen(G)"
   ]
  },
  {
   "cell_type": "markdown",
   "metadata": {},
   "source": [
    "## Implement graph clustering"
   ]
  },
  {
   "cell_type": "markdown",
   "metadata": {},
   "source": [
    "The approach we can try is to use HCS Clustering algorithm based on min-cut algorithm to find sets of highly connected subgraphs\n",
    "\n",
    "see: https://en.wikipedia.org/wiki/HCS_clustering_algorithm\n",
    "\n",
    "reference implementation: https://github.com/53RT/Highly-Connected-Subgraphs-Clustering-HCS/blob/master/hcs.py"
   ]
  },
  {
   "cell_type": "code",
   "execution_count": 93,
   "metadata": {},
   "outputs": [],
   "source": [
    "def connected_component_subgraphs(G):\n",
    "    for c in nx.connected_components(G):\n",
    "        yield G.subgraph(c).copy()\n",
    "\n",
    "class HCSClustering:\n",
    "    def is_highly_connected(self, graph, min_cut_edges):\n",
    "        return len(min_cut_edges) > (len(graph) / 2.0)\n",
    "    \n",
    "    def disconnect_components(self, graph, min_cut_edges):\n",
    "        for edge in min_cut_edges:\n",
    "            graph.remove_edge(*edge)\n",
    "        return graph\n",
    "    \n",
    "    def hcs(self, graph):\n",
    "        min_cut_edges = nx.minimum_edge_cut(graph)\n",
    "        if len(graph) > 2 and not self.is_highly_connected(graph, min_cut_edges):\n",
    "            graph = self.disconnect_components(graph, min_cut_edges)\n",
    "            disconnected_components = list(connected_component_subgraphs(graph))\n",
    "            if len(disconnected_components) > 2:\n",
    "                raise Exception(\"more than 2 components\")\n",
    "            c1, c2 = self.hcs(disconnected_components[0]), self.hcs(disconnected_components[1])\n",
    "            graph = nx.compose(c1, c2)\n",
    "        return graph"
   ]
  },
  {
   "cell_type": "code",
   "execution_count": 111,
   "metadata": {},
   "outputs": [],
   "source": [
    "clustered_graph = HCSClustering().hcs(G.copy())"
   ]
  },
  {
   "cell_type": "code",
   "execution_count": 114,
   "metadata": {},
   "outputs": [
    {
     "data": {
      "text/plain": [
       "<generator object connected_components at 0x7fe3de26cdd0>"
      ]
     },
     "execution_count": 114,
     "metadata": {},
     "output_type": "execute_result"
    }
   ],
   "source": [
    "nx.connected_components(clustered_graph)"
   ]
  },
  {
   "cell_type": "code",
   "execution_count": 117,
   "metadata": {},
   "outputs": [],
   "source": [
    "nx.write_gpickle(clustered_graph, 'data/EpiGCN/hcs_components.gpkl')"
   ]
  },
  {
   "cell_type": "code",
   "execution_count": null,
   "metadata": {},
   "outputs": [],
   "source": []
  }
 ],
 "metadata": {
  "kernelspec": {
   "display_name": "Python [conda env:epigcn] *",
   "language": "python",
   "name": "conda-env-epigcn-py"
  },
  "language_info": {
   "codemirror_mode": {
    "name": "ipython",
    "version": 3
   },
   "file_extension": ".py",
   "mimetype": "text/x-python",
   "name": "python",
   "nbconvert_exporter": "python",
   "pygments_lexer": "ipython3",
   "version": "3.7.5"
  }
 },
 "nbformat": 4,
 "nbformat_minor": 4
}
